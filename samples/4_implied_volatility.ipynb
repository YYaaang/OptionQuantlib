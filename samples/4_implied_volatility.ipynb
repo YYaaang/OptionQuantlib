{
 "cells": [
  {
   "metadata": {},
   "cell_type": "markdown",
   "source": [
    "# 5 Implied Volatility\n",
    "\n",
    "This notebook demonstrates implied volatility calculations using QuantLib, comparing Black-Scholes and Heston models.\n",
    "We'll calculate implied volatilities for options and analyze their deltas."
   ],
   "id": "95cb46db7f7030af"
  },
  {
   "metadata": {
    "ExecuteTime": {
     "end_time": "2025-06-24T08:51:16.651442Z",
     "start_time": "2025-06-24T08:51:15.744328Z"
    }
   },
   "cell_type": "code",
   "source": [
    "import sys\n",
    "import os\n",
    "import pandas as pd\n",
    "\n",
    "# Display current working directory and update Python path\n",
    "current_path = os.getcwd()\n",
    "print(\"Current Path:\", current_path)\n",
    "current_path = current_path.replace('/samples', '')\n",
    "print(sys.path)\n",
    "sys.path.append(current_path)\n",
    "print(sys.path)\n"
   ],
   "id": "7ce87479e4db9d56",
   "outputs": [
    {
     "name": "stdout",
     "output_type": "stream",
     "text": [
      "Current Path: /Users/yang/PycharmProjects/Option/samples\n",
      "['/Users/yang/PycharmProjects/Option/samples', '/Users/yang/PycharmProjects/Option', '/Applications/PyCharm.app/Contents/plugins/python-ce/helpers/pydev', '/Applications/PyCharm.app/Contents/plugins/python-ce/helpers/jupyter_debug', '/opt/anaconda3/lib/python312.zip', '/opt/anaconda3/lib/python3.12', '/opt/anaconda3/lib/python3.12/lib-dynload', '', '/opt/anaconda3/lib/python3.12/site-packages', '/opt/anaconda3/lib/python3.12/site-packages/aeosa']\n",
      "['/Users/yang/PycharmProjects/Option/samples', '/Users/yang/PycharmProjects/Option', '/Applications/PyCharm.app/Contents/plugins/python-ce/helpers/pydev', '/Applications/PyCharm.app/Contents/plugins/python-ce/helpers/jupyter_debug', '/opt/anaconda3/lib/python312.zip', '/opt/anaconda3/lib/python3.12', '/opt/anaconda3/lib/python3.12/lib-dynload', '', '/opt/anaconda3/lib/python3.12/site-packages', '/opt/anaconda3/lib/python3.12/site-packages/aeosa', '/Users/yang/PycharmProjects/Option']\n"
     ]
    }
   ],
   "execution_count": 1
  },
  {
   "metadata": {
    "ExecuteTime": {
     "end_time": "2025-06-24T08:51:17.384822Z",
     "start_time": "2025-06-24T08:51:16.738730Z"
    }
   },
   "cell_type": "code",
   "source": [
    "# Import required libraries for quantitative analysis\n",
    "import numpy as np\n",
    "import QuantLib as ql\n",
    "import matplotlib.pyplot as plt\n",
    "import time\n",
    "\n",
    "from src.utils import plot_fig\n",
    "from src.QlCalendar import QlCalendar\n",
    "from src.QlStocks import QlStocks\n",
    "from src.QlEuropeanOptions import QlEuropeanOptions\n"
   ],
   "id": "1d112fda0833b7bc",
   "outputs": [],
   "execution_count": 2
  },
  {
   "metadata": {
    "ExecuteTime": {
     "end_time": "2025-06-24T08:51:17.400369Z",
     "start_time": "2025-06-24T08:51:17.396743Z"
    }
   },
   "cell_type": "code",
   "source": [
    "# Initialize model parameters for option pricing\n",
    "# S0: Initial stock price\n",
    "# strike: Option strike price\n",
    "# r: Risk-free rate\n",
    "# sigma: Volatility (Black-Scholes)\n",
    "# T: Time to maturity\n",
    "# steps: Number of time steps\n",
    "\n",
    "r = 0.03  # Risk-free interest rate\n",
    "S0 = 100  # Initial stock price\n",
    "strike = 100  # Strike price\n",
    "sigma = 0.13  # Black-Scholes volatility\n",
    "\n",
    "# Heston model parameters\n",
    "V0 = 0.04  # Initial volatility\n",
    "kappa = 2.0  # Mean reversion speed\n",
    "theta = 0.04  # Long-term volatility mean\n",
    "sigma_heston = 0.3  # Volatility of volatility\n",
    "rho = -0.7  # Price-volatility correlation\n",
    "\n",
    "T = 1  # Time to maturity (1 year)\n",
    "optionType = \"call\"  # Option type\n",
    "steps = 252  # Number of time steps (trading days)\n"
   ],
   "id": "569614d25a8ff73e",
   "outputs": [],
   "execution_count": 3
  },
  {
   "metadata": {
    "ExecuteTime": {
     "end_time": "2025-06-24T08:51:17.414809Z",
     "start_time": "2025-06-24T08:51:17.411487Z"
    }
   },
   "cell_type": "code",
   "source": [
    "# Set up QuantLib calendar and calculate maturity date\n",
    "# Uses business days for financial calculations\n",
    "start_date = ql.Date(3, 1, 2023)\n",
    "ql_calendar = QlCalendar(\n",
    "    init_date=start_date,\n",
    "    init_risk_free_rate=r,\n",
    ")\n",
    "\n",
    "end_date = ql_calendar.cal_date_advance(times=steps, time_unit='days')\n"
   ],
   "id": "1b92e144c33ac2c9",
   "outputs": [],
   "execution_count": 4
  },
  {
   "metadata": {
    "ExecuteTime": {
     "end_time": "2025-06-24T08:51:17.430840Z",
     "start_time": "2025-06-24T08:51:17.426612Z"
    }
   },
   "cell_type": "code",
   "source": [
    "# Verify date calculations between start and maturity dates\n",
    "print(\"Maturity Date:\", end_date)\n",
    "print(\"Days between start and end:\", ql_calendar.calendar.businessDaysBetween(start_date, end_date))\n"
   ],
   "id": "2adec01c4a92ab1d",
   "outputs": [
    {
     "name": "stdout",
     "output_type": "stream",
     "text": [
      "Maturity Date: January 10th, 2024\n",
      "Days between start and end: 252\n"
     ]
    }
   ],
   "execution_count": 5
  },
  {
   "metadata": {
    "ExecuteTime": {
     "end_time": "2025-06-24T08:51:17.462702Z",
     "start_time": "2025-06-24T08:51:17.454234Z"
    }
   },
   "cell_type": "code",
   "source": [
    "# Initialize Heston model and Black-Scholes model with same price quotes\n",
    "ql_stocks = QlStocks(ql_calendar)\n",
    "ql_stocks.add_heston(codes='STCKHM',\n",
    "                     stock_prices=S0,\n",
    "                     v0=V0,\n",
    "                     kappa=kappa,\n",
    "                     theta=theta,\n",
    "                     rho=rho,\n",
    "                     sigma=sigma_heston,\n",
    "                     dividend_rates=0.0,\n",
    "                     )\n",
    "\n",
    "# Create Heston model option\n",
    "stock_heston = ql_stocks.stock('STCKHM')\n",
    "option_heston = stock_heston.set_european_option(\n",
    "    option_type='call',\n",
    "    strike_price=strike,\n",
    "    maturity_date=end_date\n",
    ")\n",
    "option_heston.analytic_engine()\n"
   ],
   "id": "d383083dd8a803db",
   "outputs": [],
   "execution_count": 6
  },
  {
   "metadata": {
    "ExecuteTime": {
     "end_time": "2025-06-24T08:51:17.479400Z",
     "start_time": "2025-06-24T08:51:17.474519Z"
    }
   },
   "cell_type": "code",
   "source": [
    "# Create corresponding Black-Scholes model with same price quotes\n",
    "price_quotes = stock_heston.get_price_quote()\n",
    "ql_stocks.add_black_scholes('STCKBS', price_quotes, sigma=sigma)\n",
    "stock_bs = ql_stocks.stock('STCKBS')\n",
    "option_bs = stock_bs.set_european_option(\n",
    "    option_type='call',\n",
    "    strike_price=strike,\n",
    "    maturity_date=end_date\n",
    ")\n",
    "option_bs.analytic_engine()\n"
   ],
   "id": "d2f976a506e5053",
   "outputs": [],
   "execution_count": 7
  },
  {
   "metadata": {
    "ExecuteTime": {
     "end_time": "2025-06-24T08:51:17.494651Z",
     "start_time": "2025-06-24T08:51:17.490150Z"
    }
   },
   "cell_type": "code",
   "source": [
    "# Calculate implied volatility when stock price changes to 110\n",
    "stock_bs.set_today_price(110)\n",
    "\n",
    "npv_heston = option_heston.NPV()\n",
    "delta_heston = option_heston.delta_numerical()\n",
    "\n",
    "# Calculate implied volatility matching Heston model's NPV\n",
    "implied_vol = option_bs.impliedVolatility(npv_heston)\n",
    "print(f\"Implied Volatility: {implied_vol:.4f}\")\n",
    "\n",
    "# Update BS model with implied volatility\n",
    "stock_bs.set_volatility(implied_vol)\n",
    "\n",
    "# Compare NPV and delta between models\n",
    "npv_bs = option_bs.NPV()\n",
    "delta_bs = option_bs.delta()\n",
    "print(f'Heston model vs BS model comparison:')\n",
    "print(f'Heston NPV: {npv_heston} | BS NPV: {npv_bs}')\n",
    "print(f'Heston Delta: {delta_bs} | BS Delta: {delta_bs}')\n"
   ],
   "id": "527e00788a3d3a90",
   "outputs": [
    {
     "name": "stdout",
     "output_type": "stream",
     "text": [
      "Implied Volatility: 0.2092\n",
      "Heston model vs BS model comparison:\n",
      "Heston NPV: 16.703688763927715 | BS NPV: 16.702881510646854\n",
      "Heston Delta: 0.7585627613457159 | BS Delta: 0.7585627613457159\n"
     ]
    }
   ],
   "execution_count": 8
  },
  {
   "metadata": {},
   "cell_type": "markdown",
   "source": [
    "## Calculating Multiple Implied Volatilities\n",
    "\n",
    "This section demonstrates calculating implied volatilities for multiple option prices and stock prices."
   ],
   "id": "124dfd5c276d4058"
  },
  {
   "metadata": {
    "ExecuteTime": {
     "end_time": "2025-06-24T08:51:17.529044Z",
     "start_time": "2025-06-24T08:51:17.525601Z"
    }
   },
   "cell_type": "code",
   "source": [
    "# Calculate implied volatilities for multiple option prices and stock prices\n",
    "implied_vols = option_bs.impliedVolatility_multi(\n",
    "    [10, 11, 12, 13], stock_prices=[100, 101, 102, 103]\n",
    ")\n",
    "print(f\"Implied Volatilities: {implied_vols}\")\n"
   ],
   "id": "9bbd1f135e8580f6",
   "outputs": [
    {
     "name": "stdout",
     "output_type": "stream",
     "text": [
      "Implied Volatilities: [0.21239656310313196, 0.22246947198998218, 0.23215302172892247, 0.2415292919518508]\n"
     ]
    }
   ],
   "execution_count": 9
  },
  {
   "metadata": {},
   "cell_type": "markdown",
   "source": [
    "## Calculating Implied Volatility with Delta\n",
    "\n",
    "This section shows how to simultaneously calculate implied volatility and its corresponding delta."
   ],
   "id": "e6bd578156c80cfe"
  },
  {
   "metadata": {
    "ExecuteTime": {
     "end_time": "2025-06-24T08:51:17.578667Z",
     "start_time": "2025-06-24T08:51:17.575448Z"
    }
   },
   "cell_type": "code",
   "source": [
    "# Calculate both implied volatility and delta for given option price\n",
    "vol, delta = option_bs.impliedVolatility_and_delta(npv_heston)\n",
    "print(f\"Volatility: {vol}, Delta: {delta}\")\n"
   ],
   "id": "a22e78206162c582",
   "outputs": [
    {
     "name": "stdout",
     "output_type": "stream",
     "text": [
      "Volatility: 0.33656447390354477, Delta: 0.6356554025281472\n"
     ]
    }
   ],
   "execution_count": 10
  },
  {
   "metadata": {},
   "cell_type": "markdown",
   "source": [
    "## Multiple Implied Volatilities with Deltas\n",
    "\n",
    "This section demonstrates batch calculation of implied volatilities and deltas for multiple option prices."
   ],
   "id": "11f86cfe6eed2bf7"
  },
  {
   "metadata": {
    "ExecuteTime": {
     "end_time": "2025-06-24T08:51:17.613971Z",
     "start_time": "2025-06-24T08:51:17.609676Z"
    }
   },
   "cell_type": "code",
   "source": [
    "# Calculate multiple implied volatilities and deltas\n",
    "vols, deltas = option_bs.impliedVolatility_and_delta_multi(\n",
    "    [npv_heston, 14., 15.], stock_prices=[110., 110., 105.]\n",
    ")\n",
    "print(f\"Volatilities: {vols}\")\n",
    "print(f\"Deltas: {deltas}\")"
   ],
   "id": "9d866fa622f587ee",
   "outputs": [
    {
     "name": "stdout",
     "output_type": "stream",
     "text": [
      "Volatilities: [0.20918727 0.12092521 0.25931542]\n",
      "Deltas: [0.75856276 0.86263141 0.66787744]\n"
     ]
    }
   ],
   "execution_count": 11
  },
  {
   "metadata": {},
   "cell_type": "markdown",
   "source": "# Implied Volatility Calculation Analysis with different T\n",
   "id": "a8d1ec0aa2bd60f5"
  },
  {
   "metadata": {},
   "cell_type": "markdown",
   "source": "## T = 1 month",
   "id": "f98fcfb61e25d4f6"
  },
  {
   "metadata": {
    "ExecuteTime": {
     "end_time": "2025-06-24T08:51:17.655591Z",
     "start_time": "2025-06-24T08:51:17.649406Z"
    }
   },
   "cell_type": "code",
   "source": [
    "# Set the current date in QuantLib's calendar to December 11th, 2023\n",
    "ql_calendar.set_today(ql.Date(11,12,2023))\n",
    "\n",
    "# Print formatted date information showing both today's date and the end date\n",
    "print(f'[Date Info] Today: {ql_calendar.today()}, End Date: {end_date}')\n",
    "\n",
    "# Set the current stock price to $130 for Black-Scholes calculations\n",
    "stock_bs.set_today_price(130)\n",
    "\n",
    "# Set the volatility parameter (sigma) for the option pricing model\n",
    "option_bs.stock_vol_quote.setValue(sigma)\n",
    "\n",
    "# Print volatility and NPV (Net Present Value) with explanations\n",
    "print(f'[Pricing Parameters] Volatility (σ): {option_bs.stock_vol_quote.value():.4f} , Option NPV: ${option_bs.NPV():.2f}')\n",
    "\n",
    "# Calculate and print implied volatility based on current NPV\n",
    "print(f'[Implied Volatility] Calculated σ: {option_bs.impliedVolatility(option_bs.NPV()):.4f} (derived from current option price)')"
   ],
   "id": "f1560c8285b3f6b1",
   "outputs": [
    {
     "name": "stdout",
     "output_type": "stream",
     "text": [
      "[Date Info] Today: December 11th, 2023, End Date: January 10th, 2024\n",
      "[Pricing Parameters] Volatility (σ): 0.1300 , Option NPV: $30.25\n",
      "[Implied Volatility] Calculated σ: 0.1300 (derived from current option price)\n"
     ]
    }
   ],
   "execution_count": 12
  },
  {
   "metadata": {},
   "cell_type": "markdown",
   "source": "## T = 1 day\n",
   "id": "c16562cf0404ba4f"
  },
  {
   "metadata": {
    "ExecuteTime": {
     "end_time": "2025-06-24T08:58:07.728633Z",
     "start_time": "2025-06-24T08:58:07.697083Z"
    }
   },
   "cell_type": "code",
   "source": [
    "# Set the current date in QuantLib's calendar to December 11th, 2023\n",
    "ql_calendar.set_today(ql.Date(9,1,2024))\n",
    "\n",
    "# Print formatted date information showing both today's date and the end date\n",
    "print(f'[Date Info] Today: {ql_calendar.today()}, End Date: {end_date}')\n",
    "\n",
    "# Set the current stock price to $130 for Black-Scholes calculations\n",
    "stock_bs.set_today_price(110)\n",
    "\n",
    "# Set the volatility parameter (sigma) for the option pricing model\n",
    "option_bs.stock_vol_quote.setValue(sigma)\n",
    "\n",
    "# Print volatility and NPV (Net Present Value) with explanations\n",
    "print(f'[Pricing Parameters] Volatility (σ): {option_bs.stock_vol_quote.value():.4f} , Option NPV: ${option_bs.NPV():.2f}')\n",
    "\n",
    "# Calculate and print implied volatility based on current NPV\n",
    "print(f'[Implied Volatility] Calculated σ: {option_bs.impliedVolatility(option_bs.NPV()):.4f} (derived from current option price)')"
   ],
   "id": "2ef421244d94a3fc",
   "outputs": [
    {
     "name": "stdout",
     "output_type": "stream",
     "text": [
      "[Date Info] Today: January 9th, 2024, End Date: January 10th, 2024\n",
      "[Pricing Parameters] Volatility (σ): 0.1300 , Option NPV: $10.01\n",
      "[Implied Volatility] Calculated σ: 0.0000 (derived from current option price)\n"
     ]
    }
   ],
   "execution_count": 29
  },
  {
   "metadata": {
    "ExecuteTime": {
     "end_time": "2025-06-24T08:58:35.947408Z",
     "start_time": "2025-06-24T08:58:35.939094Z"
    }
   },
   "cell_type": "code",
   "source": "option_bs.impliedVolatility(10.1)",
   "id": "84316f6eb0452d11",
   "outputs": [
    {
     "data": {
      "text/plain": [
       "1.0400247170358274"
      ]
     },
     "execution_count": 32,
     "metadata": {},
     "output_type": "execute_result"
    }
   ],
   "execution_count": 32
  },
  {
   "metadata": {
    "ExecuteTime": {
     "end_time": "2025-06-24T08:51:17.855092Z",
     "start_time": "2025-06-24T08:51:17.852541Z"
    }
   },
   "cell_type": "code",
   "source": "",
   "id": "f75c8ce9c611b0b6",
   "outputs": [],
   "execution_count": null
  },
  {
   "metadata": {},
   "cell_type": "markdown",
   "source": "#",
   "id": "1137dfa4ddc95b6e"
  }
 ],
 "metadata": {},
 "nbformat": 4,
 "nbformat_minor": 5
}
