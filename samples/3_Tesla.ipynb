{
 "cells": [
  {
   "cell_type": "code",
   "id": "43ef3644d4464c2f",
   "metadata": {
    "ExecuteTime": {
     "end_time": "2025-06-27T10:10:29.478711Z",
     "start_time": "2025-06-27T10:10:29.472022Z"
    }
   },
   "source": [
    "import sys\n",
    "import os\n",
    "current_path = os.getcwd()  # 获取当前工作目录\n",
    "print(\"当前路径:\", current_path)\n",
    "current_path = current_path.replace('/samples', '')\n",
    "print(sys.path)  # 显示所有模块搜索路径\n",
    "sys.path.append(current_path)  # 添加自定义路径\n",
    "print(sys.path)  # 显示所有模块搜索路径"
   ],
   "outputs": [
    {
     "name": "stdout",
     "output_type": "stream",
     "text": [
      "当前路径: /Users/yang/PycharmProjects/Option/samples\n",
      "['/Users/yang/PycharmProjects/Option/samples', '/Users/yang/PycharmProjects/Option', '/Applications/PyCharm.app/Contents/plugins/python-ce/helpers/pydev', '/Applications/PyCharm.app/Contents/plugins/python-ce/helpers/jupyter_debug', '/opt/anaconda3/lib/python312.zip', '/opt/anaconda3/lib/python3.12', '/opt/anaconda3/lib/python3.12/lib-dynload', '', '/opt/anaconda3/lib/python3.12/site-packages', '/opt/anaconda3/lib/python3.12/site-packages/aeosa']\n",
      "['/Users/yang/PycharmProjects/Option/samples', '/Users/yang/PycharmProjects/Option', '/Applications/PyCharm.app/Contents/plugins/python-ce/helpers/pydev', '/Applications/PyCharm.app/Contents/plugins/python-ce/helpers/jupyter_debug', '/opt/anaconda3/lib/python312.zip', '/opt/anaconda3/lib/python3.12', '/opt/anaconda3/lib/python3.12/lib-dynload', '', '/opt/anaconda3/lib/python3.12/site-packages', '/opt/anaconda3/lib/python3.12/site-packages/aeosa', '/Users/yang/PycharmProjects/Option']\n"
     ]
    }
   ],
   "execution_count": 1
  },
  {
   "cell_type": "code",
   "id": "initial_id",
   "metadata": {
    "collapsed": true,
    "jupyter": {
     "outputs_hidden": true
    },
    "ExecuteTime": {
     "end_time": "2025-06-27T10:10:31.228029Z",
     "start_time": "2025-06-27T10:10:29.485880Z"
    }
   },
   "source": [
    "import yfinance as yf\n",
    "import pandas as pd\n",
    "import numpy as np \n",
    "import QuantLib as ql \n",
    "import math\n",
    "from datetime import datetime\n",
    "\n",
    "from src.QlCalendar import QlCalendar\n",
    "from src.QlStocks import QlStocks\n",
    "from src.QlEuropeanOptions import QlEuropeanOptions"
   ],
   "outputs": [],
   "execution_count": 2
  },
  {
   "metadata": {},
   "cell_type": "markdown",
   "source": "# yfinance 动态获取期权值",
   "id": "a135122b38360343"
  },
  {
   "cell_type": "code",
   "id": "3f80547e26bde220",
   "metadata": {
    "ExecuteTime": {
     "end_time": "2025-06-27T10:10:31.312485Z",
     "start_time": "2025-06-27T10:10:31.309882Z"
    }
   },
   "source": [
    "# ticker = 'TSLA'\n",
    "# \n",
    "# tsla = yf.Ticker(ticker)"
   ],
   "outputs": [],
   "execution_count": 3
  },
  {
   "cell_type": "code",
   "id": "7e5242dcd70ab17a",
   "metadata": {
    "ExecuteTime": {
     "end_time": "2025-06-27T10:10:31.329138Z",
     "start_time": "2025-06-27T10:10:31.326816Z"
    }
   },
   "source": "# expiration_dates = tsla.options",
   "outputs": [],
   "execution_count": 4
  },
  {
   "cell_type": "code",
   "id": "96c2fe699b14a2e4",
   "metadata": {
    "ExecuteTime": {
     "end_time": "2025-06-27T10:10:31.347088Z",
     "start_time": "2025-06-27T10:10:31.344195Z"
    }
   },
   "source": [
    "# selected_date = expiration_dates[0]\n",
    "# selected_date"
   ],
   "outputs": [],
   "execution_count": 5
  },
  {
   "cell_type": "code",
   "id": "6a0fa8bc7006985",
   "metadata": {
    "ExecuteTime": {
     "end_time": "2025-06-27T10:10:31.367247Z",
     "start_time": "2025-06-27T10:10:31.364205Z"
    }
   },
   "source": "# option_chain = tsla.option_chain(selected_date)",
   "outputs": [],
   "execution_count": 6
  },
  {
   "metadata": {},
   "cell_type": "markdown",
   "source": "# 本地的示例",
   "id": "5f78848ff52ad8f5"
  },
  {
   "cell_type": "code",
   "id": "eb723eca5e5194ac",
   "metadata": {
    "ExecuteTime": {
     "end_time": "2025-06-27T10:10:31.408467Z",
     "start_time": "2025-06-27T10:10:31.383909Z"
    }
   },
   "source": [
    "df = pd.read_csv(r'../data/calls.csv', index_col=0)\n",
    "df"
   ],
   "outputs": [
    {
     "data": {
      "text/plain": [
       "          contractSymbol              lastTradeDate  strike  lastPrice  \\\n",
       "0    TSLA250530C00050000  2025-05-23 18:30:52+00:00    50.0     290.95   \n",
       "1    TSLA250530C00055000  2025-05-20 14:32:36+00:00    55.0     289.80   \n",
       "2    TSLA250530C00080000  2025-04-23 14:28:59+00:00    80.0     175.60   \n",
       "3    TSLA250530C00090000  2025-04-28 15:25:29+00:00    90.0     186.00   \n",
       "4    TSLA250530C00100000  2025-05-23 19:16:34+00:00   100.0     241.58   \n",
       "..                   ...                        ...     ...        ...   \n",
       "137  TSLA250530C00660000  2025-05-21 14:46:41+00:00   660.0       0.01   \n",
       "138  TSLA250530C00670000  2025-05-21 13:33:06+00:00   670.0       0.02   \n",
       "139  TSLA250530C00680000  2025-05-16 15:53:53+00:00   680.0       0.03   \n",
       "140  TSLA250530C00690000  2025-05-20 15:14:21+00:00   690.0       0.01   \n",
       "141  TSLA250530C00700000  2025-05-23 13:30:00+00:00   700.0       0.07   \n",
       "\n",
       "        bid     ask    change  percentChange  volume  openInterest  \\\n",
       "0    288.05  290.70  7.000000       2.465223     5.0             8   \n",
       "1    283.00  285.70  0.000000       0.000000     6.0            12   \n",
       "2    258.05  260.75  0.000000       0.000000     1.0             1   \n",
       "3    248.05  250.75  0.000000       0.000000     NaN            10   \n",
       "4    238.05  240.75 -3.419998      -1.395918     1.0             0   \n",
       "..      ...     ...       ...            ...     ...           ...   \n",
       "137    0.00    0.01  0.000000       0.000000     8.0            62   \n",
       "138    0.00    0.01  0.000000       0.000000     1.0            70   \n",
       "139    0.00    0.01  0.000000       0.000000    16.0            16   \n",
       "140    0.00    0.01  0.000000       0.000000     4.0            11   \n",
       "141    0.00    0.01  0.060000     600.000100     1.0           102   \n",
       "\n",
       "     impliedVolatility  inTheMoney contractSize currency  \n",
       "0             5.531253        True      REGULAR      USD  \n",
       "1             4.750004        True      REGULAR      USD  \n",
       "2             4.390630        True      REGULAR      USD  \n",
       "3             4.039067        True      REGULAR      USD  \n",
       "4             3.726563        True      REGULAR      USD  \n",
       "..                 ...         ...          ...      ...  \n",
       "137           1.625002       False      REGULAR      USD  \n",
       "138           1.656252       False      REGULAR      USD  \n",
       "139           1.687502       False      REGULAR      USD  \n",
       "140           1.718751       False      REGULAR      USD  \n",
       "141           1.750001       False      REGULAR      USD  \n",
       "\n",
       "[142 rows x 14 columns]"
      ],
      "text/html": [
       "<div>\n",
       "<style scoped>\n",
       "    .dataframe tbody tr th:only-of-type {\n",
       "        vertical-align: middle;\n",
       "    }\n",
       "\n",
       "    .dataframe tbody tr th {\n",
       "        vertical-align: top;\n",
       "    }\n",
       "\n",
       "    .dataframe thead th {\n",
       "        text-align: right;\n",
       "    }\n",
       "</style>\n",
       "<table border=\"1\" class=\"dataframe\">\n",
       "  <thead>\n",
       "    <tr style=\"text-align: right;\">\n",
       "      <th></th>\n",
       "      <th>contractSymbol</th>\n",
       "      <th>lastTradeDate</th>\n",
       "      <th>strike</th>\n",
       "      <th>lastPrice</th>\n",
       "      <th>bid</th>\n",
       "      <th>ask</th>\n",
       "      <th>change</th>\n",
       "      <th>percentChange</th>\n",
       "      <th>volume</th>\n",
       "      <th>openInterest</th>\n",
       "      <th>impliedVolatility</th>\n",
       "      <th>inTheMoney</th>\n",
       "      <th>contractSize</th>\n",
       "      <th>currency</th>\n",
       "    </tr>\n",
       "  </thead>\n",
       "  <tbody>\n",
       "    <tr>\n",
       "      <th>0</th>\n",
       "      <td>TSLA250530C00050000</td>\n",
       "      <td>2025-05-23 18:30:52+00:00</td>\n",
       "      <td>50.0</td>\n",
       "      <td>290.95</td>\n",
       "      <td>288.05</td>\n",
       "      <td>290.70</td>\n",
       "      <td>7.000000</td>\n",
       "      <td>2.465223</td>\n",
       "      <td>5.0</td>\n",
       "      <td>8</td>\n",
       "      <td>5.531253</td>\n",
       "      <td>True</td>\n",
       "      <td>REGULAR</td>\n",
       "      <td>USD</td>\n",
       "    </tr>\n",
       "    <tr>\n",
       "      <th>1</th>\n",
       "      <td>TSLA250530C00055000</td>\n",
       "      <td>2025-05-20 14:32:36+00:00</td>\n",
       "      <td>55.0</td>\n",
       "      <td>289.80</td>\n",
       "      <td>283.00</td>\n",
       "      <td>285.70</td>\n",
       "      <td>0.000000</td>\n",
       "      <td>0.000000</td>\n",
       "      <td>6.0</td>\n",
       "      <td>12</td>\n",
       "      <td>4.750004</td>\n",
       "      <td>True</td>\n",
       "      <td>REGULAR</td>\n",
       "      <td>USD</td>\n",
       "    </tr>\n",
       "    <tr>\n",
       "      <th>2</th>\n",
       "      <td>TSLA250530C00080000</td>\n",
       "      <td>2025-04-23 14:28:59+00:00</td>\n",
       "      <td>80.0</td>\n",
       "      <td>175.60</td>\n",
       "      <td>258.05</td>\n",
       "      <td>260.75</td>\n",
       "      <td>0.000000</td>\n",
       "      <td>0.000000</td>\n",
       "      <td>1.0</td>\n",
       "      <td>1</td>\n",
       "      <td>4.390630</td>\n",
       "      <td>True</td>\n",
       "      <td>REGULAR</td>\n",
       "      <td>USD</td>\n",
       "    </tr>\n",
       "    <tr>\n",
       "      <th>3</th>\n",
       "      <td>TSLA250530C00090000</td>\n",
       "      <td>2025-04-28 15:25:29+00:00</td>\n",
       "      <td>90.0</td>\n",
       "      <td>186.00</td>\n",
       "      <td>248.05</td>\n",
       "      <td>250.75</td>\n",
       "      <td>0.000000</td>\n",
       "      <td>0.000000</td>\n",
       "      <td>NaN</td>\n",
       "      <td>10</td>\n",
       "      <td>4.039067</td>\n",
       "      <td>True</td>\n",
       "      <td>REGULAR</td>\n",
       "      <td>USD</td>\n",
       "    </tr>\n",
       "    <tr>\n",
       "      <th>4</th>\n",
       "      <td>TSLA250530C00100000</td>\n",
       "      <td>2025-05-23 19:16:34+00:00</td>\n",
       "      <td>100.0</td>\n",
       "      <td>241.58</td>\n",
       "      <td>238.05</td>\n",
       "      <td>240.75</td>\n",
       "      <td>-3.419998</td>\n",
       "      <td>-1.395918</td>\n",
       "      <td>1.0</td>\n",
       "      <td>0</td>\n",
       "      <td>3.726563</td>\n",
       "      <td>True</td>\n",
       "      <td>REGULAR</td>\n",
       "      <td>USD</td>\n",
       "    </tr>\n",
       "    <tr>\n",
       "      <th>...</th>\n",
       "      <td>...</td>\n",
       "      <td>...</td>\n",
       "      <td>...</td>\n",
       "      <td>...</td>\n",
       "      <td>...</td>\n",
       "      <td>...</td>\n",
       "      <td>...</td>\n",
       "      <td>...</td>\n",
       "      <td>...</td>\n",
       "      <td>...</td>\n",
       "      <td>...</td>\n",
       "      <td>...</td>\n",
       "      <td>...</td>\n",
       "      <td>...</td>\n",
       "    </tr>\n",
       "    <tr>\n",
       "      <th>137</th>\n",
       "      <td>TSLA250530C00660000</td>\n",
       "      <td>2025-05-21 14:46:41+00:00</td>\n",
       "      <td>660.0</td>\n",
       "      <td>0.01</td>\n",
       "      <td>0.00</td>\n",
       "      <td>0.01</td>\n",
       "      <td>0.000000</td>\n",
       "      <td>0.000000</td>\n",
       "      <td>8.0</td>\n",
       "      <td>62</td>\n",
       "      <td>1.625002</td>\n",
       "      <td>False</td>\n",
       "      <td>REGULAR</td>\n",
       "      <td>USD</td>\n",
       "    </tr>\n",
       "    <tr>\n",
       "      <th>138</th>\n",
       "      <td>TSLA250530C00670000</td>\n",
       "      <td>2025-05-21 13:33:06+00:00</td>\n",
       "      <td>670.0</td>\n",
       "      <td>0.02</td>\n",
       "      <td>0.00</td>\n",
       "      <td>0.01</td>\n",
       "      <td>0.000000</td>\n",
       "      <td>0.000000</td>\n",
       "      <td>1.0</td>\n",
       "      <td>70</td>\n",
       "      <td>1.656252</td>\n",
       "      <td>False</td>\n",
       "      <td>REGULAR</td>\n",
       "      <td>USD</td>\n",
       "    </tr>\n",
       "    <tr>\n",
       "      <th>139</th>\n",
       "      <td>TSLA250530C00680000</td>\n",
       "      <td>2025-05-16 15:53:53+00:00</td>\n",
       "      <td>680.0</td>\n",
       "      <td>0.03</td>\n",
       "      <td>0.00</td>\n",
       "      <td>0.01</td>\n",
       "      <td>0.000000</td>\n",
       "      <td>0.000000</td>\n",
       "      <td>16.0</td>\n",
       "      <td>16</td>\n",
       "      <td>1.687502</td>\n",
       "      <td>False</td>\n",
       "      <td>REGULAR</td>\n",
       "      <td>USD</td>\n",
       "    </tr>\n",
       "    <tr>\n",
       "      <th>140</th>\n",
       "      <td>TSLA250530C00690000</td>\n",
       "      <td>2025-05-20 15:14:21+00:00</td>\n",
       "      <td>690.0</td>\n",
       "      <td>0.01</td>\n",
       "      <td>0.00</td>\n",
       "      <td>0.01</td>\n",
       "      <td>0.000000</td>\n",
       "      <td>0.000000</td>\n",
       "      <td>4.0</td>\n",
       "      <td>11</td>\n",
       "      <td>1.718751</td>\n",
       "      <td>False</td>\n",
       "      <td>REGULAR</td>\n",
       "      <td>USD</td>\n",
       "    </tr>\n",
       "    <tr>\n",
       "      <th>141</th>\n",
       "      <td>TSLA250530C00700000</td>\n",
       "      <td>2025-05-23 13:30:00+00:00</td>\n",
       "      <td>700.0</td>\n",
       "      <td>0.07</td>\n",
       "      <td>0.00</td>\n",
       "      <td>0.01</td>\n",
       "      <td>0.060000</td>\n",
       "      <td>600.000100</td>\n",
       "      <td>1.0</td>\n",
       "      <td>102</td>\n",
       "      <td>1.750001</td>\n",
       "      <td>False</td>\n",
       "      <td>REGULAR</td>\n",
       "      <td>USD</td>\n",
       "    </tr>\n",
       "  </tbody>\n",
       "</table>\n",
       "<p>142 rows × 14 columns</p>\n",
       "</div>"
      ]
     },
     "execution_count": 7,
     "metadata": {},
     "output_type": "execute_result"
    }
   ],
   "execution_count": 7
  },
  {
   "cell_type": "code",
   "id": "8be8615688631375",
   "metadata": {
    "ExecuteTime": {
     "end_time": "2025-06-27T10:10:31.469710Z",
     "start_time": "2025-06-27T10:10:31.466301Z"
    }
   },
   "source": [
    "calculation_date = ql.Date(23, 5, 2025)  # 当前日期设为2025-05-23\n",
    "strike_date = ql.Date(30,5,2025)\n",
    "ql.Settings.instance().evaluationDate = calculation_date"
   ],
   "outputs": [],
   "execution_count": 8
  },
  {
   "cell_type": "code",
   "id": "760fe06af623629",
   "metadata": {
    "ExecuteTime": {
     "end_time": "2025-06-27T10:10:31.545523Z",
     "start_time": "2025-06-27T10:10:31.542153Z"
    }
   },
   "source": [
    "# 市场参数\n",
    "spot_price = 339.340  # 当前TSLA股价\n",
    "risk_free_rate = 0.05  # 无风险利率\n",
    "dividend_rate = 0.0  # 股息率"
   ],
   "outputs": [],
   "execution_count": 9
  },
  {
   "cell_type": "code",
   "id": "4716fa829e9fec43",
   "metadata": {
    "ExecuteTime": {
     "end_time": "2025-06-27T10:10:31.644125Z",
     "start_time": "2025-06-27T10:10:31.639030Z"
    }
   },
   "source": [
    "ql_calendar = QlCalendar(init_date=calculation_date, init_risk_free_rate=risk_free_rate)\n",
    "ql_stocks = QlStocks(ql_calendar)"
   ],
   "outputs": [],
   "execution_count": 10
  },
  {
   "cell_type": "code",
   "id": "4b1b83909837a104",
   "metadata": {
    "ExecuteTime": {
     "end_time": "2025-06-27T10:10:31.677806Z",
     "start_time": "2025-06-27T10:10:31.673033Z"
    }
   },
   "source": [
    "ql_stocks.add_black_scholes(codes=\"TSLA\", stock_prices=spot_price, sigma=0.70)\n",
    "tsla = ql_stocks.stock('TSLA')"
   ],
   "outputs": [],
   "execution_count": 11
  },
  {
   "cell_type": "code",
   "id": "fbf5e34fb49c43a1",
   "metadata": {
    "ExecuteTime": {
     "end_time": "2025-06-27T10:10:31.727180Z",
     "start_time": "2025-06-27T10:10:31.710858Z"
    }
   },
   "source": [
    "tsla_options = QlEuropeanOptions(tsla)  \n",
    "tsla_options.add_options(\n",
    "    option_types = 'call',\n",
    "    strike_prices = df['strike'].values,\n",
    "    maturity_dates = strike_date,\n",
    "    codes = df['contractSymbol'].values\n",
    ")"
   ],
   "outputs": [
    {
     "data": {
      "text/plain": [
       "codes                types  strike  maturity      \n",
       "TSLA250530C00050000  call   50.0    May 30th, 2025    <QuantLib.QuantLib.EuropeanOption; proxy of <S...\n",
       "TSLA250530C00055000  call   55.0    May 30th, 2025    <QuantLib.QuantLib.EuropeanOption; proxy of <S...\n",
       "TSLA250530C00080000  call   80.0    May 30th, 2025    <QuantLib.QuantLib.EuropeanOption; proxy of <S...\n",
       "TSLA250530C00090000  call   90.0    May 30th, 2025    <QuantLib.QuantLib.EuropeanOption; proxy of <S...\n",
       "TSLA250530C00100000  call   100.0   May 30th, 2025    <QuantLib.QuantLib.EuropeanOption; proxy of <S...\n",
       "                                                                            ...                        \n",
       "TSLA250530C00660000  call   660.0   May 30th, 2025    <QuantLib.QuantLib.EuropeanOption; proxy of <S...\n",
       "TSLA250530C00670000  call   670.0   May 30th, 2025    <QuantLib.QuantLib.EuropeanOption; proxy of <S...\n",
       "TSLA250530C00680000  call   680.0   May 30th, 2025    <QuantLib.QuantLib.EuropeanOption; proxy of <S...\n",
       "TSLA250530C00690000  call   690.0   May 30th, 2025    <QuantLib.QuantLib.EuropeanOption; proxy of <S...\n",
       "TSLA250530C00700000  call   700.0   May 30th, 2025    <QuantLib.QuantLib.EuropeanOption; proxy of <S...\n",
       "Name: options, Length: 142, dtype: object"
      ]
     },
     "execution_count": 12,
     "metadata": {},
     "output_type": "execute_result"
    }
   ],
   "execution_count": 12
  },
  {
   "cell_type": "code",
   "id": "a7882d1c512de9ba",
   "metadata": {
    "ExecuteTime": {
     "end_time": "2025-06-27T10:10:31.780623Z",
     "start_time": "2025-06-27T10:10:31.777260Z"
    }
   },
   "source": [
    "# 解析解 引擎\n",
    "tsla_options.analytic_engines()"
   ],
   "outputs": [],
   "execution_count": 13
  },
  {
   "metadata": {
    "ExecuteTime": {
     "end_time": "2025-06-27T10:10:31.840471Z",
     "start_time": "2025-06-27T10:10:31.837306Z"
    }
   },
   "cell_type": "code",
   "source": "",
   "id": "a943805d592ff7e7",
   "outputs": [],
   "execution_count": null
  },
  {
   "metadata": {},
   "cell_type": "markdown",
   "source": "# calculate NPV",
   "id": "b65ee569e779d05"
  },
  {
   "cell_type": "code",
   "id": "63ddba72e2badfb9",
   "metadata": {
    "ExecuteTime": {
     "end_time": "2025-06-27T10:10:31.907650Z",
     "start_time": "2025-06-27T10:10:31.900623Z"
    }
   },
   "source": [
    "df_iv = tsla_options.NPV()\n",
    "df_iv"
   ],
   "outputs": [
    {
     "data": {
      "text/plain": [
       "array([2.89387922e+02, 2.84392714e+02, 2.59416676e+02, 2.49426260e+02,\n",
       "       2.39435844e+02, 2.29445429e+02, 2.19455013e+02, 2.09464598e+02,\n",
       "       2.04469390e+02, 1.99474182e+02, 1.89483767e+02, 1.84488559e+02,\n",
       "       1.79493351e+02, 1.74498143e+02, 1.69502936e+02, 1.64507728e+02,\n",
       "       1.59512520e+02, 1.54517312e+02, 1.49522104e+02, 1.44526897e+02,\n",
       "       1.39531689e+02, 1.34536482e+02, 1.29541275e+02, 1.24546072e+02,\n",
       "       1.19550878e+02, 1.14555712e+02, 1.09560618e+02, 1.04565700e+02,\n",
       "       9.95711848e+01, 9.70742089e+01, 9.45775337e+01, 9.20812835e+01,\n",
       "       8.95856254e+01, 8.70907805e+01, 8.45970373e+01, 8.21047671e+01,\n",
       "       7.96144408e+01, 7.71266474e+01, 7.46421146e+01, 7.21617288e+01,\n",
       "       6.96865564e+01, 6.72178639e+01, 6.47571371e+01, 6.23060975e+01,\n",
       "       5.98667154e+01, 5.74412192e+01, 5.50320987e+01, 5.26421034e+01,\n",
       "       5.02742333e+01, 4.79317234e+01, 4.56180201e+01, 4.33367513e+01,\n",
       "       4.10916893e+01, 3.88867072e+01, 3.67257307e+01, 3.46126853e+01,\n",
       "       3.25514404e+01, 3.05457530e+01, 2.85992102e+01, 2.67151749e+01,\n",
       "       2.48967332e+01, 2.31466475e+01, 2.14673151e+01, 1.98607333e+01,\n",
       "       1.83284730e+01, 1.68716595e+01, 1.54909623e+01, 1.41865937e+01,\n",
       "       1.29583145e+01, 1.18054485e+01, 1.07269038e+01, 9.72119925e+00,\n",
       "       8.78649792e+00, 7.92064306e+00, 7.12119819e+00, 6.38548869e+00,\n",
       "       5.71064462e+00, 5.09364336e+00, 4.53135142e+00, 4.02056460e+00,\n",
       "       3.55804570e+00, 3.14055944e+00, 2.76490412e+00, 2.42793963e+00,\n",
       "       2.12661183e+00, 1.85797313e+00, 1.61919934e+00, 1.40760299e+00,\n",
       "       1.22064310e+00, 1.05593199e+00, 9.11239033e-01, 7.84491959e-01,\n",
       "       6.73775865e-01, 5.77330319e-01, 4.93544858e-01, 4.20953201e-01,\n",
       "       3.58226436e-01, 3.04165477e-01, 2.57692998e-01, 2.17845077e-01,\n",
       "       1.83762715e-01, 1.54683394e-01, 1.29932796e-01, 1.08916793e-01,\n",
       "       9.11137741e-02, 7.60673889e-02, 6.33797302e-02, 5.27049922e-02,\n",
       "       4.37436126e-02, 3.62369007e-02, 2.99621427e-02, 2.47281685e-02,\n",
       "       2.03713618e-02, 1.67520852e-02, 1.37514967e-02, 1.12687265e-02,\n",
       "       9.21838554e-03, 6.13797932e-03, 4.06022925e-03, 1.74345622e-03,\n",
       "       7.30987532e-04, 2.99701715e-04, 1.20325731e-04, 4.73691360e-05,\n",
       "       1.83082290e-05, 6.95547731e-06, 2.60030212e-06, 9.57625088e-07,\n",
       "       3.47755519e-07, 1.24642484e-07, 4.41321606e-08, 1.54489950e-08,\n",
       "       5.35107322e-09, 1.83525860e-09, 6.23690917e-10, 2.10155324e-10,\n",
       "       7.02548962e-11, 2.33146551e-11, 7.68482572e-12, 2.51718118e-12,\n",
       "       8.19747992e-13, 2.65539835e-13])"
      ]
     },
     "execution_count": 14,
     "metadata": {},
     "output_type": "execute_result"
    }
   ],
   "execution_count": 14
  },
  {
   "cell_type": "code",
   "id": "fa8af7c89cff390c",
   "metadata": {
    "ExecuteTime": {
     "end_time": "2025-06-27T10:10:31.993108Z",
     "start_time": "2025-06-27T10:10:31.981587Z"
    }
   },
   "source": [
    "compare_df = df[['contractSymbol', 'strike', 'bid', 'ask']]\n",
    "compare_df"
   ],
   "outputs": [
    {
     "data": {
      "text/plain": [
       "          contractSymbol  strike     bid     ask\n",
       "0    TSLA250530C00050000    50.0  288.05  290.70\n",
       "1    TSLA250530C00055000    55.0  283.00  285.70\n",
       "2    TSLA250530C00080000    80.0  258.05  260.75\n",
       "3    TSLA250530C00090000    90.0  248.05  250.75\n",
       "4    TSLA250530C00100000   100.0  238.05  240.75\n",
       "..                   ...     ...     ...     ...\n",
       "137  TSLA250530C00660000   660.0    0.00    0.01\n",
       "138  TSLA250530C00670000   670.0    0.00    0.01\n",
       "139  TSLA250530C00680000   680.0    0.00    0.01\n",
       "140  TSLA250530C00690000   690.0    0.00    0.01\n",
       "141  TSLA250530C00700000   700.0    0.00    0.01\n",
       "\n",
       "[142 rows x 4 columns]"
      ],
      "text/html": [
       "<div>\n",
       "<style scoped>\n",
       "    .dataframe tbody tr th:only-of-type {\n",
       "        vertical-align: middle;\n",
       "    }\n",
       "\n",
       "    .dataframe tbody tr th {\n",
       "        vertical-align: top;\n",
       "    }\n",
       "\n",
       "    .dataframe thead th {\n",
       "        text-align: right;\n",
       "    }\n",
       "</style>\n",
       "<table border=\"1\" class=\"dataframe\">\n",
       "  <thead>\n",
       "    <tr style=\"text-align: right;\">\n",
       "      <th></th>\n",
       "      <th>contractSymbol</th>\n",
       "      <th>strike</th>\n",
       "      <th>bid</th>\n",
       "      <th>ask</th>\n",
       "    </tr>\n",
       "  </thead>\n",
       "  <tbody>\n",
       "    <tr>\n",
       "      <th>0</th>\n",
       "      <td>TSLA250530C00050000</td>\n",
       "      <td>50.0</td>\n",
       "      <td>288.05</td>\n",
       "      <td>290.70</td>\n",
       "    </tr>\n",
       "    <tr>\n",
       "      <th>1</th>\n",
       "      <td>TSLA250530C00055000</td>\n",
       "      <td>55.0</td>\n",
       "      <td>283.00</td>\n",
       "      <td>285.70</td>\n",
       "    </tr>\n",
       "    <tr>\n",
       "      <th>2</th>\n",
       "      <td>TSLA250530C00080000</td>\n",
       "      <td>80.0</td>\n",
       "      <td>258.05</td>\n",
       "      <td>260.75</td>\n",
       "    </tr>\n",
       "    <tr>\n",
       "      <th>3</th>\n",
       "      <td>TSLA250530C00090000</td>\n",
       "      <td>90.0</td>\n",
       "      <td>248.05</td>\n",
       "      <td>250.75</td>\n",
       "    </tr>\n",
       "    <tr>\n",
       "      <th>4</th>\n",
       "      <td>TSLA250530C00100000</td>\n",
       "      <td>100.0</td>\n",
       "      <td>238.05</td>\n",
       "      <td>240.75</td>\n",
       "    </tr>\n",
       "    <tr>\n",
       "      <th>...</th>\n",
       "      <td>...</td>\n",
       "      <td>...</td>\n",
       "      <td>...</td>\n",
       "      <td>...</td>\n",
       "    </tr>\n",
       "    <tr>\n",
       "      <th>137</th>\n",
       "      <td>TSLA250530C00660000</td>\n",
       "      <td>660.0</td>\n",
       "      <td>0.00</td>\n",
       "      <td>0.01</td>\n",
       "    </tr>\n",
       "    <tr>\n",
       "      <th>138</th>\n",
       "      <td>TSLA250530C00670000</td>\n",
       "      <td>670.0</td>\n",
       "      <td>0.00</td>\n",
       "      <td>0.01</td>\n",
       "    </tr>\n",
       "    <tr>\n",
       "      <th>139</th>\n",
       "      <td>TSLA250530C00680000</td>\n",
       "      <td>680.0</td>\n",
       "      <td>0.00</td>\n",
       "      <td>0.01</td>\n",
       "    </tr>\n",
       "    <tr>\n",
       "      <th>140</th>\n",
       "      <td>TSLA250530C00690000</td>\n",
       "      <td>690.0</td>\n",
       "      <td>0.00</td>\n",
       "      <td>0.01</td>\n",
       "    </tr>\n",
       "    <tr>\n",
       "      <th>141</th>\n",
       "      <td>TSLA250530C00700000</td>\n",
       "      <td>700.0</td>\n",
       "      <td>0.00</td>\n",
       "      <td>0.01</td>\n",
       "    </tr>\n",
       "  </tbody>\n",
       "</table>\n",
       "<p>142 rows × 4 columns</p>\n",
       "</div>"
      ]
     },
     "execution_count": 15,
     "metadata": {},
     "output_type": "execute_result"
    }
   ],
   "execution_count": 15
  },
  {
   "cell_type": "code",
   "id": "38548d76967ecfe7",
   "metadata": {
    "ExecuteTime": {
     "end_time": "2025-06-27T10:10:32.087203Z",
     "start_time": "2025-06-27T10:10:32.082305Z"
    }
   },
   "source": "compare_df.loc[:, 'NPV'] = df_iv",
   "outputs": [
    {
     "name": "stderr",
     "output_type": "stream",
     "text": [
      "/var/folders/v_/g8cn51c96_l31y5zbwlvt2j00000gp/T/ipykernel_48968/1926182367.py:1: SettingWithCopyWarning: \n",
      "A value is trying to be set on a copy of a slice from a DataFrame.\n",
      "Try using .loc[row_indexer,col_indexer] = value instead\n",
      "\n",
      "See the caveats in the documentation: https://pandas.pydata.org/pandas-docs/stable/user_guide/indexing.html#returning-a-view-versus-a-copy\n",
      "  compare_df.loc[:, 'NPV'] = df_iv\n"
     ]
    }
   ],
   "execution_count": 16
  },
  {
   "metadata": {
    "ExecuteTime": {
     "end_time": "2025-06-27T10:10:32.177990Z",
     "start_time": "2025-06-27T10:10:32.163684Z"
    }
   },
   "cell_type": "code",
   "source": "compare_df",
   "id": "f3a7bc624cfd430c",
   "outputs": [
    {
     "data": {
      "text/plain": [
       "          contractSymbol  strike     bid     ask           NPV\n",
       "0    TSLA250530C00050000    50.0  288.05  290.70  2.893879e+02\n",
       "1    TSLA250530C00055000    55.0  283.00  285.70  2.843927e+02\n",
       "2    TSLA250530C00080000    80.0  258.05  260.75  2.594167e+02\n",
       "3    TSLA250530C00090000    90.0  248.05  250.75  2.494263e+02\n",
       "4    TSLA250530C00100000   100.0  238.05  240.75  2.394358e+02\n",
       "..                   ...     ...     ...     ...           ...\n",
       "137  TSLA250530C00660000   660.0    0.00    0.01  2.331466e-11\n",
       "138  TSLA250530C00670000   670.0    0.00    0.01  7.684826e-12\n",
       "139  TSLA250530C00680000   680.0    0.00    0.01  2.517181e-12\n",
       "140  TSLA250530C00690000   690.0    0.00    0.01  8.197480e-13\n",
       "141  TSLA250530C00700000   700.0    0.00    0.01  2.655398e-13\n",
       "\n",
       "[142 rows x 5 columns]"
      ],
      "text/html": [
       "<div>\n",
       "<style scoped>\n",
       "    .dataframe tbody tr th:only-of-type {\n",
       "        vertical-align: middle;\n",
       "    }\n",
       "\n",
       "    .dataframe tbody tr th {\n",
       "        vertical-align: top;\n",
       "    }\n",
       "\n",
       "    .dataframe thead th {\n",
       "        text-align: right;\n",
       "    }\n",
       "</style>\n",
       "<table border=\"1\" class=\"dataframe\">\n",
       "  <thead>\n",
       "    <tr style=\"text-align: right;\">\n",
       "      <th></th>\n",
       "      <th>contractSymbol</th>\n",
       "      <th>strike</th>\n",
       "      <th>bid</th>\n",
       "      <th>ask</th>\n",
       "      <th>NPV</th>\n",
       "    </tr>\n",
       "  </thead>\n",
       "  <tbody>\n",
       "    <tr>\n",
       "      <th>0</th>\n",
       "      <td>TSLA250530C00050000</td>\n",
       "      <td>50.0</td>\n",
       "      <td>288.05</td>\n",
       "      <td>290.70</td>\n",
       "      <td>2.893879e+02</td>\n",
       "    </tr>\n",
       "    <tr>\n",
       "      <th>1</th>\n",
       "      <td>TSLA250530C00055000</td>\n",
       "      <td>55.0</td>\n",
       "      <td>283.00</td>\n",
       "      <td>285.70</td>\n",
       "      <td>2.843927e+02</td>\n",
       "    </tr>\n",
       "    <tr>\n",
       "      <th>2</th>\n",
       "      <td>TSLA250530C00080000</td>\n",
       "      <td>80.0</td>\n",
       "      <td>258.05</td>\n",
       "      <td>260.75</td>\n",
       "      <td>2.594167e+02</td>\n",
       "    </tr>\n",
       "    <tr>\n",
       "      <th>3</th>\n",
       "      <td>TSLA250530C00090000</td>\n",
       "      <td>90.0</td>\n",
       "      <td>248.05</td>\n",
       "      <td>250.75</td>\n",
       "      <td>2.494263e+02</td>\n",
       "    </tr>\n",
       "    <tr>\n",
       "      <th>4</th>\n",
       "      <td>TSLA250530C00100000</td>\n",
       "      <td>100.0</td>\n",
       "      <td>238.05</td>\n",
       "      <td>240.75</td>\n",
       "      <td>2.394358e+02</td>\n",
       "    </tr>\n",
       "    <tr>\n",
       "      <th>...</th>\n",
       "      <td>...</td>\n",
       "      <td>...</td>\n",
       "      <td>...</td>\n",
       "      <td>...</td>\n",
       "      <td>...</td>\n",
       "    </tr>\n",
       "    <tr>\n",
       "      <th>137</th>\n",
       "      <td>TSLA250530C00660000</td>\n",
       "      <td>660.0</td>\n",
       "      <td>0.00</td>\n",
       "      <td>0.01</td>\n",
       "      <td>2.331466e-11</td>\n",
       "    </tr>\n",
       "    <tr>\n",
       "      <th>138</th>\n",
       "      <td>TSLA250530C00670000</td>\n",
       "      <td>670.0</td>\n",
       "      <td>0.00</td>\n",
       "      <td>0.01</td>\n",
       "      <td>7.684826e-12</td>\n",
       "    </tr>\n",
       "    <tr>\n",
       "      <th>139</th>\n",
       "      <td>TSLA250530C00680000</td>\n",
       "      <td>680.0</td>\n",
       "      <td>0.00</td>\n",
       "      <td>0.01</td>\n",
       "      <td>2.517181e-12</td>\n",
       "    </tr>\n",
       "    <tr>\n",
       "      <th>140</th>\n",
       "      <td>TSLA250530C00690000</td>\n",
       "      <td>690.0</td>\n",
       "      <td>0.00</td>\n",
       "      <td>0.01</td>\n",
       "      <td>8.197480e-13</td>\n",
       "    </tr>\n",
       "    <tr>\n",
       "      <th>141</th>\n",
       "      <td>TSLA250530C00700000</td>\n",
       "      <td>700.0</td>\n",
       "      <td>0.00</td>\n",
       "      <td>0.01</td>\n",
       "      <td>2.655398e-13</td>\n",
       "    </tr>\n",
       "  </tbody>\n",
       "</table>\n",
       "<p>142 rows × 5 columns</p>\n",
       "</div>"
      ]
     },
     "execution_count": 17,
     "metadata": {},
     "output_type": "execute_result"
    }
   ],
   "execution_count": 17
  },
  {
   "metadata": {
    "ExecuteTime": {
     "end_time": "2025-06-27T10:10:32.581555Z",
     "start_time": "2025-06-27T10:10:32.287861Z"
    }
   },
   "cell_type": "code",
   "source": "compare_df[['bid', 'ask', 'NPV']].plot()",
   "id": "470bc38b0a889243",
   "outputs": [
    {
     "data": {
      "text/plain": [
       "<Axes: >"
      ]
     },
     "execution_count": 18,
     "metadata": {},
     "output_type": "execute_result"
    },
    {
     "data": {
      "text/plain": [
       "<Figure size 640x480 with 1 Axes>"
      ],
      "image/png": "[encoded data removed]"
     },
     "metadata": {},
     "output_type": "display_data"
    }
   ],
   "execution_count": 18
  },
  {
   "metadata": {
    "ExecuteTime": {
     "end_time": "2025-06-27T10:10:32.783124Z",
     "start_time": "2025-06-27T10:10:32.775013Z"
    }
   },
   "cell_type": "code",
   "source": "compare_df['bid'].values",
   "id": "91f9090644f00b3",
   "outputs": [
    {
     "data": {
      "text/plain": [
       "array([2.8805e+02, 2.8300e+02, 2.5805e+02, 2.4805e+02, 2.3805e+02,\n",
       "       2.2805e+02, 2.1810e+02, 2.0810e+02, 2.0340e+02, 1.9810e+02,\n",
       "       1.8810e+02, 1.8300e+02, 1.7815e+02, 1.7315e+02, 1.6815e+02,\n",
       "       1.6315e+02, 1.5815e+02, 1.5315e+02, 1.4820e+02, 1.4320e+02,\n",
       "       1.3820e+02, 1.3320e+02, 1.2820e+02, 1.2325e+02, 1.1830e+02,\n",
       "       1.1330e+02, 1.0830e+02, 1.0335e+02, 9.7700e+01, 9.5850e+01,\n",
       "       9.3350e+01, 9.0850e+01, 8.8250e+01, 8.5850e+01, 8.3150e+01,\n",
       "       8.0900e+01, 7.8050e+01, 7.5900e+01, 7.3000e+01, 7.0950e+01,\n",
       "       6.9200e+01, 6.5950e+01, 6.3450e+01, 6.1000e+01, 5.9150e+01,\n",
       "       5.6050e+01, 5.3350e+01, 5.1800e+01, 4.9400e+01, 4.6350e+01,\n",
       "       4.4550e+01, 4.1800e+01, 4.0000e+01, 3.6900e+01, 3.4900e+01,\n",
       "       3.1950e+01, 2.9850e+01, 2.8400e+01, 2.6350e+01, 2.4400e+01,\n",
       "       2.2550e+01, 2.0650e+01, 1.8750e+01, 1.7000e+01, 1.5300e+01,\n",
       "       1.3750e+01, 1.2250e+01, 1.0900e+01, 9.6500e+00, 8.5000e+00,\n",
       "       7.4500e+00, 6.5000e+00, 5.6500e+00, 4.9000e+00, 4.2000e+00,\n",
       "       3.6500e+00, 3.1500e+00, 2.7100e+00, 2.3400e+00, 2.0200e+00,\n",
       "       1.7400e+00, 1.5100e+00, 1.3200e+00, 1.1500e+00, 1.0100e+00,\n",
       "       8.8000e-01, 7.8000e-01, 6.8000e-01, 6.0000e-01, 5.3000e-01,\n",
       "       4.7000e-01, 4.2000e-01, 3.7000e-01, 3.3000e-01, 3.0000e-01,\n",
       "       2.7000e-01, 2.4000e-01, 2.1000e-01, 1.9000e-01, 1.7000e-01,\n",
       "       1.5000e-01, 1.4000e-01, 1.2000e-01, 1.1000e-01, 1.0000e-01,\n",
       "       9.0000e-02, 8.0000e-02, 7.0000e-02, 6.0000e-02, 6.0000e-02,\n",
       "       5.0000e-02, 5.0000e-02, 4.0000e-02, 3.0000e-02, 3.0000e-02,\n",
       "       2.0000e-02, 3.0000e-02, 1.0000e-02, 1.0000e-02, 1.0000e-02,\n",
       "       1.0000e-02, 1.0000e-02, 1.0000e-02, 0.0000e+00, 0.0000e+00,\n",
       "       0.0000e+00, 0.0000e+00, 0.0000e+00, 0.0000e+00, 0.0000e+00,\n",
       "       0.0000e+00, 0.0000e+00, 0.0000e+00, 0.0000e+00, 0.0000e+00,\n",
       "       0.0000e+00, 0.0000e+00, 0.0000e+00, 0.0000e+00, 0.0000e+00,\n",
       "       0.0000e+00, 0.0000e+00])"
      ]
     },
     "execution_count": 19,
     "metadata": {},
     "output_type": "execute_result"
    }
   ],
   "execution_count": 19
  },
  {
   "metadata": {},
   "cell_type": "markdown",
   "source": "# calculate implied volatility",
   "id": "5d90bc9af244f55f"
  },
  {
   "metadata": {
    "jupyter": {
     "is_executing": true
    },
    "ExecuteTime": {
     "start_time": "2025-06-27T10:10:41.920362Z"
    }
   },
   "cell_type": "code",
   "source": "tsla_options.impliedVolatility(compare_df['bid'].values)",
   "id": "34794b351a1e9830",
   "outputs": [],
   "execution_count": null
  }
 ],
 "metadata": {
  "kernelspec": {
   "display_name": "Python 3 (ipykernel)",
   "language": "python",
   "name": "python3"
  },
  "language_info": {
   "codemirror_mode": {
    "name": "ipython",
    "version": 3
   },
   "file_extension": ".py",
   "mimetype": "text/x-python",
   "name": "python",
   "nbconvert_exporter": "python",
   "pygments_lexer": "ipython3",
   "version": "3.12.4"
  }
 },
 "nbformat": 4,
 "nbformat_minor": 5
}
