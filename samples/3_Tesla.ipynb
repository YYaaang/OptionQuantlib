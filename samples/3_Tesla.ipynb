{
 "cells": [
  {
   "cell_type": "code",
   "id": "43ef3644d4464c2f",
   "metadata": {
    "ExecuteTime": {
     "end_time": "2025-06-19T07:11:56.287987Z",
     "start_time": "2025-06-19T07:11:56.281485Z"
    }
   },
   "source": [
    "import sys\n",
    "import os\n",
    "current_path = os.getcwd()  # 获取当前工作目录\n",
    "print(\"当前路径:\", current_path)\n",
    "current_path = current_path.replace('/samples', '')\n",
    "print(sys.path)  # 显示所有模块搜索路径\n",
    "sys.path.append(current_path)  # 添加自定义路径\n",
    "print(sys.path)  # 显示所有模块搜索路径"
   ],
   "outputs": [
    {
     "name": "stdout",
     "output_type": "stream",
     "text": [
      "当前路径: /Users/yang/PycharmProjects/Option/samples\n",
      "['/Users/yang/PycharmProjects/Option/samples', '/Users/yang/PycharmProjects/Option', '/opt/anaconda3/lib/python312.zip', '/opt/anaconda3/lib/python3.12', '/opt/anaconda3/lib/python3.12/lib-dynload', '', '/opt/anaconda3/lib/python3.12/site-packages', '/opt/anaconda3/lib/python3.12/site-packages/aeosa']\n",
      "['/Users/yang/PycharmProjects/Option/samples', '/Users/yang/PycharmProjects/Option', '/opt/anaconda3/lib/python312.zip', '/opt/anaconda3/lib/python3.12', '/opt/anaconda3/lib/python3.12/lib-dynload', '', '/opt/anaconda3/lib/python3.12/site-packages', '/opt/anaconda3/lib/python3.12/site-packages/aeosa', '/Users/yang/PycharmProjects/Option']\n"
     ]
    }
   ],
   "execution_count": 1
  },
  {
   "cell_type": "code",
   "id": "initial_id",
   "metadata": {
    "collapsed": true,
    "jupyter": {
     "outputs_hidden": true
    },
    "ExecuteTime": {
     "end_time": "2025-06-19T07:11:58.223058Z",
     "start_time": "2025-06-19T07:11:56.299832Z"
    }
   },
   "source": [
    "import yfinance as yf\n",
    "import pandas as pd\n",
    "import numpy as np \n",
    "import QuantLib as ql \n",
    "import math\n",
    "from datetime import datetime\n",
    "\n",
    "from src.QlCalendar import QlCalendar\n",
    "from src.QlStocks import QlStocks\n",
    "from src.QlEuropeanOptions import QlEuropeanOptions"
   ],
   "outputs": [],
   "execution_count": 2
  },
  {
   "metadata": {},
   "cell_type": "markdown",
   "source": "# yfinance 动态获取期权值",
   "id": "a135122b38360343"
  },
  {
   "cell_type": "code",
   "id": "3f80547e26bde220",
   "metadata": {
    "ExecuteTime": {
     "end_time": "2025-06-19T07:11:58.297219Z",
     "start_time": "2025-06-19T07:11:58.294667Z"
    }
   },
   "source": [
    "# ticker = 'TSLA'\n",
    "# \n",
    "# tsla = yf.Ticker(ticker)"
   ],
   "outputs": [],
   "execution_count": 3
  },
  {
   "cell_type": "code",
   "id": "7e5242dcd70ab17a",
   "metadata": {
    "ExecuteTime": {
     "end_time": "2025-06-19T07:11:58.309275Z",
     "start_time": "2025-06-19T07:11:58.305631Z"
    }
   },
   "source": "# expiration_dates = tsla.options",
   "outputs": [],
   "execution_count": 4
  },
  {
   "cell_type": "code",
   "id": "96c2fe699b14a2e4",
   "metadata": {
    "ExecuteTime": {
     "end_time": "2025-06-19T07:11:58.320390Z",
     "start_time": "2025-06-19T07:11:58.317855Z"
    }
   },
   "source": [
    "# selected_date = expiration_dates[0]\n",
    "# selected_date"
   ],
   "outputs": [],
   "execution_count": 5
  },
  {
   "cell_type": "code",
   "id": "6a0fa8bc7006985",
   "metadata": {
    "ExecuteTime": {
     "end_time": "2025-06-19T07:11:58.331241Z",
     "start_time": "2025-06-19T07:11:58.328574Z"
    }
   },
   "source": "# option_chain = tsla.option_chain(selected_date)",
   "outputs": [],
   "execution_count": 6
  },
  {
   "metadata": {},
   "cell_type": "markdown",
   "source": "# 本地的示例",
   "id": "5f78848ff52ad8f5"
  },
  {
   "cell_type": "code",
   "id": "eb723eca5e5194ac",
   "metadata": {
    "ExecuteTime": {
     "end_time": "2025-06-19T07:11:58.366856Z",
     "start_time": "2025-06-19T07:11:58.339564Z"
    }
   },
   "source": [
    "df = pd.read_csv(r'../data/calls.csv', index_col=0)\n",
    "df"
   ],
   "outputs": [
    {
     "data": {
      "text/plain": [
       "          contractSymbol              lastTradeDate  strike  lastPrice  \\\n",
       "0    TSLA250530C00050000  2025-05-23 18:30:52+00:00    50.0     290.95   \n",
       "1    TSLA250530C00055000  2025-05-20 14:32:36+00:00    55.0     289.80   \n",
       "2    TSLA250530C00080000  2025-04-23 14:28:59+00:00    80.0     175.60   \n",
       "3    TSLA250530C00090000  2025-04-28 15:25:29+00:00    90.0     186.00   \n",
       "4    TSLA250530C00100000  2025-05-23 19:16:34+00:00   100.0     241.58   \n",
       "..                   ...                        ...     ...        ...   \n",
       "137  TSLA250530C00660000  2025-05-21 14:46:41+00:00   660.0       0.01   \n",
       "138  TSLA250530C00670000  2025-05-21 13:33:06+00:00   670.0       0.02   \n",
       "139  TSLA250530C00680000  2025-05-16 15:53:53+00:00   680.0       0.03   \n",
       "140  TSLA250530C00690000  2025-05-20 15:14:21+00:00   690.0       0.01   \n",
       "141  TSLA250530C00700000  2025-05-23 13:30:00+00:00   700.0       0.07   \n",
       "\n",
       "        bid     ask    change  percentChange  volume  openInterest  \\\n",
       "0    288.05  290.70  7.000000       2.465223     5.0             8   \n",
       "1    283.00  285.70  0.000000       0.000000     6.0            12   \n",
       "2    258.05  260.75  0.000000       0.000000     1.0             1   \n",
       "3    248.05  250.75  0.000000       0.000000     NaN            10   \n",
       "4    238.05  240.75 -3.419998      -1.395918     1.0             0   \n",
       "..      ...     ...       ...            ...     ...           ...   \n",
       "137    0.00    0.01  0.000000       0.000000     8.0            62   \n",
       "138    0.00    0.01  0.000000       0.000000     1.0            70   \n",
       "139    0.00    0.01  0.000000       0.000000    16.0            16   \n",
       "140    0.00    0.01  0.000000       0.000000     4.0            11   \n",
       "141    0.00    0.01  0.060000     600.000100     1.0           102   \n",
       "\n",
       "     impliedVolatility  inTheMoney contractSize currency  \n",
       "0             5.531253        True      REGULAR      USD  \n",
       "1             4.750004        True      REGULAR      USD  \n",
       "2             4.390630        True      REGULAR      USD  \n",
       "3             4.039067        True      REGULAR      USD  \n",
       "4             3.726563        True      REGULAR      USD  \n",
       "..                 ...         ...          ...      ...  \n",
       "137           1.625002       False      REGULAR      USD  \n",
       "138           1.656252       False      REGULAR      USD  \n",
       "139           1.687502       False      REGULAR      USD  \n",
       "140           1.718751       False      REGULAR      USD  \n",
       "141           1.750001       False      REGULAR      USD  \n",
       "\n",
       "[142 rows x 14 columns]"
      ],
      "text/html": [
       "<div>\n",
       "<style scoped>\n",
       "    .dataframe tbody tr th:only-of-type {\n",
       "        vertical-align: middle;\n",
       "    }\n",
       "\n",
       "    .dataframe tbody tr th {\n",
       "        vertical-align: top;\n",
       "    }\n",
       "\n",
       "    .dataframe thead th {\n",
       "        text-align: right;\n",
       "    }\n",
       "</style>\n",
       "<table border=\"1\" class=\"dataframe\">\n",
       "  <thead>\n",
       "    <tr style=\"text-align: right;\">\n",
       "      <th></th>\n",
       "      <th>contractSymbol</th>\n",
       "      <th>lastTradeDate</th>\n",
       "      <th>strike</th>\n",
       "      <th>lastPrice</th>\n",
       "      <th>bid</th>\n",
       "      <th>ask</th>\n",
       "      <th>change</th>\n",
       "      <th>percentChange</th>\n",
       "      <th>volume</th>\n",
       "      <th>openInterest</th>\n",
       "      <th>impliedVolatility</th>\n",
       "      <th>inTheMoney</th>\n",
       "      <th>contractSize</th>\n",
       "      <th>currency</th>\n",
       "    </tr>\n",
       "  </thead>\n",
       "  <tbody>\n",
       "    <tr>\n",
       "      <th>0</th>\n",
       "      <td>TSLA250530C00050000</td>\n",
       "      <td>2025-05-23 18:30:52+00:00</td>\n",
       "      <td>50.0</td>\n",
       "      <td>290.95</td>\n",
       "      <td>288.05</td>\n",
       "      <td>290.70</td>\n",
       "      <td>7.000000</td>\n",
       "      <td>2.465223</td>\n",
       "      <td>5.0</td>\n",
       "      <td>8</td>\n",
       "      <td>5.531253</td>\n",
       "      <td>True</td>\n",
       "      <td>REGULAR</td>\n",
       "      <td>USD</td>\n",
       "    </tr>\n",
       "    <tr>\n",
       "      <th>1</th>\n",
       "      <td>TSLA250530C00055000</td>\n",
       "      <td>2025-05-20 14:32:36+00:00</td>\n",
       "      <td>55.0</td>\n",
       "      <td>289.80</td>\n",
       "      <td>283.00</td>\n",
       "      <td>285.70</td>\n",
       "      <td>0.000000</td>\n",
       "      <td>0.000000</td>\n",
       "      <td>6.0</td>\n",
       "      <td>12</td>\n",
       "      <td>4.750004</td>\n",
       "      <td>True</td>\n",
       "      <td>REGULAR</td>\n",
       "      <td>USD</td>\n",
       "    </tr>\n",
       "    <tr>\n",
       "      <th>2</th>\n",
       "      <td>TSLA250530C00080000</td>\n",
       "      <td>2025-04-23 14:28:59+00:00</td>\n",
       "      <td>80.0</td>\n",
       "      <td>175.60</td>\n",
       "      <td>258.05</td>\n",
       "      <td>260.75</td>\n",
       "      <td>0.000000</td>\n",
       "      <td>0.000000</td>\n",
       "      <td>1.0</td>\n",
       "      <td>1</td>\n",
       "      <td>4.390630</td>\n",
       "      <td>True</td>\n",
       "      <td>REGULAR</td>\n",
       "      <td>USD</td>\n",
       "    </tr>\n",
       "    <tr>\n",
       "      <th>3</th>\n",
       "      <td>TSLA250530C00090000</td>\n",
       "      <td>2025-04-28 15:25:29+00:00</td>\n",
       "      <td>90.0</td>\n",
       "      <td>186.00</td>\n",
       "      <td>248.05</td>\n",
       "      <td>250.75</td>\n",
       "      <td>0.000000</td>\n",
       "      <td>0.000000</td>\n",
       "      <td>NaN</td>\n",
       "      <td>10</td>\n",
       "      <td>4.039067</td>\n",
       "      <td>True</td>\n",
       "      <td>REGULAR</td>\n",
       "      <td>USD</td>\n",
       "    </tr>\n",
       "    <tr>\n",
       "      <th>4</th>\n",
       "      <td>TSLA250530C00100000</td>\n",
       "      <td>2025-05-23 19:16:34+00:00</td>\n",
       "      <td>100.0</td>\n",
       "      <td>241.58</td>\n",
       "      <td>238.05</td>\n",
       "      <td>240.75</td>\n",
       "      <td>-3.419998</td>\n",
       "      <td>-1.395918</td>\n",
       "      <td>1.0</td>\n",
       "      <td>0</td>\n",
       "      <td>3.726563</td>\n",
       "      <td>True</td>\n",
       "      <td>REGULAR</td>\n",
       "      <td>USD</td>\n",
       "    </tr>\n",
       "    <tr>\n",
       "      <th>...</th>\n",
       "      <td>...</td>\n",
       "      <td>...</td>\n",
       "      <td>...</td>\n",
       "      <td>...</td>\n",
       "      <td>...</td>\n",
       "      <td>...</td>\n",
       "      <td>...</td>\n",
       "      <td>...</td>\n",
       "      <td>...</td>\n",
       "      <td>...</td>\n",
       "      <td>...</td>\n",
       "      <td>...</td>\n",
       "      <td>...</td>\n",
       "      <td>...</td>\n",
       "    </tr>\n",
       "    <tr>\n",
       "      <th>137</th>\n",
       "      <td>TSLA250530C00660000</td>\n",
       "      <td>2025-05-21 14:46:41+00:00</td>\n",
       "      <td>660.0</td>\n",
       "      <td>0.01</td>\n",
       "      <td>0.00</td>\n",
       "      <td>0.01</td>\n",
       "      <td>0.000000</td>\n",
       "      <td>0.000000</td>\n",
       "      <td>8.0</td>\n",
       "      <td>62</td>\n",
       "      <td>1.625002</td>\n",
       "      <td>False</td>\n",
       "      <td>REGULAR</td>\n",
       "      <td>USD</td>\n",
       "    </tr>\n",
       "    <tr>\n",
       "      <th>138</th>\n",
       "      <td>TSLA250530C00670000</td>\n",
       "      <td>2025-05-21 13:33:06+00:00</td>\n",
       "      <td>670.0</td>\n",
       "      <td>0.02</td>\n",
       "      <td>0.00</td>\n",
       "      <td>0.01</td>\n",
       "      <td>0.000000</td>\n",
       "      <td>0.000000</td>\n",
       "      <td>1.0</td>\n",
       "      <td>70</td>\n",
       "      <td>1.656252</td>\n",
       "      <td>False</td>\n",
       "      <td>REGULAR</td>\n",
       "      <td>USD</td>\n",
       "    </tr>\n",
       "    <tr>\n",
       "      <th>139</th>\n",
       "      <td>TSLA250530C00680000</td>\n",
       "      <td>2025-05-16 15:53:53+00:00</td>\n",
       "      <td>680.0</td>\n",
       "      <td>0.03</td>\n",
       "      <td>0.00</td>\n",
       "      <td>0.01</td>\n",
       "      <td>0.000000</td>\n",
       "      <td>0.000000</td>\n",
       "      <td>16.0</td>\n",
       "      <td>16</td>\n",
       "      <td>1.687502</td>\n",
       "      <td>False</td>\n",
       "      <td>REGULAR</td>\n",
       "      <td>USD</td>\n",
       "    </tr>\n",
       "    <tr>\n",
       "      <th>140</th>\n",
       "      <td>TSLA250530C00690000</td>\n",
       "      <td>2025-05-20 15:14:21+00:00</td>\n",
       "      <td>690.0</td>\n",
       "      <td>0.01</td>\n",
       "      <td>0.00</td>\n",
       "      <td>0.01</td>\n",
       "      <td>0.000000</td>\n",
       "      <td>0.000000</td>\n",
       "      <td>4.0</td>\n",
       "      <td>11</td>\n",
       "      <td>1.718751</td>\n",
       "      <td>False</td>\n",
       "      <td>REGULAR</td>\n",
       "      <td>USD</td>\n",
       "    </tr>\n",
       "    <tr>\n",
       "      <th>141</th>\n",
       "      <td>TSLA250530C00700000</td>\n",
       "      <td>2025-05-23 13:30:00+00:00</td>\n",
       "      <td>700.0</td>\n",
       "      <td>0.07</td>\n",
       "      <td>0.00</td>\n",
       "      <td>0.01</td>\n",
       "      <td>0.060000</td>\n",
       "      <td>600.000100</td>\n",
       "      <td>1.0</td>\n",
       "      <td>102</td>\n",
       "      <td>1.750001</td>\n",
       "      <td>False</td>\n",
       "      <td>REGULAR</td>\n",
       "      <td>USD</td>\n",
       "    </tr>\n",
       "  </tbody>\n",
       "</table>\n",
       "<p>142 rows × 14 columns</p>\n",
       "</div>"
      ]
     },
     "execution_count": 7,
     "metadata": {},
     "output_type": "execute_result"
    }
   ],
   "execution_count": 7
  },
  {
   "cell_type": "code",
   "id": "8be8615688631375",
   "metadata": {
    "ExecuteTime": {
     "end_time": "2025-06-19T07:11:58.422764Z",
     "start_time": "2025-06-19T07:11:58.419098Z"
    }
   },
   "source": [
    "calculation_date = ql.Date(23, 5, 2025)  # 当前日期设为2025-05-23\n",
    "strike_date = ql.Date(30,5,2025)\n",
    "ql.Settings.instance().evaluationDate = calculation_date"
   ],
   "outputs": [],
   "execution_count": 8
  },
  {
   "cell_type": "code",
   "id": "760fe06af623629",
   "metadata": {
    "ExecuteTime": {
     "end_time": "2025-06-19T07:11:58.493497Z",
     "start_time": "2025-06-19T07:11:58.490640Z"
    }
   },
   "source": [
    "# 市场参数\n",
    "spot_price = 339.340  # 当前TSLA股价\n",
    "risk_free_rate = 0.05  # 无风险利率\n",
    "dividend_rate = 0.0  # 股息率"
   ],
   "outputs": [],
   "execution_count": 9
  },
  {
   "cell_type": "code",
   "id": "4716fa829e9fec43",
   "metadata": {
    "ExecuteTime": {
     "end_time": "2025-06-19T07:13:11.192706Z",
     "start_time": "2025-06-19T07:13:11.101894Z"
    }
   },
   "source": [
    "ql_calendar = QlCalendar(init_date=calculation_date, init_risk_free_rate=risk_free_rate)\n",
    "ql_stocks = QlStocks(ql_calendar)"
   ],
   "outputs": [],
   "execution_count": 15
  },
  {
   "cell_type": "code",
   "id": "4b1b83909837a104",
   "metadata": {
    "ExecuteTime": {
     "end_time": "2025-06-19T07:13:22.731387Z",
     "start_time": "2025-06-19T07:13:22.710926Z"
    }
   },
   "source": [
    "ql_stocks.add_black_scholes(codes=\"TSLA\", stock_prices=spot_price, sigma=0.70)\n",
    "tsla = ql_stocks.stock('TSLA')"
   ],
   "outputs": [],
   "execution_count": 16
  },
  {
   "cell_type": "code",
   "id": "fbf5e34fb49c43a1",
   "metadata": {
    "ExecuteTime": {
     "end_time": "2025-06-19T07:16:43.566418Z",
     "start_time": "2025-06-19T07:16:43.529143Z"
    }
   },
   "source": [
    "tsla_options = QlEuropeanOptions(tsla)  \n",
    "tsla_options.add_options(\n",
    "    option_types = 'call',\n",
    "    strike_prices = df['strike'].values,\n",
    "    maturity_dates = strike_date,\n",
    "    codes = df['contractSymbol'].values\n",
    ")"
   ],
   "outputs": [
    {
     "data": {
      "text/plain": [
       "codes                types  strike  maturity      \n",
       "TSLA250530C00050000  call   50.0    May 30th, 2025    <QuantLib.QuantLib.EuropeanOption; proxy of <S...\n",
       "TSLA250530C00055000  call   55.0    May 30th, 2025    <QuantLib.QuantLib.EuropeanOption; proxy of <S...\n",
       "TSLA250530C00080000  call   80.0    May 30th, 2025    <QuantLib.QuantLib.EuropeanOption; proxy of <S...\n",
       "TSLA250530C00090000  call   90.0    May 30th, 2025    <QuantLib.QuantLib.EuropeanOption; proxy of <S...\n",
       "TSLA250530C00100000  call   100.0   May 30th, 2025    <QuantLib.QuantLib.EuropeanOption; proxy of <S...\n",
       "                                                                            ...                        \n",
       "TSLA250530C00660000  call   660.0   May 30th, 2025    <QuantLib.QuantLib.EuropeanOption; proxy of <S...\n",
       "TSLA250530C00670000  call   670.0   May 30th, 2025    <QuantLib.QuantLib.EuropeanOption; proxy of <S...\n",
       "TSLA250530C00680000  call   680.0   May 30th, 2025    <QuantLib.QuantLib.EuropeanOption; proxy of <S...\n",
       "TSLA250530C00690000  call   690.0   May 30th, 2025    <QuantLib.QuantLib.EuropeanOption; proxy of <S...\n",
       "TSLA250530C00700000  call   700.0   May 30th, 2025    <QuantLib.QuantLib.EuropeanOption; proxy of <S...\n",
       "Name: options, Length: 142, dtype: object"
      ]
     },
     "execution_count": 20,
     "metadata": {},
     "output_type": "execute_result"
    }
   ],
   "execution_count": 20
  },
  {
   "cell_type": "code",
   "id": "a7882d1c512de9ba",
   "metadata": {
    "ExecuteTime": {
     "end_time": "2025-06-19T07:17:29.034295Z",
     "start_time": "2025-06-19T07:17:29.015678Z"
    }
   },
   "source": [
    "# 解析解 引擎\n",
    "tsla_options.analytic_engines()"
   ],
   "outputs": [],
   "execution_count": 22
  },
  {
   "cell_type": "code",
   "id": "63ddba72e2badfb9",
   "metadata": {
    "ExecuteTime": {
     "end_time": "2025-06-19T07:17:30.252261Z",
     "start_time": "2025-06-19T07:17:30.227269Z"
    }
   },
   "source": [
    "df_iv = tsla_options.NPV()\n",
    "df_iv"
   ],
   "outputs": [
    {
     "data": {
      "text/plain": [
       "[289.38957857798823,\n",
       " 284.3945364357871,\n",
       " 259.41932572478123,\n",
       " 249.42924144037892,\n",
       " 239.4391571559766,\n",
       " 229.44907287157426,\n",
       " 219.45898858717192,\n",
       " 209.46890430276963,\n",
       " 204.47386216056847,\n",
       " 199.4788200183673,\n",
       " 189.48873573396503,\n",
       " 184.4936935917638,\n",
       " 179.4986514495627,\n",
       " 174.50360930736184,\n",
       " 169.50856716516395,\n",
       " 164.513525022989,\n",
       " 159.51848288097324,\n",
       " 154.52344073992194,\n",
       " 149.52839860403282,\n",
       " 144.53335649275726,\n",
       " 139.53831448682485,\n",
       " 134.543272888402,\n",
       " 129.5482327239431,\n",
       " 124.55319717639422,\n",
       " 119.55817530366834,\n",
       " 114.56319087754063,\n",
       " 109.56830169218861,\n",
       " 104.57363845270122,\n",
       " 99.57947717758182,\n",
       " 97.08274005871367,\n",
       " 94.58636404813099,\n",
       " 92.09049232004548,\n",
       " 89.59531502395369,\n",
       " 87.10108107697411,\n",
       " 84.60811176067868,\n",
       " 82.11681607484299,\n",
       " 79.62770770076007,\n",
       " 77.14142331304019,\n",
       " 74.65874185604022,\n",
       " 72.1806042756983,\n",
       " 69.70813307730282,\n",
       " 67.24265097309896,\n",
       " 64.78569779935843,\n",
       " 62.33904482883865,\n",
       " 59.904705588532174,\n",
       " 57.48494231951257,\n",
       " 55.08226728842318,\n",
       " 52.699438278858935,\n",
       " 50.33944775275665,\n",
       " 48.005505371192385,\n",
       " 45.7010137923398,\n",
       " 43.42953791121816,\n",
       " 41.19476795922092,\n",
       " 39.00047712847663,\n",
       " 36.85047461416974,\n",
       " 34.74855516525629,\n",
       " 32.698446390434725,\n",
       " 30.70375517392826,\n",
       " 28.76791460948729,\n",
       " 26.894132858856317,\n",
       " 25.08534528363399,\n",
       " 23.344171090665732,\n",
       " 21.672875577052793,\n",
       " 20.073338869772975,\n",
       " 18.54703183647465,\n",
       " 17.09499960875989,\n",
       " 15.717852917935728,\n",
       " 14.415767206138577,\n",
       " 13.188489252353834,\n",
       " 12.035350851273792,\n",
       " 10.95528890964317,\n",
       " 9.946871184398313,\n",
       " 9.008326782306122,\n",
       " 8.137580472926212,\n",
       " 7.3322898348377725,\n",
       " 6.589884257018057,\n",
       " 5.907604849658155,\n",
       " 5.282544377283935,\n",
       " 4.711686406953141,\n",
       " 4.191942960365736,\n",
       " 3.7201900657716584,\n",
       " 3.2933007186177496,\n",
       " 2.908174874369471,\n",
       " 2.561766208853016,\n",
       " 2.2511054873979766,\n",
       " 1.973320481334117,\n",
       " 1.7256524570091742,\n",
       " 1.5054693371450631,\n",
       " 1.3102756963465565,\n",
       " 1.1377198017967924,\n",
       " 0.9855979469642381,\n",
       " 0.8518563512318356,\n",
       " 0.7345909127639917,\n",
       " 0.6320451068693195,\n",
       " 0.5426063189394084,\n",
       " 0.46480089113772954,\n",
       " 0.3972881467569734,\n",
       " 0.3388536368762748,\n",
       " 0.2884018318511889,\n",
       " 0.2449484563564913,\n",
       " 0.20761264212723032,\n",
       " 0.1756090480139363,\n",
       " 0.1482400731430633,\n",
       " 0.124888266362755,\n",
       " 0.10500901414514859,\n",
       " 0.08812356996203953,\n",
       " 0.07381247101499885,\n",
       " 0.06170937314187329,\n",
       " 0.05149532173774782,\n",
       " 0.0428934655492316,\n",
       " 0.035664211117223656,\n",
       " 0.02960080831295143,\n",
       " 0.024525351671225108,\n",
       " 0.02028517789890254,\n",
       " 0.016749636849546997,\n",
       " 0.013807211230537528,\n",
       " 0.011362959180063878,\n",
       " 0.007658791244840059,\n",
       " 0.005129758717977878,\n",
       " 0.002259987736734348,\n",
       " 0.0009731156067409611,\n",
       " 0.0004100977303129818,\n",
       " 0.00016937898753865136,\n",
       " 6.864913180909136e-05,\n",
       " 2.73361947410802e-05,\n",
       " 1.0706897309162136e-05,\n",
       " 4.129323246491696e-06,\n",
       " 1.5697270445841586e-06,\n",
       " 5.887274737318994e-07,\n",
       " 2.1804196777910578e-07,\n",
       " 7.981173439771103e-08,\n",
       " 2.8896758683122986e-08,\n",
       " 1.0356286938320954e-08,\n",
       " 3.676560399637668e-09,\n",
       " 1.2937531140879479e-09,\n",
       " 4.51549123448221e-10,\n",
       " 1.564079391243071e-10,\n",
       " 5.379651305232338e-11,\n",
       " 1.838308679790024e-11,\n",
       " 6.244045463540458e-12,\n",
       " 2.1091090187254933e-12,\n",
       " 7.087741427139581e-13]"
      ]
     },
     "execution_count": 23,
     "metadata": {},
     "output_type": "execute_result"
    }
   ],
   "execution_count": 23
  },
  {
   "cell_type": "code",
   "id": "fa8af7c89cff390c",
   "metadata": {
    "ExecuteTime": {
     "end_time": "2025-06-19T07:19:41.272613Z",
     "start_time": "2025-06-19T07:19:41.259440Z"
    }
   },
   "source": [
    "compare_df = df[['contractSymbol', 'strike', 'bid', 'ask']]\n",
    "compare_df"
   ],
   "outputs": [
    {
     "data": {
      "text/plain": [
       "          contractSymbol  strike     bid     ask\n",
       "0    TSLA250530C00050000    50.0  288.05  290.70\n",
       "1    TSLA250530C00055000    55.0  283.00  285.70\n",
       "2    TSLA250530C00080000    80.0  258.05  260.75\n",
       "3    TSLA250530C00090000    90.0  248.05  250.75\n",
       "4    TSLA250530C00100000   100.0  238.05  240.75\n",
       "..                   ...     ...     ...     ...\n",
       "137  TSLA250530C00660000   660.0    0.00    0.01\n",
       "138  TSLA250530C00670000   670.0    0.00    0.01\n",
       "139  TSLA250530C00680000   680.0    0.00    0.01\n",
       "140  TSLA250530C00690000   690.0    0.00    0.01\n",
       "141  TSLA250530C00700000   700.0    0.00    0.01\n",
       "\n",
       "[142 rows x 4 columns]"
      ],
      "text/html": [
       "<div>\n",
       "<style scoped>\n",
       "    .dataframe tbody tr th:only-of-type {\n",
       "        vertical-align: middle;\n",
       "    }\n",
       "\n",
       "    .dataframe tbody tr th {\n",
       "        vertical-align: top;\n",
       "    }\n",
       "\n",
       "    .dataframe thead th {\n",
       "        text-align: right;\n",
       "    }\n",
       "</style>\n",
       "<table border=\"1\" class=\"dataframe\">\n",
       "  <thead>\n",
       "    <tr style=\"text-align: right;\">\n",
       "      <th></th>\n",
       "      <th>contractSymbol</th>\n",
       "      <th>strike</th>\n",
       "      <th>bid</th>\n",
       "      <th>ask</th>\n",
       "    </tr>\n",
       "  </thead>\n",
       "  <tbody>\n",
       "    <tr>\n",
       "      <th>0</th>\n",
       "      <td>TSLA250530C00050000</td>\n",
       "      <td>50.0</td>\n",
       "      <td>288.05</td>\n",
       "      <td>290.70</td>\n",
       "    </tr>\n",
       "    <tr>\n",
       "      <th>1</th>\n",
       "      <td>TSLA250530C00055000</td>\n",
       "      <td>55.0</td>\n",
       "      <td>283.00</td>\n",
       "      <td>285.70</td>\n",
       "    </tr>\n",
       "    <tr>\n",
       "      <th>2</th>\n",
       "      <td>TSLA250530C00080000</td>\n",
       "      <td>80.0</td>\n",
       "      <td>258.05</td>\n",
       "      <td>260.75</td>\n",
       "    </tr>\n",
       "    <tr>\n",
       "      <th>3</th>\n",
       "      <td>TSLA250530C00090000</td>\n",
       "      <td>90.0</td>\n",
       "      <td>248.05</td>\n",
       "      <td>250.75</td>\n",
       "    </tr>\n",
       "    <tr>\n",
       "      <th>4</th>\n",
       "      <td>TSLA250530C00100000</td>\n",
       "      <td>100.0</td>\n",
       "      <td>238.05</td>\n",
       "      <td>240.75</td>\n",
       "    </tr>\n",
       "    <tr>\n",
       "      <th>...</th>\n",
       "      <td>...</td>\n",
       "      <td>...</td>\n",
       "      <td>...</td>\n",
       "      <td>...</td>\n",
       "    </tr>\n",
       "    <tr>\n",
       "      <th>137</th>\n",
       "      <td>TSLA250530C00660000</td>\n",
       "      <td>660.0</td>\n",
       "      <td>0.00</td>\n",
       "      <td>0.01</td>\n",
       "    </tr>\n",
       "    <tr>\n",
       "      <th>138</th>\n",
       "      <td>TSLA250530C00670000</td>\n",
       "      <td>670.0</td>\n",
       "      <td>0.00</td>\n",
       "      <td>0.01</td>\n",
       "    </tr>\n",
       "    <tr>\n",
       "      <th>139</th>\n",
       "      <td>TSLA250530C00680000</td>\n",
       "      <td>680.0</td>\n",
       "      <td>0.00</td>\n",
       "      <td>0.01</td>\n",
       "    </tr>\n",
       "    <tr>\n",
       "      <th>140</th>\n",
       "      <td>TSLA250530C00690000</td>\n",
       "      <td>690.0</td>\n",
       "      <td>0.00</td>\n",
       "      <td>0.01</td>\n",
       "    </tr>\n",
       "    <tr>\n",
       "      <th>141</th>\n",
       "      <td>TSLA250530C00700000</td>\n",
       "      <td>700.0</td>\n",
       "      <td>0.00</td>\n",
       "      <td>0.01</td>\n",
       "    </tr>\n",
       "  </tbody>\n",
       "</table>\n",
       "<p>142 rows × 4 columns</p>\n",
       "</div>"
      ]
     },
     "execution_count": 27,
     "metadata": {},
     "output_type": "execute_result"
    }
   ],
   "execution_count": 27
  },
  {
   "cell_type": "code",
   "id": "38548d76967ecfe7",
   "metadata": {
    "ExecuteTime": {
     "end_time": "2025-06-19T07:20:35.223858Z",
     "start_time": "2025-06-19T07:20:35.220232Z"
    }
   },
   "source": "compare_df.loc[:, 'NPV'] = df_iv",
   "outputs": [],
   "execution_count": 34
  },
  {
   "metadata": {
    "ExecuteTime": {
     "end_time": "2025-06-19T07:20:42.842304Z",
     "start_time": "2025-06-19T07:20:42.827194Z"
    }
   },
   "cell_type": "code",
   "source": "compare_df",
   "id": "f3a7bc624cfd430c",
   "outputs": [
    {
     "data": {
      "text/plain": [
       "          contractSymbol  strike     bid     ask           NPV\n",
       "0    TSLA250530C00050000    50.0  288.05  290.70  2.893896e+02\n",
       "1    TSLA250530C00055000    55.0  283.00  285.70  2.843945e+02\n",
       "2    TSLA250530C00080000    80.0  258.05  260.75  2.594193e+02\n",
       "3    TSLA250530C00090000    90.0  248.05  250.75  2.494292e+02\n",
       "4    TSLA250530C00100000   100.0  238.05  240.75  2.394392e+02\n",
       "..                   ...     ...     ...     ...           ...\n",
       "137  TSLA250530C00660000   660.0    0.00    0.01  5.379651e-11\n",
       "138  TSLA250530C00670000   670.0    0.00    0.01  1.838309e-11\n",
       "139  TSLA250530C00680000   680.0    0.00    0.01  6.244045e-12\n",
       "140  TSLA250530C00690000   690.0    0.00    0.01  2.109109e-12\n",
       "141  TSLA250530C00700000   700.0    0.00    0.01  7.087741e-13\n",
       "\n",
       "[142 rows x 5 columns]"
      ],
      "text/html": [
       "<div>\n",
       "<style scoped>\n",
       "    .dataframe tbody tr th:only-of-type {\n",
       "        vertical-align: middle;\n",
       "    }\n",
       "\n",
       "    .dataframe tbody tr th {\n",
       "        vertical-align: top;\n",
       "    }\n",
       "\n",
       "    .dataframe thead th {\n",
       "        text-align: right;\n",
       "    }\n",
       "</style>\n",
       "<table border=\"1\" class=\"dataframe\">\n",
       "  <thead>\n",
       "    <tr style=\"text-align: right;\">\n",
       "      <th></th>\n",
       "      <th>contractSymbol</th>\n",
       "      <th>strike</th>\n",
       "      <th>bid</th>\n",
       "      <th>ask</th>\n",
       "      <th>NPV</th>\n",
       "    </tr>\n",
       "  </thead>\n",
       "  <tbody>\n",
       "    <tr>\n",
       "      <th>0</th>\n",
       "      <td>TSLA250530C00050000</td>\n",
       "      <td>50.0</td>\n",
       "      <td>288.05</td>\n",
       "      <td>290.70</td>\n",
       "      <td>2.893896e+02</td>\n",
       "    </tr>\n",
       "    <tr>\n",
       "      <th>1</th>\n",
       "      <td>TSLA250530C00055000</td>\n",
       "      <td>55.0</td>\n",
       "      <td>283.00</td>\n",
       "      <td>285.70</td>\n",
       "      <td>2.843945e+02</td>\n",
       "    </tr>\n",
       "    <tr>\n",
       "      <th>2</th>\n",
       "      <td>TSLA250530C00080000</td>\n",
       "      <td>80.0</td>\n",
       "      <td>258.05</td>\n",
       "      <td>260.75</td>\n",
       "      <td>2.594193e+02</td>\n",
       "    </tr>\n",
       "    <tr>\n",
       "      <th>3</th>\n",
       "      <td>TSLA250530C00090000</td>\n",
       "      <td>90.0</td>\n",
       "      <td>248.05</td>\n",
       "      <td>250.75</td>\n",
       "      <td>2.494292e+02</td>\n",
       "    </tr>\n",
       "    <tr>\n",
       "      <th>4</th>\n",
       "      <td>TSLA250530C00100000</td>\n",
       "      <td>100.0</td>\n",
       "      <td>238.05</td>\n",
       "      <td>240.75</td>\n",
       "      <td>2.394392e+02</td>\n",
       "    </tr>\n",
       "    <tr>\n",
       "      <th>...</th>\n",
       "      <td>...</td>\n",
       "      <td>...</td>\n",
       "      <td>...</td>\n",
       "      <td>...</td>\n",
       "      <td>...</td>\n",
       "    </tr>\n",
       "    <tr>\n",
       "      <th>137</th>\n",
       "      <td>TSLA250530C00660000</td>\n",
       "      <td>660.0</td>\n",
       "      <td>0.00</td>\n",
       "      <td>0.01</td>\n",
       "      <td>5.379651e-11</td>\n",
       "    </tr>\n",
       "    <tr>\n",
       "      <th>138</th>\n",
       "      <td>TSLA250530C00670000</td>\n",
       "      <td>670.0</td>\n",
       "      <td>0.00</td>\n",
       "      <td>0.01</td>\n",
       "      <td>1.838309e-11</td>\n",
       "    </tr>\n",
       "    <tr>\n",
       "      <th>139</th>\n",
       "      <td>TSLA250530C00680000</td>\n",
       "      <td>680.0</td>\n",
       "      <td>0.00</td>\n",
       "      <td>0.01</td>\n",
       "      <td>6.244045e-12</td>\n",
       "    </tr>\n",
       "    <tr>\n",
       "      <th>140</th>\n",
       "      <td>TSLA250530C00690000</td>\n",
       "      <td>690.0</td>\n",
       "      <td>0.00</td>\n",
       "      <td>0.01</td>\n",
       "      <td>2.109109e-12</td>\n",
       "    </tr>\n",
       "    <tr>\n",
       "      <th>141</th>\n",
       "      <td>TSLA250530C00700000</td>\n",
       "      <td>700.0</td>\n",
       "      <td>0.00</td>\n",
       "      <td>0.01</td>\n",
       "      <td>7.087741e-13</td>\n",
       "    </tr>\n",
       "  </tbody>\n",
       "</table>\n",
       "<p>142 rows × 5 columns</p>\n",
       "</div>"
      ]
     },
     "execution_count": 35,
     "metadata": {},
     "output_type": "execute_result"
    }
   ],
   "execution_count": 35
  },
  {
   "metadata": {
    "ExecuteTime": {
     "end_time": "2025-06-19T07:21:53.531305Z",
     "start_time": "2025-06-19T07:21:53.251271Z"
    }
   },
   "cell_type": "code",
   "source": "compare_df[['bid', 'ask', 'NPV']].plot()",
   "id": "470bc38b0a889243",
   "outputs": [
    {
     "data": {
      "text/plain": [
       "<Axes: >"
      ]
     },
     "execution_count": 36,
     "metadata": {},
     "output_type": "execute_result"
    },
    {
     "data": {
      "text/plain": [
       "<Figure size 640x480 with 1 Axes>"
      ],
      "image/png": "[encoded data removed]"
     },
     "metadata": {},
     "output_type": "display_data"
    }
   ],
   "execution_count": 36
  },
  {
   "metadata": {},
   "cell_type": "code",
   "outputs": [],
   "execution_count": null,
   "source": "",
   "id": "91f9090644f00b3"
  }
 ],
 "metadata": {
  "kernelspec": {
   "display_name": "Python 3 (ipykernel)",
   "language": "python",
   "name": "python3"
  },
  "language_info": {
   "codemirror_mode": {
    "name": "ipython",
    "version": 3
   },
   "file_extension": ".py",
   "mimetype": "text/x-python",
   "name": "python",
   "nbconvert_exporter": "python",
   "pygments_lexer": "ipython3",
   "version": "3.12.4"
  }
 },
 "nbformat": 4,
 "nbformat_minor": 5
}
