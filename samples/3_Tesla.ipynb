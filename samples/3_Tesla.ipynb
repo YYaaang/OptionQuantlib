{
 "cells": [
  {
   "cell_type": "code",
   "execution_count": 20,
   "id": "43ef3644d4464c2f",
   "metadata": {
    "ExecuteTime": {
     "end_time": "2025-06-01T13:12:06.704046Z",
     "start_time": "2025-06-01T13:12:06.682793Z"
    }
   },
   "outputs": [
    {
     "name": "stdout",
     "output_type": "stream",
     "text": [
      "当前路径: /Users/yang/PycharmProjects/Option/samples\n",
      "['/Applications/PyCharm.app/Contents/plugins/python/helpers-pro/jupyter_debug', '/Applications/PyCharm.app/Contents/plugins/python-ce/helpers/pydev', '/Users/yang/PycharmProjects/Option/samples', '/Users/yang/PycharmProjects/Option', '/opt/anaconda3/lib/python312.zip', '/opt/anaconda3/lib/python3.12', '/opt/anaconda3/lib/python3.12/lib-dynload', '', '/opt/anaconda3/lib/python3.12/site-packages', '/opt/anaconda3/lib/python3.12/site-packages/aeosa']\n",
      "['/Applications/PyCharm.app/Contents/plugins/python/helpers-pro/jupyter_debug', '/Applications/PyCharm.app/Contents/plugins/python-ce/helpers/pydev', '/Users/yang/PycharmProjects/Option/samples', '/Users/yang/PycharmProjects/Option', '/opt/anaconda3/lib/python312.zip', '/opt/anaconda3/lib/python3.12', '/opt/anaconda3/lib/python3.12/lib-dynload', '', '/opt/anaconda3/lib/python3.12/site-packages', '/opt/anaconda3/lib/python3.12/site-packages/aeosa', '/Users/yang/PycharmProjects/Option']\n"
     ]
    }
   ],
   "source": [
    "import sys\n",
    "import os\n",
    "current_path = os.getcwd()  # 获取当前工作目录\n",
    "print(\"当前路径:\", current_path)\n",
    "current_path = current_path.replace('/samples', '')\n",
    "print(sys.path)  # 显示所有模块搜索路径\n",
    "sys.path.append(current_path)  # 添加自定义路径\n",
    "print(sys.path)  # 显示所有模块搜索路径"
   ]
  },
  {
   "cell_type": "code",
   "execution_count": 21,
   "id": "initial_id",
   "metadata": {
    "ExecuteTime": {
     "end_time": "2025-06-02T01:21:17.908532Z",
     "start_time": "2025-06-02T01:21:17.881085Z"
    },
    "collapsed": true,
    "jupyter": {
     "outputs_hidden": true
    }
   },
   "outputs": [],
   "source": [
    "import yfinance as yf\n",
    "import pandas as pd\n",
    "import numpy as np \n",
    "import QuantLib as ql \n",
    "import math\n",
    "from datetime import datetime\n",
    "\n",
    "from src.QlCalendar import QlCalendar\n",
    "from src.QlStocks import QlStocks\n",
    "from src.QlVanillaOptions import QlVanillaOptions"
   ]
  },
  {
   "cell_type": "code",
   "execution_count": 13,
   "id": "3f80547e26bde220",
   "metadata": {
    "ExecuteTime": {
     "end_time": "2025-06-01T12:56:32.401871Z",
     "start_time": "2025-06-01T12:56:32.132017Z"
    }
   },
   "outputs": [],
   "source": [
    "ticker = 'TSLA'\n",
    "\n",
    "tsla = yf.Ticker(ticker)"
   ]
  },
  {
   "cell_type": "code",
   "execution_count": 14,
   "id": "7e5242dcd70ab17a",
   "metadata": {
    "ExecuteTime": {
     "end_time": "2025-06-01T12:56:36.261354Z",
     "start_time": "2025-06-01T12:56:32.540818Z"
    }
   },
   "outputs": [
    {
     "ename": "YFRateLimitError",
     "evalue": "Too Many Requests. Rate limited. Try after a while.",
     "output_type": "error",
     "traceback": [
      "\u001b[0;31m---------------------------------------------------------------------------\u001b[0m",
      "\u001b[0;31mYFRateLimitError\u001b[0m                          Traceback (most recent call last)",
      "Cell \u001b[0;32mIn[14], line 1\u001b[0m\n\u001b[0;32m----> 1\u001b[0m expiration_dates \u001b[38;5;241m=\u001b[39m tsla\u001b[38;5;241m.\u001b[39moptions\n",
      "File \u001b[0;32m/opt/anaconda3/lib/python3.12/site-packages/yfinance/ticker.py:307\u001b[0m, in \u001b[0;36mTicker.options\u001b[0;34m(self)\u001b[0m\n\u001b[1;32m    304\u001b[0m \u001b[38;5;129m@property\u001b[39m\n\u001b[1;32m    305\u001b[0m \u001b[38;5;28;01mdef\u001b[39;00m \u001b[38;5;21moptions\u001b[39m(\u001b[38;5;28mself\u001b[39m) \u001b[38;5;241m-\u001b[39m\u001b[38;5;241m>\u001b[39m \u001b[38;5;28mtuple\u001b[39m:\n\u001b[1;32m    306\u001b[0m     \u001b[38;5;28;01mif\u001b[39;00m \u001b[38;5;129;01mnot\u001b[39;00m \u001b[38;5;28mself\u001b[39m\u001b[38;5;241m.\u001b[39m_expirations:\n\u001b[0;32m--> 307\u001b[0m         \u001b[38;5;28mself\u001b[39m\u001b[38;5;241m.\u001b[39m_download_options()\n\u001b[1;32m    308\u001b[0m     \u001b[38;5;28;01mreturn\u001b[39;00m \u001b[38;5;28mtuple\u001b[39m(\u001b[38;5;28mself\u001b[39m\u001b[38;5;241m.\u001b[39m_expirations\u001b[38;5;241m.\u001b[39mkeys())\n",
      "File \u001b[0;32m/opt/anaconda3/lib/python3.12/site-packages/yfinance/ticker.py:48\u001b[0m, in \u001b[0;36mTicker._download_options\u001b[0;34m(self, date)\u001b[0m\n\u001b[1;32m     45\u001b[0m \u001b[38;5;28;01melse\u001b[39;00m:\n\u001b[1;32m     46\u001b[0m     url \u001b[38;5;241m=\u001b[39m \u001b[38;5;124mf\u001b[39m\u001b[38;5;124m\"\u001b[39m\u001b[38;5;132;01m{\u001b[39;00m_BASE_URL_\u001b[38;5;132;01m}\u001b[39;00m\u001b[38;5;124m/v7/finance/options/\u001b[39m\u001b[38;5;132;01m{\u001b[39;00m\u001b[38;5;28mself\u001b[39m\u001b[38;5;241m.\u001b[39mticker\u001b[38;5;132;01m}\u001b[39;00m\u001b[38;5;124m?date=\u001b[39m\u001b[38;5;132;01m{\u001b[39;00mdate\u001b[38;5;132;01m}\u001b[39;00m\u001b[38;5;124m\"\u001b[39m\n\u001b[0;32m---> 48\u001b[0m r \u001b[38;5;241m=\u001b[39m \u001b[38;5;28mself\u001b[39m\u001b[38;5;241m.\u001b[39m_data\u001b[38;5;241m.\u001b[39mget(url\u001b[38;5;241m=\u001b[39murl, proxy\u001b[38;5;241m=\u001b[39m\u001b[38;5;28mself\u001b[39m\u001b[38;5;241m.\u001b[39mproxy)\u001b[38;5;241m.\u001b[39mjson()\n\u001b[1;32m     49\u001b[0m \u001b[38;5;28;01mif\u001b[39;00m \u001b[38;5;28mlen\u001b[39m(r\u001b[38;5;241m.\u001b[39mget(\u001b[38;5;124m'\u001b[39m\u001b[38;5;124moptionChain\u001b[39m\u001b[38;5;124m'\u001b[39m, {})\u001b[38;5;241m.\u001b[39mget(\u001b[38;5;124m'\u001b[39m\u001b[38;5;124mresult\u001b[39m\u001b[38;5;124m'\u001b[39m, [])) \u001b[38;5;241m>\u001b[39m \u001b[38;5;241m0\u001b[39m:\n\u001b[1;32m     50\u001b[0m     \u001b[38;5;28;01mfor\u001b[39;00m exp \u001b[38;5;129;01min\u001b[39;00m r[\u001b[38;5;124m'\u001b[39m\u001b[38;5;124moptionChain\u001b[39m\u001b[38;5;124m'\u001b[39m][\u001b[38;5;124m'\u001b[39m\u001b[38;5;124mresult\u001b[39m\u001b[38;5;124m'\u001b[39m][\u001b[38;5;241m0\u001b[39m][\u001b[38;5;124m'\u001b[39m\u001b[38;5;124mexpirationDates\u001b[39m\u001b[38;5;124m'\u001b[39m]:\n",
      "File \u001b[0;32m/opt/anaconda3/lib/python3.12/site-packages/yfinance/utils.py:104\u001b[0m, in \u001b[0;36mlog_indent_decorator.<locals>.wrapper\u001b[0;34m(*args, **kwargs)\u001b[0m\n\u001b[1;32m    101\u001b[0m logger\u001b[38;5;241m.\u001b[39mdebug(\u001b[38;5;124mf\u001b[39m\u001b[38;5;124m'\u001b[39m\u001b[38;5;124mEntering \u001b[39m\u001b[38;5;132;01m{\u001b[39;00mfunc\u001b[38;5;241m.\u001b[39m\u001b[38;5;18m__name__\u001b[39m\u001b[38;5;132;01m}\u001b[39;00m\u001b[38;5;124m()\u001b[39m\u001b[38;5;124m'\u001b[39m)\n\u001b[1;32m    103\u001b[0m \u001b[38;5;28;01mwith\u001b[39;00m IndentationContext():\n\u001b[0;32m--> 104\u001b[0m     result \u001b[38;5;241m=\u001b[39m func(\u001b[38;5;241m*\u001b[39margs, \u001b[38;5;241m*\u001b[39m\u001b[38;5;241m*\u001b[39mkwargs)\n\u001b[1;32m    106\u001b[0m logger\u001b[38;5;241m.\u001b[39mdebug(\u001b[38;5;124mf\u001b[39m\u001b[38;5;124m'\u001b[39m\u001b[38;5;124mExiting \u001b[39m\u001b[38;5;132;01m{\u001b[39;00mfunc\u001b[38;5;241m.\u001b[39m\u001b[38;5;18m__name__\u001b[39m\u001b[38;5;132;01m}\u001b[39;00m\u001b[38;5;124m()\u001b[39m\u001b[38;5;124m'\u001b[39m)\n\u001b[1;32m    107\u001b[0m \u001b[38;5;28;01mreturn\u001b[39;00m result\n",
      "File \u001b[0;32m/opt/anaconda3/lib/python3.12/site-packages/yfinance/data.py:349\u001b[0m, in \u001b[0;36mYfData.get\u001b[0;34m(self, url, user_agent_headers, params, proxy, timeout)\u001b[0m\n\u001b[1;32m    347\u001b[0m \u001b[38;5;129m@utils\u001b[39m\u001b[38;5;241m.\u001b[39mlog_indent_decorator\n\u001b[1;32m    348\u001b[0m \u001b[38;5;28;01mdef\u001b[39;00m \u001b[38;5;21mget\u001b[39m(\u001b[38;5;28mself\u001b[39m, url, user_agent_headers\u001b[38;5;241m=\u001b[39m\u001b[38;5;28;01mNone\u001b[39;00m, params\u001b[38;5;241m=\u001b[39m\u001b[38;5;28;01mNone\u001b[39;00m, proxy\u001b[38;5;241m=\u001b[39m\u001b[38;5;28;01mNone\u001b[39;00m, timeout\u001b[38;5;241m=\u001b[39m\u001b[38;5;241m30\u001b[39m):\n\u001b[0;32m--> 349\u001b[0m     \u001b[38;5;28;01mreturn\u001b[39;00m \u001b[38;5;28mself\u001b[39m\u001b[38;5;241m.\u001b[39m_make_request(url, request_method \u001b[38;5;241m=\u001b[39m \u001b[38;5;28mself\u001b[39m\u001b[38;5;241m.\u001b[39m_session\u001b[38;5;241m.\u001b[39mget, user_agent_headers\u001b[38;5;241m=\u001b[39muser_agent_headers, params\u001b[38;5;241m=\u001b[39mparams, proxy\u001b[38;5;241m=\u001b[39mproxy, timeout\u001b[38;5;241m=\u001b[39mtimeout)\n",
      "File \u001b[0;32m/opt/anaconda3/lib/python3.12/site-packages/yfinance/utils.py:104\u001b[0m, in \u001b[0;36mlog_indent_decorator.<locals>.wrapper\u001b[0;34m(*args, **kwargs)\u001b[0m\n\u001b[1;32m    101\u001b[0m logger\u001b[38;5;241m.\u001b[39mdebug(\u001b[38;5;124mf\u001b[39m\u001b[38;5;124m'\u001b[39m\u001b[38;5;124mEntering \u001b[39m\u001b[38;5;132;01m{\u001b[39;00mfunc\u001b[38;5;241m.\u001b[39m\u001b[38;5;18m__name__\u001b[39m\u001b[38;5;132;01m}\u001b[39;00m\u001b[38;5;124m()\u001b[39m\u001b[38;5;124m'\u001b[39m)\n\u001b[1;32m    103\u001b[0m \u001b[38;5;28;01mwith\u001b[39;00m IndentationContext():\n\u001b[0;32m--> 104\u001b[0m     result \u001b[38;5;241m=\u001b[39m func(\u001b[38;5;241m*\u001b[39margs, \u001b[38;5;241m*\u001b[39m\u001b[38;5;241m*\u001b[39mkwargs)\n\u001b[1;32m    106\u001b[0m logger\u001b[38;5;241m.\u001b[39mdebug(\u001b[38;5;124mf\u001b[39m\u001b[38;5;124m'\u001b[39m\u001b[38;5;124mExiting \u001b[39m\u001b[38;5;132;01m{\u001b[39;00mfunc\u001b[38;5;241m.\u001b[39m\u001b[38;5;18m__name__\u001b[39m\u001b[38;5;132;01m}\u001b[39;00m\u001b[38;5;124m()\u001b[39m\u001b[38;5;124m'\u001b[39m)\n\u001b[1;32m    107\u001b[0m \u001b[38;5;28;01mreturn\u001b[39;00m result\n",
      "File \u001b[0;32m/opt/anaconda3/lib/python3.12/site-packages/yfinance/data.py:411\u001b[0m, in \u001b[0;36mYfData._make_request\u001b[0;34m(self, url, request_method, user_agent_headers, body, params, proxy, timeout)\u001b[0m\n\u001b[1;32m    409\u001b[0m     \u001b[38;5;66;03m# Raise exception if rate limited\u001b[39;00m\n\u001b[1;32m    410\u001b[0m     \u001b[38;5;28;01mif\u001b[39;00m response\u001b[38;5;241m.\u001b[39mstatus_code \u001b[38;5;241m==\u001b[39m \u001b[38;5;241m429\u001b[39m:\n\u001b[0;32m--> 411\u001b[0m         \u001b[38;5;28;01mraise\u001b[39;00m YFRateLimitError()\n\u001b[1;32m    413\u001b[0m \u001b[38;5;28;01mreturn\u001b[39;00m response\n",
      "\u001b[0;31mYFRateLimitError\u001b[0m: Too Many Requests. Rate limited. Try after a while."
     ]
    }
   ],
   "source": [
    "expiration_dates = tsla.options"
   ]
  },
  {
   "cell_type": "code",
   "execution_count": 5,
   "id": "96c2fe699b14a2e4",
   "metadata": {
    "ExecuteTime": {
     "end_time": "2025-06-01T12:56:36.335828Z",
     "start_time": "2025-05-26T09:49:51.120359Z"
    }
   },
   "outputs": [
    {
     "ename": "YFRateLimitError",
     "evalue": "Too Many Requests. Rate limited. Try after a while.",
     "output_type": "error",
     "traceback": [
      "\u001b[0;31m---------------------------------------------------------------------------\u001b[0m",
      "\u001b[0;31mYFRateLimitError\u001b[0m                          Traceback (most recent call last)",
      "Cell \u001b[0;32mIn[5], line 1\u001b[0m\n\u001b[0;32m----> 1\u001b[0m data \u001b[38;5;241m=\u001b[39m tsla\u001b[38;5;241m.\u001b[39mhistory(period\u001b[38;5;241m=\u001b[39m\u001b[38;5;124m\"\u001b[39m\u001b[38;5;124m1d\u001b[39m\u001b[38;5;124m\"\u001b[39m)\n",
      "File \u001b[0;32m/opt/anaconda3/lib/python3.12/site-packages/yfinance/utils.py:104\u001b[0m, in \u001b[0;36mlog_indent_decorator.<locals>.wrapper\u001b[0;34m(*args, **kwargs)\u001b[0m\n\u001b[1;32m    101\u001b[0m logger\u001b[38;5;241m.\u001b[39mdebug(\u001b[38;5;124mf\u001b[39m\u001b[38;5;124m'\u001b[39m\u001b[38;5;124mEntering \u001b[39m\u001b[38;5;132;01m{\u001b[39;00mfunc\u001b[38;5;241m.\u001b[39m\u001b[38;5;18m__name__\u001b[39m\u001b[38;5;132;01m}\u001b[39;00m\u001b[38;5;124m()\u001b[39m\u001b[38;5;124m'\u001b[39m)\n\u001b[1;32m    103\u001b[0m \u001b[38;5;28;01mwith\u001b[39;00m IndentationContext():\n\u001b[0;32m--> 104\u001b[0m     result \u001b[38;5;241m=\u001b[39m func(\u001b[38;5;241m*\u001b[39margs, \u001b[38;5;241m*\u001b[39m\u001b[38;5;241m*\u001b[39mkwargs)\n\u001b[1;32m    106\u001b[0m logger\u001b[38;5;241m.\u001b[39mdebug(\u001b[38;5;124mf\u001b[39m\u001b[38;5;124m'\u001b[39m\u001b[38;5;124mExiting \u001b[39m\u001b[38;5;132;01m{\u001b[39;00mfunc\u001b[38;5;241m.\u001b[39m\u001b[38;5;18m__name__\u001b[39m\u001b[38;5;132;01m}\u001b[39;00m\u001b[38;5;124m()\u001b[39m\u001b[38;5;124m'\u001b[39m)\n\u001b[1;32m    107\u001b[0m \u001b[38;5;28;01mreturn\u001b[39;00m result\n",
      "File \u001b[0;32m/opt/anaconda3/lib/python3.12/site-packages/yfinance/base.py:82\u001b[0m, in \u001b[0;36mTickerBase.history\u001b[0;34m(self, *args, **kwargs)\u001b[0m\n\u001b[1;32m     80\u001b[0m \u001b[38;5;129m@utils\u001b[39m\u001b[38;5;241m.\u001b[39mlog_indent_decorator\n\u001b[1;32m     81\u001b[0m \u001b[38;5;28;01mdef\u001b[39;00m \u001b[38;5;21mhistory\u001b[39m(\u001b[38;5;28mself\u001b[39m, \u001b[38;5;241m*\u001b[39margs, \u001b[38;5;241m*\u001b[39m\u001b[38;5;241m*\u001b[39mkwargs) \u001b[38;5;241m-\u001b[39m\u001b[38;5;241m>\u001b[39m pd\u001b[38;5;241m.\u001b[39mDataFrame:\n\u001b[0;32m---> 82\u001b[0m     \u001b[38;5;28;01mreturn\u001b[39;00m \u001b[38;5;28mself\u001b[39m\u001b[38;5;241m.\u001b[39m_lazy_load_price_history()\u001b[38;5;241m.\u001b[39mhistory(\u001b[38;5;241m*\u001b[39margs, \u001b[38;5;241m*\u001b[39m\u001b[38;5;241m*\u001b[39mkwargs)\n",
      "File \u001b[0;32m/opt/anaconda3/lib/python3.12/site-packages/yfinance/utils.py:104\u001b[0m, in \u001b[0;36mlog_indent_decorator.<locals>.wrapper\u001b[0;34m(*args, **kwargs)\u001b[0m\n\u001b[1;32m    101\u001b[0m logger\u001b[38;5;241m.\u001b[39mdebug(\u001b[38;5;124mf\u001b[39m\u001b[38;5;124m'\u001b[39m\u001b[38;5;124mEntering \u001b[39m\u001b[38;5;132;01m{\u001b[39;00mfunc\u001b[38;5;241m.\u001b[39m\u001b[38;5;18m__name__\u001b[39m\u001b[38;5;132;01m}\u001b[39;00m\u001b[38;5;124m()\u001b[39m\u001b[38;5;124m'\u001b[39m)\n\u001b[1;32m    103\u001b[0m \u001b[38;5;28;01mwith\u001b[39;00m IndentationContext():\n\u001b[0;32m--> 104\u001b[0m     result \u001b[38;5;241m=\u001b[39m func(\u001b[38;5;241m*\u001b[39margs, \u001b[38;5;241m*\u001b[39m\u001b[38;5;241m*\u001b[39mkwargs)\n\u001b[1;32m    106\u001b[0m logger\u001b[38;5;241m.\u001b[39mdebug(\u001b[38;5;124mf\u001b[39m\u001b[38;5;124m'\u001b[39m\u001b[38;5;124mExiting \u001b[39m\u001b[38;5;132;01m{\u001b[39;00mfunc\u001b[38;5;241m.\u001b[39m\u001b[38;5;18m__name__\u001b[39m\u001b[38;5;132;01m}\u001b[39;00m\u001b[38;5;124m()\u001b[39m\u001b[38;5;124m'\u001b[39m)\n\u001b[1;32m    107\u001b[0m \u001b[38;5;28;01mreturn\u001b[39;00m result\n",
      "File \u001b[0;32m/opt/anaconda3/lib/python3.12/site-packages/yfinance/scrapers/history.py:175\u001b[0m, in \u001b[0;36mPriceHistory.history\u001b[0;34m(self, period, interval, start, end, prepost, actions, auto_adjust, back_adjust, repair, keepna, proxy, rounding, timeout, raise_errors)\u001b[0m\n\u001b[1;32m    173\u001b[0m         get_fn \u001b[38;5;241m=\u001b[39m \u001b[38;5;28mself\u001b[39m\u001b[38;5;241m.\u001b[39m_data\u001b[38;5;241m.\u001b[39mcache_get\n\u001b[1;32m    174\u001b[0m \u001b[38;5;28;01mtry\u001b[39;00m:\n\u001b[0;32m--> 175\u001b[0m     data \u001b[38;5;241m=\u001b[39m get_fn(\n\u001b[1;32m    176\u001b[0m         url\u001b[38;5;241m=\u001b[39murl,\n\u001b[1;32m    177\u001b[0m         params\u001b[38;5;241m=\u001b[39mparams,\n\u001b[1;32m    178\u001b[0m         proxy\u001b[38;5;241m=\u001b[39mproxy,\n\u001b[1;32m    179\u001b[0m         timeout\u001b[38;5;241m=\u001b[39mtimeout\n\u001b[1;32m    180\u001b[0m     )\n\u001b[1;32m    181\u001b[0m     \u001b[38;5;28;01mif\u001b[39;00m \u001b[38;5;124m\"\u001b[39m\u001b[38;5;124mWill be right back\u001b[39m\u001b[38;5;124m\"\u001b[39m \u001b[38;5;129;01min\u001b[39;00m data\u001b[38;5;241m.\u001b[39mtext \u001b[38;5;129;01mor\u001b[39;00m data \u001b[38;5;129;01mis\u001b[39;00m \u001b[38;5;28;01mNone\u001b[39;00m:\n\u001b[1;32m    182\u001b[0m         \u001b[38;5;28;01mraise\u001b[39;00m \u001b[38;5;167;01mRuntimeError\u001b[39;00m(\u001b[38;5;124m\"\u001b[39m\u001b[38;5;124m*** YAHOO! FINANCE IS CURRENTLY DOWN! ***\u001b[39m\u001b[38;5;130;01m\\n\u001b[39;00m\u001b[38;5;124m\"\u001b[39m\n\u001b[1;32m    183\u001b[0m                            \u001b[38;5;124m\"\u001b[39m\u001b[38;5;124mOur engineers are working quickly to resolve \u001b[39m\u001b[38;5;124m\"\u001b[39m\n\u001b[1;32m    184\u001b[0m                            \u001b[38;5;124m\"\u001b[39m\u001b[38;5;124mthe issue. Thank you for your patience.\u001b[39m\u001b[38;5;124m\"\u001b[39m)\n",
      "File \u001b[0;32m/opt/anaconda3/lib/python3.12/site-packages/yfinance/utils.py:104\u001b[0m, in \u001b[0;36mlog_indent_decorator.<locals>.wrapper\u001b[0;34m(*args, **kwargs)\u001b[0m\n\u001b[1;32m    101\u001b[0m logger\u001b[38;5;241m.\u001b[39mdebug(\u001b[38;5;124mf\u001b[39m\u001b[38;5;124m'\u001b[39m\u001b[38;5;124mEntering \u001b[39m\u001b[38;5;132;01m{\u001b[39;00mfunc\u001b[38;5;241m.\u001b[39m\u001b[38;5;18m__name__\u001b[39m\u001b[38;5;132;01m}\u001b[39;00m\u001b[38;5;124m()\u001b[39m\u001b[38;5;124m'\u001b[39m)\n\u001b[1;32m    103\u001b[0m \u001b[38;5;28;01mwith\u001b[39;00m IndentationContext():\n\u001b[0;32m--> 104\u001b[0m     result \u001b[38;5;241m=\u001b[39m func(\u001b[38;5;241m*\u001b[39margs, \u001b[38;5;241m*\u001b[39m\u001b[38;5;241m*\u001b[39mkwargs)\n\u001b[1;32m    106\u001b[0m logger\u001b[38;5;241m.\u001b[39mdebug(\u001b[38;5;124mf\u001b[39m\u001b[38;5;124m'\u001b[39m\u001b[38;5;124mExiting \u001b[39m\u001b[38;5;132;01m{\u001b[39;00mfunc\u001b[38;5;241m.\u001b[39m\u001b[38;5;18m__name__\u001b[39m\u001b[38;5;132;01m}\u001b[39;00m\u001b[38;5;124m()\u001b[39m\u001b[38;5;124m'\u001b[39m)\n\u001b[1;32m    107\u001b[0m \u001b[38;5;28;01mreturn\u001b[39;00m result\n",
      "File \u001b[0;32m/opt/anaconda3/lib/python3.12/site-packages/yfinance/data.py:349\u001b[0m, in \u001b[0;36mYfData.get\u001b[0;34m(self, url, user_agent_headers, params, proxy, timeout)\u001b[0m\n\u001b[1;32m    347\u001b[0m \u001b[38;5;129m@utils\u001b[39m\u001b[38;5;241m.\u001b[39mlog_indent_decorator\n\u001b[1;32m    348\u001b[0m \u001b[38;5;28;01mdef\u001b[39;00m \u001b[38;5;21mget\u001b[39m(\u001b[38;5;28mself\u001b[39m, url, user_agent_headers\u001b[38;5;241m=\u001b[39m\u001b[38;5;28;01mNone\u001b[39;00m, params\u001b[38;5;241m=\u001b[39m\u001b[38;5;28;01mNone\u001b[39;00m, proxy\u001b[38;5;241m=\u001b[39m\u001b[38;5;28;01mNone\u001b[39;00m, timeout\u001b[38;5;241m=\u001b[39m\u001b[38;5;241m30\u001b[39m):\n\u001b[0;32m--> 349\u001b[0m     \u001b[38;5;28;01mreturn\u001b[39;00m \u001b[38;5;28mself\u001b[39m\u001b[38;5;241m.\u001b[39m_make_request(url, request_method \u001b[38;5;241m=\u001b[39m \u001b[38;5;28mself\u001b[39m\u001b[38;5;241m.\u001b[39m_session\u001b[38;5;241m.\u001b[39mget, user_agent_headers\u001b[38;5;241m=\u001b[39muser_agent_headers, params\u001b[38;5;241m=\u001b[39mparams, proxy\u001b[38;5;241m=\u001b[39mproxy, timeout\u001b[38;5;241m=\u001b[39mtimeout)\n",
      "File \u001b[0;32m/opt/anaconda3/lib/python3.12/site-packages/yfinance/utils.py:104\u001b[0m, in \u001b[0;36mlog_indent_decorator.<locals>.wrapper\u001b[0;34m(*args, **kwargs)\u001b[0m\n\u001b[1;32m    101\u001b[0m logger\u001b[38;5;241m.\u001b[39mdebug(\u001b[38;5;124mf\u001b[39m\u001b[38;5;124m'\u001b[39m\u001b[38;5;124mEntering \u001b[39m\u001b[38;5;132;01m{\u001b[39;00mfunc\u001b[38;5;241m.\u001b[39m\u001b[38;5;18m__name__\u001b[39m\u001b[38;5;132;01m}\u001b[39;00m\u001b[38;5;124m()\u001b[39m\u001b[38;5;124m'\u001b[39m)\n\u001b[1;32m    103\u001b[0m \u001b[38;5;28;01mwith\u001b[39;00m IndentationContext():\n\u001b[0;32m--> 104\u001b[0m     result \u001b[38;5;241m=\u001b[39m func(\u001b[38;5;241m*\u001b[39margs, \u001b[38;5;241m*\u001b[39m\u001b[38;5;241m*\u001b[39mkwargs)\n\u001b[1;32m    106\u001b[0m logger\u001b[38;5;241m.\u001b[39mdebug(\u001b[38;5;124mf\u001b[39m\u001b[38;5;124m'\u001b[39m\u001b[38;5;124mExiting \u001b[39m\u001b[38;5;132;01m{\u001b[39;00mfunc\u001b[38;5;241m.\u001b[39m\u001b[38;5;18m__name__\u001b[39m\u001b[38;5;132;01m}\u001b[39;00m\u001b[38;5;124m()\u001b[39m\u001b[38;5;124m'\u001b[39m)\n\u001b[1;32m    107\u001b[0m \u001b[38;5;28;01mreturn\u001b[39;00m result\n",
      "File \u001b[0;32m/opt/anaconda3/lib/python3.12/site-packages/yfinance/data.py:411\u001b[0m, in \u001b[0;36mYfData._make_request\u001b[0;34m(self, url, request_method, user_agent_headers, body, params, proxy, timeout)\u001b[0m\n\u001b[1;32m    409\u001b[0m     \u001b[38;5;66;03m# Raise exception if rate limited\u001b[39;00m\n\u001b[1;32m    410\u001b[0m     \u001b[38;5;28;01mif\u001b[39;00m response\u001b[38;5;241m.\u001b[39mstatus_code \u001b[38;5;241m==\u001b[39m \u001b[38;5;241m429\u001b[39m:\n\u001b[0;32m--> 411\u001b[0m         \u001b[38;5;28;01mraise\u001b[39;00m YFRateLimitError()\n\u001b[1;32m    413\u001b[0m \u001b[38;5;28;01mreturn\u001b[39;00m response\n",
      "\u001b[0;31mYFRateLimitError\u001b[0m: Too Many Requests. Rate limited. Try after a while."
     ]
    }
   ],
   "source": [
    "selected_date = expiration_dates[0]\n",
    "selected_date"
   ]
  },
  {
   "cell_type": "code",
   "execution_count": 15,
   "id": "6a0fa8bc7006985",
   "metadata": {
    "ExecuteTime": {
     "end_time": "2025-06-01T12:56:37.557177Z",
     "start_time": "2025-06-01T12:56:37.530449Z"
    }
   },
   "outputs": [
    {
     "ename": "NameError",
     "evalue": "name 'selected_date' is not defined",
     "output_type": "error",
     "traceback": [
      "\u001b[0;31m---------------------------------------------------------------------------\u001b[0m",
      "\u001b[0;31mNameError\u001b[0m                                 Traceback (most recent call last)",
      "Cell \u001b[0;32mIn[15], line 1\u001b[0m\n\u001b[0;32m----> 1\u001b[0m option_chain \u001b[38;5;241m=\u001b[39m tsla\u001b[38;5;241m.\u001b[39moption_chain(selected_date)\n",
      "\u001b[0;31mNameError\u001b[0m: name 'selected_date' is not defined"
     ]
    }
   ],
   "source": [
    "option_chain = tsla.option_chain(selected_date)"
   ]
  },
  {
   "cell_type": "code",
   "execution_count": 17,
   "id": "eb723eca5e5194ac",
   "metadata": {
    "ExecuteTime": {
     "end_time": "2025-06-01T13:10:57.934761Z",
     "start_time": "2025-06-01T13:10:57.806410Z"
    }
   },
   "outputs": [
    {
     "data": {
      "text/html": [
       "<div>\n",
       "<style scoped>\n",
       "    .dataframe tbody tr th:only-of-type {\n",
       "        vertical-align: middle;\n",
       "    }\n",
       "\n",
       "    .dataframe tbody tr th {\n",
       "        vertical-align: top;\n",
       "    }\n",
       "\n",
       "    .dataframe thead th {\n",
       "        text-align: right;\n",
       "    }\n",
       "</style>\n",
       "<table border=\"1\" class=\"dataframe\">\n",
       "  <thead>\n",
       "    <tr style=\"text-align: right;\">\n",
       "      <th></th>\n",
       "      <th>contractSymbol</th>\n",
       "      <th>lastTradeDate</th>\n",
       "      <th>strike</th>\n",
       "      <th>lastPrice</th>\n",
       "      <th>bid</th>\n",
       "      <th>ask</th>\n",
       "      <th>change</th>\n",
       "      <th>percentChange</th>\n",
       "      <th>volume</th>\n",
       "      <th>openInterest</th>\n",
       "      <th>impliedVolatility</th>\n",
       "      <th>inTheMoney</th>\n",
       "      <th>contractSize</th>\n",
       "      <th>currency</th>\n",
       "    </tr>\n",
       "  </thead>\n",
       "  <tbody>\n",
       "    <tr>\n",
       "      <th>0</th>\n",
       "      <td>TSLA250530C00050000</td>\n",
       "      <td>2025-05-23 18:30:52+00:00</td>\n",
       "      <td>50.0</td>\n",
       "      <td>290.95</td>\n",
       "      <td>288.05</td>\n",
       "      <td>290.70</td>\n",
       "      <td>7.000000</td>\n",
       "      <td>2.465223</td>\n",
       "      <td>5.0</td>\n",
       "      <td>8</td>\n",
       "      <td>5.531253</td>\n",
       "      <td>True</td>\n",
       "      <td>REGULAR</td>\n",
       "      <td>USD</td>\n",
       "    </tr>\n",
       "    <tr>\n",
       "      <th>1</th>\n",
       "      <td>TSLA250530C00055000</td>\n",
       "      <td>2025-05-20 14:32:36+00:00</td>\n",
       "      <td>55.0</td>\n",
       "      <td>289.80</td>\n",
       "      <td>283.00</td>\n",
       "      <td>285.70</td>\n",
       "      <td>0.000000</td>\n",
       "      <td>0.000000</td>\n",
       "      <td>6.0</td>\n",
       "      <td>12</td>\n",
       "      <td>4.750004</td>\n",
       "      <td>True</td>\n",
       "      <td>REGULAR</td>\n",
       "      <td>USD</td>\n",
       "    </tr>\n",
       "    <tr>\n",
       "      <th>2</th>\n",
       "      <td>TSLA250530C00080000</td>\n",
       "      <td>2025-04-23 14:28:59+00:00</td>\n",
       "      <td>80.0</td>\n",
       "      <td>175.60</td>\n",
       "      <td>258.05</td>\n",
       "      <td>260.75</td>\n",
       "      <td>0.000000</td>\n",
       "      <td>0.000000</td>\n",
       "      <td>1.0</td>\n",
       "      <td>1</td>\n",
       "      <td>4.390630</td>\n",
       "      <td>True</td>\n",
       "      <td>REGULAR</td>\n",
       "      <td>USD</td>\n",
       "    </tr>\n",
       "    <tr>\n",
       "      <th>3</th>\n",
       "      <td>TSLA250530C00090000</td>\n",
       "      <td>2025-04-28 15:25:29+00:00</td>\n",
       "      <td>90.0</td>\n",
       "      <td>186.00</td>\n",
       "      <td>248.05</td>\n",
       "      <td>250.75</td>\n",
       "      <td>0.000000</td>\n",
       "      <td>0.000000</td>\n",
       "      <td>NaN</td>\n",
       "      <td>10</td>\n",
       "      <td>4.039067</td>\n",
       "      <td>True</td>\n",
       "      <td>REGULAR</td>\n",
       "      <td>USD</td>\n",
       "    </tr>\n",
       "    <tr>\n",
       "      <th>4</th>\n",
       "      <td>TSLA250530C00100000</td>\n",
       "      <td>2025-05-23 19:16:34+00:00</td>\n",
       "      <td>100.0</td>\n",
       "      <td>241.58</td>\n",
       "      <td>238.05</td>\n",
       "      <td>240.75</td>\n",
       "      <td>-3.419998</td>\n",
       "      <td>-1.395918</td>\n",
       "      <td>1.0</td>\n",
       "      <td>0</td>\n",
       "      <td>3.726563</td>\n",
       "      <td>True</td>\n",
       "      <td>REGULAR</td>\n",
       "      <td>USD</td>\n",
       "    </tr>\n",
       "    <tr>\n",
       "      <th>...</th>\n",
       "      <td>...</td>\n",
       "      <td>...</td>\n",
       "      <td>...</td>\n",
       "      <td>...</td>\n",
       "      <td>...</td>\n",
       "      <td>...</td>\n",
       "      <td>...</td>\n",
       "      <td>...</td>\n",
       "      <td>...</td>\n",
       "      <td>...</td>\n",
       "      <td>...</td>\n",
       "      <td>...</td>\n",
       "      <td>...</td>\n",
       "      <td>...</td>\n",
       "    </tr>\n",
       "    <tr>\n",
       "      <th>137</th>\n",
       "      <td>TSLA250530C00660000</td>\n",
       "      <td>2025-05-21 14:46:41+00:00</td>\n",
       "      <td>660.0</td>\n",
       "      <td>0.01</td>\n",
       "      <td>0.00</td>\n",
       "      <td>0.01</td>\n",
       "      <td>0.000000</td>\n",
       "      <td>0.000000</td>\n",
       "      <td>8.0</td>\n",
       "      <td>62</td>\n",
       "      <td>1.625002</td>\n",
       "      <td>False</td>\n",
       "      <td>REGULAR</td>\n",
       "      <td>USD</td>\n",
       "    </tr>\n",
       "    <tr>\n",
       "      <th>138</th>\n",
       "      <td>TSLA250530C00670000</td>\n",
       "      <td>2025-05-21 13:33:06+00:00</td>\n",
       "      <td>670.0</td>\n",
       "      <td>0.02</td>\n",
       "      <td>0.00</td>\n",
       "      <td>0.01</td>\n",
       "      <td>0.000000</td>\n",
       "      <td>0.000000</td>\n",
       "      <td>1.0</td>\n",
       "      <td>70</td>\n",
       "      <td>1.656252</td>\n",
       "      <td>False</td>\n",
       "      <td>REGULAR</td>\n",
       "      <td>USD</td>\n",
       "    </tr>\n",
       "    <tr>\n",
       "      <th>139</th>\n",
       "      <td>TSLA250530C00680000</td>\n",
       "      <td>2025-05-16 15:53:53+00:00</td>\n",
       "      <td>680.0</td>\n",
       "      <td>0.03</td>\n",
       "      <td>0.00</td>\n",
       "      <td>0.01</td>\n",
       "      <td>0.000000</td>\n",
       "      <td>0.000000</td>\n",
       "      <td>16.0</td>\n",
       "      <td>16</td>\n",
       "      <td>1.687502</td>\n",
       "      <td>False</td>\n",
       "      <td>REGULAR</td>\n",
       "      <td>USD</td>\n",
       "    </tr>\n",
       "    <tr>\n",
       "      <th>140</th>\n",
       "      <td>TSLA250530C00690000</td>\n",
       "      <td>2025-05-20 15:14:21+00:00</td>\n",
       "      <td>690.0</td>\n",
       "      <td>0.01</td>\n",
       "      <td>0.00</td>\n",
       "      <td>0.01</td>\n",
       "      <td>0.000000</td>\n",
       "      <td>0.000000</td>\n",
       "      <td>4.0</td>\n",
       "      <td>11</td>\n",
       "      <td>1.718751</td>\n",
       "      <td>False</td>\n",
       "      <td>REGULAR</td>\n",
       "      <td>USD</td>\n",
       "    </tr>\n",
       "    <tr>\n",
       "      <th>141</th>\n",
       "      <td>TSLA250530C00700000</td>\n",
       "      <td>2025-05-23 13:30:00+00:00</td>\n",
       "      <td>700.0</td>\n",
       "      <td>0.07</td>\n",
       "      <td>0.00</td>\n",
       "      <td>0.01</td>\n",
       "      <td>0.060000</td>\n",
       "      <td>600.000100</td>\n",
       "      <td>1.0</td>\n",
       "      <td>102</td>\n",
       "      <td>1.750001</td>\n",
       "      <td>False</td>\n",
       "      <td>REGULAR</td>\n",
       "      <td>USD</td>\n",
       "    </tr>\n",
       "  </tbody>\n",
       "</table>\n",
       "<p>142 rows × 14 columns</p>\n",
       "</div>"
      ],
      "text/plain": [
       "          contractSymbol              lastTradeDate  strike  lastPrice  \\\n",
       "0    TSLA250530C00050000  2025-05-23 18:30:52+00:00    50.0     290.95   \n",
       "1    TSLA250530C00055000  2025-05-20 14:32:36+00:00    55.0     289.80   \n",
       "2    TSLA250530C00080000  2025-04-23 14:28:59+00:00    80.0     175.60   \n",
       "3    TSLA250530C00090000  2025-04-28 15:25:29+00:00    90.0     186.00   \n",
       "4    TSLA250530C00100000  2025-05-23 19:16:34+00:00   100.0     241.58   \n",
       "..                   ...                        ...     ...        ...   \n",
       "137  TSLA250530C00660000  2025-05-21 14:46:41+00:00   660.0       0.01   \n",
       "138  TSLA250530C00670000  2025-05-21 13:33:06+00:00   670.0       0.02   \n",
       "139  TSLA250530C00680000  2025-05-16 15:53:53+00:00   680.0       0.03   \n",
       "140  TSLA250530C00690000  2025-05-20 15:14:21+00:00   690.0       0.01   \n",
       "141  TSLA250530C00700000  2025-05-23 13:30:00+00:00   700.0       0.07   \n",
       "\n",
       "        bid     ask    change  percentChange  volume  openInterest  \\\n",
       "0    288.05  290.70  7.000000       2.465223     5.0             8   \n",
       "1    283.00  285.70  0.000000       0.000000     6.0            12   \n",
       "2    258.05  260.75  0.000000       0.000000     1.0             1   \n",
       "3    248.05  250.75  0.000000       0.000000     NaN            10   \n",
       "4    238.05  240.75 -3.419998      -1.395918     1.0             0   \n",
       "..      ...     ...       ...            ...     ...           ...   \n",
       "137    0.00    0.01  0.000000       0.000000     8.0            62   \n",
       "138    0.00    0.01  0.000000       0.000000     1.0            70   \n",
       "139    0.00    0.01  0.000000       0.000000    16.0            16   \n",
       "140    0.00    0.01  0.000000       0.000000     4.0            11   \n",
       "141    0.00    0.01  0.060000     600.000100     1.0           102   \n",
       "\n",
       "     impliedVolatility  inTheMoney contractSize currency  \n",
       "0             5.531253        True      REGULAR      USD  \n",
       "1             4.750004        True      REGULAR      USD  \n",
       "2             4.390630        True      REGULAR      USD  \n",
       "3             4.039067        True      REGULAR      USD  \n",
       "4             3.726563        True      REGULAR      USD  \n",
       "..                 ...         ...          ...      ...  \n",
       "137           1.625002       False      REGULAR      USD  \n",
       "138           1.656252       False      REGULAR      USD  \n",
       "139           1.687502       False      REGULAR      USD  \n",
       "140           1.718751       False      REGULAR      USD  \n",
       "141           1.750001       False      REGULAR      USD  \n",
       "\n",
       "[142 rows x 14 columns]"
      ]
     },
     "execution_count": 17,
     "metadata": {},
     "output_type": "execute_result"
    }
   ],
   "source": [
    "df = pd.read_csv(r'../data/calls.csv', index_col=0)\n",
    "df"
   ]
  },
  {
   "cell_type": "code",
   "execution_count": 25,
   "id": "8be8615688631375",
   "metadata": {
    "ExecuteTime": {
     "end_time": "2025-06-02T01:26:04.570513Z",
     "start_time": "2025-06-02T01:26:04.548878Z"
    }
   },
   "outputs": [],
   "source": [
    "calculation_date = ql.Date(23, 5, 2025)  # 当前日期设为2025-05-23\n",
    "strike_date = ql.Date(30,5,2025)\n",
    "ql.Settings.instance().evaluationDate = calculation_date"
   ]
  },
  {
   "cell_type": "code",
   "execution_count": 26,
   "id": "760fe06af623629",
   "metadata": {
    "ExecuteTime": {
     "end_time": "2025-06-02T01:26:06.074392Z",
     "start_time": "2025-06-02T01:26:06.066086Z"
    }
   },
   "outputs": [],
   "source": [
    "# 市场参数\n",
    "spot_price = 339.340  # 当前TSLA股价\n",
    "risk_free_rate = 0.05  # 无风险利率\n",
    "dividend_rate = 0.0  # 股息率"
   ]
  },
  {
   "cell_type": "code",
   "execution_count": null,
   "id": "625536894f7c30f",
   "metadata": {
    "ExecuteTime": {
     "end_time": "2025-06-02T01:31:14.930938Z",
     "start_time": "2025-06-02T01:31:14.896394Z"
    }
   },
   "outputs": [],
   "source": [
    "import QuantLib as ql\n",
    "from src.QlCalendar import QlCalendar\n",
    "from src.QlStocks import QlStocks\n",
    "from src.QlVanillaOptions import QlVanillaOptions"
   ]
  },
  {
   "cell_type": "code",
   "execution_count": 35,
   "id": "4716fa829e9fec43",
   "metadata": {
    "ExecuteTime": {
     "end_time": "2025-06-02T01:30:02.669089Z",
     "start_time": "2025-06-02T01:30:02.661886Z"
    }
   },
   "outputs": [],
   "source": [
    "ql_calendar = QlCalendar(init_date=calculation_date, init_risk_free_rate=risk_free_rate)\n",
    "s = QlStocks(ql_calendar)"
   ]
  },
  {
   "cell_type": "code",
   "execution_count": 36,
   "id": "4b1b83909837a104",
   "metadata": {
    "ExecuteTime": {
     "end_time": "2025-06-02T01:30:03.327959Z",
     "start_time": "2025-06-02T01:30:03.317126Z"
    }
   },
   "outputs": [
    {
     "data": {
      "text/html": [
       "<div>\n",
       "<style scoped>\n",
       "    .dataframe tbody tr th:only-of-type {\n",
       "        vertical-align: middle;\n",
       "    }\n",
       "\n",
       "    .dataframe tbody tr th {\n",
       "        vertical-align: top;\n",
       "    }\n",
       "\n",
       "    .dataframe thead th {\n",
       "        text-align: right;\n",
       "    }\n",
       "</style>\n",
       "<table border=\"1\" class=\"dataframe\">\n",
       "  <thead>\n",
       "    <tr style=\"text-align: right;\">\n",
       "      <th></th>\n",
       "      <th>codes</th>\n",
       "      <th>price_quote</th>\n",
       "      <th>dividend_quote</th>\n",
       "      <th>process_types</th>\n",
       "      <th>processes</th>\n",
       "    </tr>\n",
       "  </thead>\n",
       "  <tbody>\n",
       "    <tr>\n",
       "      <th>0</th>\n",
       "      <td>TSLA_IV</td>\n",
       "      <td>&lt;QuantLib.QuantLib.SimpleQuote; proxy of &lt;Swig...</td>\n",
       "      <td>None</td>\n",
       "      <td>black_schole</td>\n",
       "      <td>&lt;QuantLib.QuantLib.BlackScholesProcess; proxy ...</td>\n",
       "    </tr>\n",
       "    <tr>\n",
       "      <th>1</th>\n",
       "      <td>TSLA_HV</td>\n",
       "      <td>&lt;QuantLib.QuantLib.SimpleQuote; proxy of &lt;Swig...</td>\n",
       "      <td>None</td>\n",
       "      <td>black_schole</td>\n",
       "      <td>&lt;QuantLib.QuantLib.BlackScholesProcess; proxy ...</td>\n",
       "    </tr>\n",
       "  </tbody>\n",
       "</table>\n",
       "</div>"
      ],
      "text/plain": [
       "     codes                                        price_quote dividend_quote  \\\n",
       "0  TSLA_IV  <QuantLib.QuantLib.SimpleQuote; proxy of <Swig...           None   \n",
       "1  TSLA_HV  <QuantLib.QuantLib.SimpleQuote; proxy of <Swig...           None   \n",
       "\n",
       "  process_types                                          processes  \n",
       "0  black_schole  <QuantLib.QuantLib.BlackScholesProcess; proxy ...  \n",
       "1  black_schole  <QuantLib.QuantLib.BlackScholesProcess; proxy ...  "
      ]
     },
     "execution_count": 36,
     "metadata": {},
     "output_type": "execute_result"
    }
   ],
   "source": [
    "s.black_scholes([spot_price, spot_price], sigma=[0.70, 0.489], code=[\"TSLA_IV\", \"TSLA_HV\"])\n",
    "s.df"
   ]
  },
  {
   "cell_type": "code",
   "execution_count": 38,
   "id": "fbf5e34fb49c43a1",
   "metadata": {
    "ExecuteTime": {
     "end_time": "2025-06-02T01:31:31.867041Z",
     "start_time": "2025-06-02T01:31:31.857885Z"
    }
   },
   "outputs": [],
   "source": [
    "options_IV = QlVanillaOptions(s.df.loc[0])  # 使用第一只股票创建期权"
   ]
  },
  {
   "cell_type": "code",
   "execution_count": 39,
   "id": "a7882d1c512de9ba",
   "metadata": {
    "ExecuteTime": {
     "end_time": "2025-06-02T01:32:18.540178Z",
     "start_time": "2025-06-02T01:32:18.512904Z"
    }
   },
   "outputs": [
    {
     "name": "stderr",
     "output_type": "stream",
     "text": [
      "/Users/yang/PycharmProjects/Option/src/QlVanillaOptions.py:76: FutureWarning: The behavior of DataFrame concatenation with empty or all-NA entries is deprecated. In a future version, this will no longer exclude empty or all-NA columns when determining the result dtypes. To retain the old behavior, exclude the relevant entries before the concat operation.\n",
      "  self.df = pd.concat([self.df, new_df], ignore_index=True)\n"
     ]
    }
   ],
   "source": [
    "op = options_IV.european_option(\n",
    "    'call',\n",
    "    df['strike'].values,  # 行权价\n",
    "    strike_date,  # 到期日\n",
    "    qlEngine=ql.AnalyticEuropeanEngine\n",
    ")"
   ]
  },
  {
   "cell_type": "code",
   "execution_count": 50,
   "id": "63ddba72e2badfb9",
   "metadata": {
    "ExecuteTime": {
     "end_time": "2025-06-02T01:36:59.403343Z",
     "start_time": "2025-06-02T01:36:59.391074Z"
    }
   },
   "outputs": [
    {
     "data": {
      "text/html": [
       "<div>\n",
       "<style scoped>\n",
       "    .dataframe tbody tr th:only-of-type {\n",
       "        vertical-align: middle;\n",
       "    }\n",
       "\n",
       "    .dataframe tbody tr th {\n",
       "        vertical-align: top;\n",
       "    }\n",
       "\n",
       "    .dataframe thead th {\n",
       "        text-align: right;\n",
       "    }\n",
       "</style>\n",
       "<table border=\"1\" class=\"dataframe\">\n",
       "  <thead>\n",
       "    <tr style=\"text-align: right;\">\n",
       "      <th></th>\n",
       "      <th>strike_prices</th>\n",
       "      <th>maturity_dates</th>\n",
       "      <th>types</th>\n",
       "      <th>options</th>\n",
       "      <th>engines</th>\n",
       "      <th>NPV</th>\n",
       "    </tr>\n",
       "  </thead>\n",
       "  <tbody>\n",
       "    <tr>\n",
       "      <th>0</th>\n",
       "      <td>50.0</td>\n",
       "      <td>May 30th, 2025</td>\n",
       "      <td>call</td>\n",
       "      <td>&lt;QuantLib.QuantLib.EuropeanOption; proxy of &lt;S...</td>\n",
       "      <td>&lt;QuantLib.QuantLib.AnalyticEuropeanEngine; pro...</td>\n",
       "      <td>2.893896e+02</td>\n",
       "    </tr>\n",
       "    <tr>\n",
       "      <th>1</th>\n",
       "      <td>55.0</td>\n",
       "      <td>May 30th, 2025</td>\n",
       "      <td>call</td>\n",
       "      <td>&lt;QuantLib.QuantLib.EuropeanOption; proxy of &lt;S...</td>\n",
       "      <td>&lt;QuantLib.QuantLib.AnalyticEuropeanEngine; pro...</td>\n",
       "      <td>2.843945e+02</td>\n",
       "    </tr>\n",
       "    <tr>\n",
       "      <th>2</th>\n",
       "      <td>80.0</td>\n",
       "      <td>May 30th, 2025</td>\n",
       "      <td>call</td>\n",
       "      <td>&lt;QuantLib.QuantLib.EuropeanOption; proxy of &lt;S...</td>\n",
       "      <td>&lt;QuantLib.QuantLib.AnalyticEuropeanEngine; pro...</td>\n",
       "      <td>2.594193e+02</td>\n",
       "    </tr>\n",
       "    <tr>\n",
       "      <th>3</th>\n",
       "      <td>90.0</td>\n",
       "      <td>May 30th, 2025</td>\n",
       "      <td>call</td>\n",
       "      <td>&lt;QuantLib.QuantLib.EuropeanOption; proxy of &lt;S...</td>\n",
       "      <td>&lt;QuantLib.QuantLib.AnalyticEuropeanEngine; pro...</td>\n",
       "      <td>2.494292e+02</td>\n",
       "    </tr>\n",
       "    <tr>\n",
       "      <th>4</th>\n",
       "      <td>100.0</td>\n",
       "      <td>May 30th, 2025</td>\n",
       "      <td>call</td>\n",
       "      <td>&lt;QuantLib.QuantLib.EuropeanOption; proxy of &lt;S...</td>\n",
       "      <td>&lt;QuantLib.QuantLib.AnalyticEuropeanEngine; pro...</td>\n",
       "      <td>2.394392e+02</td>\n",
       "    </tr>\n",
       "    <tr>\n",
       "      <th>...</th>\n",
       "      <td>...</td>\n",
       "      <td>...</td>\n",
       "      <td>...</td>\n",
       "      <td>...</td>\n",
       "      <td>...</td>\n",
       "      <td>...</td>\n",
       "    </tr>\n",
       "    <tr>\n",
       "      <th>137</th>\n",
       "      <td>660.0</td>\n",
       "      <td>May 30th, 2025</td>\n",
       "      <td>call</td>\n",
       "      <td>&lt;QuantLib.QuantLib.EuropeanOption; proxy of &lt;S...</td>\n",
       "      <td>&lt;QuantLib.QuantLib.AnalyticEuropeanEngine; pro...</td>\n",
       "      <td>5.379651e-11</td>\n",
       "    </tr>\n",
       "    <tr>\n",
       "      <th>138</th>\n",
       "      <td>670.0</td>\n",
       "      <td>May 30th, 2025</td>\n",
       "      <td>call</td>\n",
       "      <td>&lt;QuantLib.QuantLib.EuropeanOption; proxy of &lt;S...</td>\n",
       "      <td>&lt;QuantLib.QuantLib.AnalyticEuropeanEngine; pro...</td>\n",
       "      <td>1.838309e-11</td>\n",
       "    </tr>\n",
       "    <tr>\n",
       "      <th>139</th>\n",
       "      <td>680.0</td>\n",
       "      <td>May 30th, 2025</td>\n",
       "      <td>call</td>\n",
       "      <td>&lt;QuantLib.QuantLib.EuropeanOption; proxy of &lt;S...</td>\n",
       "      <td>&lt;QuantLib.QuantLib.AnalyticEuropeanEngine; pro...</td>\n",
       "      <td>6.244045e-12</td>\n",
       "    </tr>\n",
       "    <tr>\n",
       "      <th>140</th>\n",
       "      <td>690.0</td>\n",
       "      <td>May 30th, 2025</td>\n",
       "      <td>call</td>\n",
       "      <td>&lt;QuantLib.QuantLib.EuropeanOption; proxy of &lt;S...</td>\n",
       "      <td>&lt;QuantLib.QuantLib.AnalyticEuropeanEngine; pro...</td>\n",
       "      <td>2.109109e-12</td>\n",
       "    </tr>\n",
       "    <tr>\n",
       "      <th>141</th>\n",
       "      <td>700.0</td>\n",
       "      <td>May 30th, 2025</td>\n",
       "      <td>call</td>\n",
       "      <td>&lt;QuantLib.QuantLib.EuropeanOption; proxy of &lt;S...</td>\n",
       "      <td>&lt;QuantLib.QuantLib.AnalyticEuropeanEngine; pro...</td>\n",
       "      <td>7.087741e-13</td>\n",
       "    </tr>\n",
       "  </tbody>\n",
       "</table>\n",
       "<p>142 rows × 6 columns</p>\n",
       "</div>"
      ],
      "text/plain": [
       "     strike_prices  maturity_dates types  \\\n",
       "0             50.0  May 30th, 2025  call   \n",
       "1             55.0  May 30th, 2025  call   \n",
       "2             80.0  May 30th, 2025  call   \n",
       "3             90.0  May 30th, 2025  call   \n",
       "4            100.0  May 30th, 2025  call   \n",
       "..             ...             ...   ...   \n",
       "137          660.0  May 30th, 2025  call   \n",
       "138          670.0  May 30th, 2025  call   \n",
       "139          680.0  May 30th, 2025  call   \n",
       "140          690.0  May 30th, 2025  call   \n",
       "141          700.0  May 30th, 2025  call   \n",
       "\n",
       "                                               options  \\\n",
       "0    <QuantLib.QuantLib.EuropeanOption; proxy of <S...   \n",
       "1    <QuantLib.QuantLib.EuropeanOption; proxy of <S...   \n",
       "2    <QuantLib.QuantLib.EuropeanOption; proxy of <S...   \n",
       "3    <QuantLib.QuantLib.EuropeanOption; proxy of <S...   \n",
       "4    <QuantLib.QuantLib.EuropeanOption; proxy of <S...   \n",
       "..                                                 ...   \n",
       "137  <QuantLib.QuantLib.EuropeanOption; proxy of <S...   \n",
       "138  <QuantLib.QuantLib.EuropeanOption; proxy of <S...   \n",
       "139  <QuantLib.QuantLib.EuropeanOption; proxy of <S...   \n",
       "140  <QuantLib.QuantLib.EuropeanOption; proxy of <S...   \n",
       "141  <QuantLib.QuantLib.EuropeanOption; proxy of <S...   \n",
       "\n",
       "                                               engines           NPV  \n",
       "0    <QuantLib.QuantLib.AnalyticEuropeanEngine; pro...  2.893896e+02  \n",
       "1    <QuantLib.QuantLib.AnalyticEuropeanEngine; pro...  2.843945e+02  \n",
       "2    <QuantLib.QuantLib.AnalyticEuropeanEngine; pro...  2.594193e+02  \n",
       "3    <QuantLib.QuantLib.AnalyticEuropeanEngine; pro...  2.494292e+02  \n",
       "4    <QuantLib.QuantLib.AnalyticEuropeanEngine; pro...  2.394392e+02  \n",
       "..                                                 ...           ...  \n",
       "137  <QuantLib.QuantLib.AnalyticEuropeanEngine; pro...  5.379651e-11  \n",
       "138  <QuantLib.QuantLib.AnalyticEuropeanEngine; pro...  1.838309e-11  \n",
       "139  <QuantLib.QuantLib.AnalyticEuropeanEngine; pro...  6.244045e-12  \n",
       "140  <QuantLib.QuantLib.AnalyticEuropeanEngine; pro...  2.109109e-12  \n",
       "141  <QuantLib.QuantLib.AnalyticEuropeanEngine; pro...  7.087741e-13  \n",
       "\n",
       "[142 rows x 6 columns]"
      ]
     },
     "execution_count": 50,
     "metadata": {},
     "output_type": "execute_result"
    }
   ],
   "source": [
    "df_iv = options_IV.NPV(op)\n",
    "df_iv"
   ]
  },
  {
   "cell_type": "code",
   "execution_count": 57,
   "id": "fa8af7c89cff390c",
   "metadata": {
    "ExecuteTime": {
     "end_time": "2025-06-02T01:40:40.643769Z",
     "start_time": "2025-06-02T01:40:40.621732Z"
    }
   },
   "outputs": [
    {
     "data": {
      "text/html": [
       "<div>\n",
       "<style scoped>\n",
       "    .dataframe tbody tr th:only-of-type {\n",
       "        vertical-align: middle;\n",
       "    }\n",
       "\n",
       "    .dataframe tbody tr th {\n",
       "        vertical-align: top;\n",
       "    }\n",
       "\n",
       "    .dataframe thead th {\n",
       "        text-align: right;\n",
       "    }\n",
       "</style>\n",
       "<table border=\"1\" class=\"dataframe\">\n",
       "  <thead>\n",
       "    <tr style=\"text-align: right;\">\n",
       "      <th></th>\n",
       "      <th>contractSymbol</th>\n",
       "      <th>strike</th>\n",
       "      <th>NPV</th>\n",
       "      <th>lastPrice</th>\n",
       "      <th>bid</th>\n",
       "      <th>ask</th>\n",
       "      <th>impliedVolatility</th>\n",
       "      <th>inTheMoney</th>\n",
       "    </tr>\n",
       "  </thead>\n",
       "  <tbody>\n",
       "    <tr>\n",
       "      <th>0</th>\n",
       "      <td>TSLA250530C00050000</td>\n",
       "      <td>50.0</td>\n",
       "      <td>2.893896e+02</td>\n",
       "      <td>290.95</td>\n",
       "      <td>288.05</td>\n",
       "      <td>290.70</td>\n",
       "      <td>5.531253</td>\n",
       "      <td>True</td>\n",
       "    </tr>\n",
       "    <tr>\n",
       "      <th>1</th>\n",
       "      <td>TSLA250530C00055000</td>\n",
       "      <td>55.0</td>\n",
       "      <td>2.843945e+02</td>\n",
       "      <td>289.80</td>\n",
       "      <td>283.00</td>\n",
       "      <td>285.70</td>\n",
       "      <td>4.750004</td>\n",
       "      <td>True</td>\n",
       "    </tr>\n",
       "    <tr>\n",
       "      <th>2</th>\n",
       "      <td>TSLA250530C00080000</td>\n",
       "      <td>80.0</td>\n",
       "      <td>2.594193e+02</td>\n",
       "      <td>175.60</td>\n",
       "      <td>258.05</td>\n",
       "      <td>260.75</td>\n",
       "      <td>4.390630</td>\n",
       "      <td>True</td>\n",
       "    </tr>\n",
       "    <tr>\n",
       "      <th>3</th>\n",
       "      <td>TSLA250530C00090000</td>\n",
       "      <td>90.0</td>\n",
       "      <td>2.494292e+02</td>\n",
       "      <td>186.00</td>\n",
       "      <td>248.05</td>\n",
       "      <td>250.75</td>\n",
       "      <td>4.039067</td>\n",
       "      <td>True</td>\n",
       "    </tr>\n",
       "    <tr>\n",
       "      <th>4</th>\n",
       "      <td>TSLA250530C00100000</td>\n",
       "      <td>100.0</td>\n",
       "      <td>2.394392e+02</td>\n",
       "      <td>241.58</td>\n",
       "      <td>238.05</td>\n",
       "      <td>240.75</td>\n",
       "      <td>3.726563</td>\n",
       "      <td>True</td>\n",
       "    </tr>\n",
       "    <tr>\n",
       "      <th>...</th>\n",
       "      <td>...</td>\n",
       "      <td>...</td>\n",
       "      <td>...</td>\n",
       "      <td>...</td>\n",
       "      <td>...</td>\n",
       "      <td>...</td>\n",
       "      <td>...</td>\n",
       "      <td>...</td>\n",
       "    </tr>\n",
       "    <tr>\n",
       "      <th>137</th>\n",
       "      <td>TSLA250530C00660000</td>\n",
       "      <td>660.0</td>\n",
       "      <td>5.379651e-11</td>\n",
       "      <td>0.01</td>\n",
       "      <td>0.00</td>\n",
       "      <td>0.01</td>\n",
       "      <td>1.625002</td>\n",
       "      <td>False</td>\n",
       "    </tr>\n",
       "    <tr>\n",
       "      <th>138</th>\n",
       "      <td>TSLA250530C00670000</td>\n",
       "      <td>670.0</td>\n",
       "      <td>1.838309e-11</td>\n",
       "      <td>0.02</td>\n",
       "      <td>0.00</td>\n",
       "      <td>0.01</td>\n",
       "      <td>1.656252</td>\n",
       "      <td>False</td>\n",
       "    </tr>\n",
       "    <tr>\n",
       "      <th>139</th>\n",
       "      <td>TSLA250530C00680000</td>\n",
       "      <td>680.0</td>\n",
       "      <td>6.244045e-12</td>\n",
       "      <td>0.03</td>\n",
       "      <td>0.00</td>\n",
       "      <td>0.01</td>\n",
       "      <td>1.687502</td>\n",
       "      <td>False</td>\n",
       "    </tr>\n",
       "    <tr>\n",
       "      <th>140</th>\n",
       "      <td>TSLA250530C00690000</td>\n",
       "      <td>690.0</td>\n",
       "      <td>2.109109e-12</td>\n",
       "      <td>0.01</td>\n",
       "      <td>0.00</td>\n",
       "      <td>0.01</td>\n",
       "      <td>1.718751</td>\n",
       "      <td>False</td>\n",
       "    </tr>\n",
       "    <tr>\n",
       "      <th>141</th>\n",
       "      <td>TSLA250530C00700000</td>\n",
       "      <td>700.0</td>\n",
       "      <td>7.087741e-13</td>\n",
       "      <td>0.07</td>\n",
       "      <td>0.00</td>\n",
       "      <td>0.01</td>\n",
       "      <td>1.750001</td>\n",
       "      <td>False</td>\n",
       "    </tr>\n",
       "  </tbody>\n",
       "</table>\n",
       "<p>142 rows × 8 columns</p>\n",
       "</div>"
      ],
      "text/plain": [
       "          contractSymbol  strike           NPV  lastPrice     bid     ask  \\\n",
       "0    TSLA250530C00050000    50.0  2.893896e+02     290.95  288.05  290.70   \n",
       "1    TSLA250530C00055000    55.0  2.843945e+02     289.80  283.00  285.70   \n",
       "2    TSLA250530C00080000    80.0  2.594193e+02     175.60  258.05  260.75   \n",
       "3    TSLA250530C00090000    90.0  2.494292e+02     186.00  248.05  250.75   \n",
       "4    TSLA250530C00100000   100.0  2.394392e+02     241.58  238.05  240.75   \n",
       "..                   ...     ...           ...        ...     ...     ...   \n",
       "137  TSLA250530C00660000   660.0  5.379651e-11       0.01    0.00    0.01   \n",
       "138  TSLA250530C00670000   670.0  1.838309e-11       0.02    0.00    0.01   \n",
       "139  TSLA250530C00680000   680.0  6.244045e-12       0.03    0.00    0.01   \n",
       "140  TSLA250530C00690000   690.0  2.109109e-12       0.01    0.00    0.01   \n",
       "141  TSLA250530C00700000   700.0  7.087741e-13       0.07    0.00    0.01   \n",
       "\n",
       "     impliedVolatility  inTheMoney  \n",
       "0             5.531253        True  \n",
       "1             4.750004        True  \n",
       "2             4.390630        True  \n",
       "3             4.039067        True  \n",
       "4             3.726563        True  \n",
       "..                 ...         ...  \n",
       "137           1.625002       False  \n",
       "138           1.656252       False  \n",
       "139           1.687502       False  \n",
       "140           1.718751       False  \n",
       "141           1.750001       False  \n",
       "\n",
       "[142 rows x 8 columns]"
      ]
     },
     "execution_count": 57,
     "metadata": {},
     "output_type": "execute_result"
    }
   ],
   "source": [
    "combined_iv = pd.merge(df, df_iv[['strike_prices', 'NPV']], left_on='strike', right_on='strike_prices')\n",
    "combined_iv[['contractSymbol', 'strike', 'NPV', 'lastPrice', 'bid', 'ask', 'impliedVolatility', 'inTheMoney']]"
   ]
  },
  {
   "cell_type": "code",
   "execution_count": 47,
   "id": "92f100127c2dfb91",
   "metadata": {
    "ExecuteTime": {
     "end_time": "2025-06-02T01:36:48.513456Z",
     "start_time": "2025-06-02T01:36:48.441512Z"
    }
   },
   "outputs": [
    {
     "ename": "KeyError",
     "evalue": "('strike_prices', 'NPV')",
     "output_type": "error",
     "traceback": [
      "\u001b[0;31m---------------------------------------------------------------------------\u001b[0m",
      "\u001b[0;31mKeyError\u001b[0m                                  Traceback (most recent call last)",
      "File \u001b[0;32m/opt/anaconda3/lib/python3.12/site-packages/pandas/core/indexes/base.py:3805\u001b[0m, in \u001b[0;36mIndex.get_loc\u001b[0;34m(self, key)\u001b[0m\n\u001b[1;32m   3804\u001b[0m \u001b[38;5;28;01mtry\u001b[39;00m:\n\u001b[0;32m-> 3805\u001b[0m     \u001b[38;5;28;01mreturn\u001b[39;00m \u001b[38;5;28mself\u001b[39m\u001b[38;5;241m.\u001b[39m_engine\u001b[38;5;241m.\u001b[39mget_loc(casted_key)\n\u001b[1;32m   3806\u001b[0m \u001b[38;5;28;01mexcept\u001b[39;00m \u001b[38;5;167;01mKeyError\u001b[39;00m \u001b[38;5;28;01mas\u001b[39;00m err:\n",
      "File \u001b[0;32mindex.pyx:167\u001b[0m, in \u001b[0;36mpandas._libs.index.IndexEngine.get_loc\u001b[0;34m()\u001b[0m\n",
      "File \u001b[0;32mindex.pyx:196\u001b[0m, in \u001b[0;36mpandas._libs.index.IndexEngine.get_loc\u001b[0;34m()\u001b[0m\n",
      "File \u001b[0;32mpandas/_libs/hashtable_class_helper.pxi:7081\u001b[0m, in \u001b[0;36mpandas._libs.hashtable.PyObjectHashTable.get_item\u001b[0;34m()\u001b[0m\n",
      "File \u001b[0;32mpandas/_libs/hashtable_class_helper.pxi:7089\u001b[0m, in \u001b[0;36mpandas._libs.hashtable.PyObjectHashTable.get_item\u001b[0;34m()\u001b[0m\n",
      "\u001b[0;31mKeyError\u001b[0m: ('strike_prices', 'NPV')",
      "\nThe above exception was the direct cause of the following exception:\n",
      "\u001b[0;31mKeyError\u001b[0m                                  Traceback (most recent call last)",
      "Cell \u001b[0;32mIn[47], line 1\u001b[0m\n\u001b[0;32m----> 1\u001b[0m df_iv[\u001b[38;5;124m'\u001b[39m\u001b[38;5;124mstrike_prices\u001b[39m\u001b[38;5;124m'\u001b[39m, \u001b[38;5;124m'\u001b[39m\u001b[38;5;124mNPV\u001b[39m\u001b[38;5;124m'\u001b[39m]\n",
      "File \u001b[0;32m/opt/anaconda3/lib/python3.12/site-packages/pandas/core/frame.py:4102\u001b[0m, in \u001b[0;36mDataFrame.__getitem__\u001b[0;34m(self, key)\u001b[0m\n\u001b[1;32m   4100\u001b[0m \u001b[38;5;28;01mif\u001b[39;00m \u001b[38;5;28mself\u001b[39m\u001b[38;5;241m.\u001b[39mcolumns\u001b[38;5;241m.\u001b[39mnlevels \u001b[38;5;241m>\u001b[39m \u001b[38;5;241m1\u001b[39m:\n\u001b[1;32m   4101\u001b[0m     \u001b[38;5;28;01mreturn\u001b[39;00m \u001b[38;5;28mself\u001b[39m\u001b[38;5;241m.\u001b[39m_getitem_multilevel(key)\n\u001b[0;32m-> 4102\u001b[0m indexer \u001b[38;5;241m=\u001b[39m \u001b[38;5;28mself\u001b[39m\u001b[38;5;241m.\u001b[39mcolumns\u001b[38;5;241m.\u001b[39mget_loc(key)\n\u001b[1;32m   4103\u001b[0m \u001b[38;5;28;01mif\u001b[39;00m is_integer(indexer):\n\u001b[1;32m   4104\u001b[0m     indexer \u001b[38;5;241m=\u001b[39m [indexer]\n",
      "File \u001b[0;32m/opt/anaconda3/lib/python3.12/site-packages/pandas/core/indexes/base.py:3812\u001b[0m, in \u001b[0;36mIndex.get_loc\u001b[0;34m(self, key)\u001b[0m\n\u001b[1;32m   3807\u001b[0m     \u001b[38;5;28;01mif\u001b[39;00m \u001b[38;5;28misinstance\u001b[39m(casted_key, \u001b[38;5;28mslice\u001b[39m) \u001b[38;5;129;01mor\u001b[39;00m (\n\u001b[1;32m   3808\u001b[0m         \u001b[38;5;28misinstance\u001b[39m(casted_key, abc\u001b[38;5;241m.\u001b[39mIterable)\n\u001b[1;32m   3809\u001b[0m         \u001b[38;5;129;01mand\u001b[39;00m \u001b[38;5;28many\u001b[39m(\u001b[38;5;28misinstance\u001b[39m(x, \u001b[38;5;28mslice\u001b[39m) \u001b[38;5;28;01mfor\u001b[39;00m x \u001b[38;5;129;01min\u001b[39;00m casted_key)\n\u001b[1;32m   3810\u001b[0m     ):\n\u001b[1;32m   3811\u001b[0m         \u001b[38;5;28;01mraise\u001b[39;00m InvalidIndexError(key)\n\u001b[0;32m-> 3812\u001b[0m     \u001b[38;5;28;01mraise\u001b[39;00m \u001b[38;5;167;01mKeyError\u001b[39;00m(key) \u001b[38;5;28;01mfrom\u001b[39;00m \u001b[38;5;21;01merr\u001b[39;00m\n\u001b[1;32m   3813\u001b[0m \u001b[38;5;28;01mexcept\u001b[39;00m \u001b[38;5;167;01mTypeError\u001b[39;00m:\n\u001b[1;32m   3814\u001b[0m     \u001b[38;5;66;03m# If we have a listlike key, _check_indexing_error will raise\u001b[39;00m\n\u001b[1;32m   3815\u001b[0m     \u001b[38;5;66;03m#  InvalidIndexError. Otherwise we fall through and re-raise\u001b[39;00m\n\u001b[1;32m   3816\u001b[0m     \u001b[38;5;66;03m#  the TypeError.\u001b[39;00m\n\u001b[1;32m   3817\u001b[0m     \u001b[38;5;28mself\u001b[39m\u001b[38;5;241m.\u001b[39m_check_indexing_error(key)\n",
      "\u001b[0;31mKeyError\u001b[0m: ('strike_prices', 'NPV')"
     ]
    }
   ],
   "source": []
  },
  {
   "cell_type": "code",
   "execution_count": null,
   "id": "38548d76967ecfe7",
   "metadata": {},
   "outputs": [],
   "source": []
  }
 ],
 "metadata": {
  "kernelspec": {
   "display_name": "Python 3 (ipykernel)",
   "language": "python",
   "name": "python3"
  },
  "language_info": {
   "codemirror_mode": {
    "name": "ipython",
    "version": 3
   },
   "file_extension": ".py",
   "mimetype": "text/x-python",
   "name": "python",
   "nbconvert_exporter": "python",
   "pygments_lexer": "ipython3",
   "version": "3.12.4"
  }
 },
 "nbformat": 4,
 "nbformat_minor": 5
}
