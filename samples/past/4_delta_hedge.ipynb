{
 "cells": [
  {
   "cell_type": "code",
   "execution_count": null,
   "id": "initial_id",
   "metadata": {
    "collapsed": true
   },
   "outputs": [],
   "source": [
    ""
   ]
  },
  {
   "metadata": {
    "ExecuteTime": {
     "end_time": "2025-05-26T06:05:02.897442Z",
     "start_time": "2025-05-26T06:05:02.377622Z"
    }
   },
   "cell_type": "code",
   "source": [
    "import numpy as np\n",
    "import QuantLib as ql\n",
    "from src.QlMarket import QlMarket\n",
    "from src.QlStockPricer import QlStockPricer\n",
    "from src.QlVanillaOption import QlVanillaOption\n"
   ],
   "id": "9baa9516eb5fe25f",
   "outputs": [],
   "execution_count": 1
  },
  {
   "metadata": {
    "ExecuteTime": {
     "end_time": "2025-05-26T06:05:02.912975Z",
     "start_time": "2025-05-26T06:05:02.908349Z"
    }
   },
   "cell_type": "code",
   "source": [
    "S0 = 100\n",
    "strike = 100\n",
    "r = 0.05\n",
    "sigma = 0.3\n",
    "T=1"
   ],
   "id": "f0748bc91441e8cb",
   "outputs": [],
   "execution_count": 2
  },
  {
   "metadata": {
    "ExecuteTime": {
     "end_time": "2025-05-26T06:05:03.231119Z",
     "start_time": "2025-05-26T06:05:03.218184Z"
    }
   },
   "cell_type": "code",
   "source": [
    "start_date = ql.Date(1, 1, 2023)\n",
    "qlMarket = QlMarket(init_date=start_date, init_risk_free_rate=r)\n",
    "start_date = qlMarket.init_date\n",
    "end_date = qlMarket.yearFractionToDate(start_date, 1)\n",
    "start_date, end_date"
   ],
   "id": "c952dc3ea94ffbe9",
   "outputs": [
    {
     "data": {
      "text/plain": [
       "(Date(3,1,2023), Date(10,1,2024))"
      ]
     },
     "execution_count": 3,
     "metadata": {},
     "output_type": "execute_result"
    }
   ],
   "execution_count": 3
  },
  {
   "metadata": {
    "ExecuteTime": {
     "end_time": "2025-05-26T06:05:06.001850Z",
     "start_time": "2025-05-26T06:05:05.994931Z"
    }
   },
   "cell_type": "code",
   "source": "qlMarket.calendar",
   "id": "99bbc178548c9069",
   "outputs": [
    {
     "data": {
      "text/plain": [
       "<QuantLib.QuantLib.HongKong; proxy of <Swig Object of type 'QuantLib::HongKong *' at 0x10a9d4de0> >"
      ]
     },
     "execution_count": 4,
     "metadata": {},
     "output_type": "execute_result"
    }
   ],
   "execution_count": 4
  },
  {
   "metadata": {
    "ExecuteTime": {
     "end_time": "2025-05-26T06:05:11.421790Z",
     "start_time": "2025-05-26T06:05:11.415417Z"
    }
   },
   "cell_type": "code",
   "source": [
    "stock_1 = QlStockPricer(QlMarket=qlMarket, init_stock_price=S0)\n",
    "stock_1.using_Black_Scholes_model(sigma=sigma)\n"
   ],
   "id": "6973d66449a31fbc",
   "outputs": [
    {
     "name": "stdout",
     "output_type": "stream",
     "text": [
      "Next step, you need set model type\n",
      "set new model: Black Scholes model with sigma: 0.3\n"
     ]
    }
   ],
   "execution_count": 5
  },
  {
   "metadata": {
    "ExecuteTime": {
     "end_time": "2025-05-26T06:05:12.496491Z",
     "start_time": "2025-05-26T06:05:12.489997Z"
    }
   },
   "cell_type": "code",
   "source": "stock_1.day_counter.yearFraction(start_date, end_date)",
   "id": "cd89b17f94ba8a90",
   "outputs": [
    {
     "data": {
      "text/plain": [
       "1.0"
      ]
     },
     "execution_count": 6,
     "metadata": {},
     "output_type": "execute_result"
    }
   ],
   "execution_count": 6
  },
  {
   "metadata": {
    "ExecuteTime": {
     "end_time": "2025-05-26T06:05:14.044123Z",
     "start_time": "2025-05-26T06:05:14.031931Z"
    }
   },
   "cell_type": "code",
   "source": [
    "option_call = QlVanillaOption.init_from_price_and_date(\n",
    "    strike_price=strike,\n",
    "    end_date=end_date,\n",
    "    QlStockPricer = stock_1,\n",
    "    option_type=ql.Option.Call,\n",
    "    engine = ql.AnalyticEuropeanEngine\n",
    ")\n",
    "option_put = QlVanillaOption.init_from_price_and_date(\n",
    "    strike_price=strike,\n",
    "    end_date=end_date,\n",
    "    QlStockPricer = stock_1,\n",
    "    option_type=ql.Option.Put,\n",
    "    engine = ql.AnalyticEuropeanEngine\n",
    ")\n",
    "print(f'call: {option_call.NPV()}')\n",
    "print(f'put: {option_put.NPV()}')\n",
    "print(f'call - put : {option_call.NPV() - option_put.NPV()}')"
   ],
   "id": "86956c8135186fb3",
   "outputs": [
    {
     "name": "stdout",
     "output_type": "stream",
     "text": [
      "call: 14.231254785985845\n",
      "put: 9.354197236057235\n",
      "call - put : 4.87705754992861\n"
     ]
    }
   ],
   "execution_count": 7
  },
  {
   "metadata": {},
   "cell_type": "markdown",
   "source": "## test if fulfills put-call parity\n",
   "id": "ce13233421c2227a"
  },
  {
   "metadata": {
    "ExecuteTime": {
     "end_time": "2025-05-26T06:05:17.842277Z",
     "start_time": "2025-05-26T06:05:17.837443Z"
    }
   },
   "cell_type": "code",
   "source": "print(option_call.NPV() - option_put.NPV() - (S0 - strike * np.exp(-r * T)))\n",
   "id": "c253fb15da5cb87e",
   "outputs": [
    {
     "name": "stdout",
     "output_type": "stream",
     "text": [
      "1.5987211554602254e-14\n"
     ]
    }
   ],
   "execution_count": 8
  },
  {
   "metadata": {
    "ExecuteTime": {
     "end_time": "2025-05-26T06:05:20.448750Z",
     "start_time": "2025-05-26T06:05:19.322767Z"
    }
   },
   "cell_type": "code",
   "source": [
    "from scipy.stats import norm\n",
    "\n",
    "def bs_option(S0, strike, T, r, sigma, type):\n",
    "    '''\n",
    "    Black-Scholes option pricing formula\n",
    "\n",
    "    Parameters\n",
    "    ----------\n",
    "    S0 : float\n",
    "        Initial value of the underlying\n",
    "    strike : float\n",
    "        Strike price of the option\n",
    "    T : float\n",
    "        Time to maturity of the option\n",
    "    r : float\n",
    "        Risk-free interest rate\n",
    "    sigma : float\n",
    "        Volatility of the underlying\n",
    "    type : str\n",
    "        Type of option, either 'call' or 'put'\n",
    "    '''\n",
    "    d1 = (np.log(S0/strike) + (r + 0.5 * sigma**2) * T) / (sigma * np.sqrt(T))\n",
    "    d2 = d1 - sigma * np.sqrt(T)\n",
    "\n",
    "    if type == 'call':\n",
    "        return S0 * norm.cdf(d1) - strike * np.exp(-r * T) * norm.cdf(d2)\n",
    "    elif type == 'put':\n",
    "        return strike * np.exp(-r * T) * norm.cdf(-d2) - S0 * norm.cdf(-d1)\n",
    "    else:\n",
    "        raise ValueError('Option type must be either \"call\" or \"put\"')\n"
   ],
   "id": "6b4a299cd9b823d",
   "outputs": [],
   "execution_count": 9
  },
  {
   "metadata": {
    "ExecuteTime": {
     "end_time": "2025-05-26T06:05:20.491676Z",
     "start_time": "2025-05-26T06:05:20.482942Z"
    }
   },
   "cell_type": "code",
   "source": [
    "# test if fulfills put-call parity\n",
    "call = bs_option(S0, strike, T, r, sigma, 'call')\n",
    "put = bs_option(S0, strike, T, r, sigma, 'put')\n",
    "\n",
    "print(f'call: {call}')\n",
    "print(f'put: {put}')\n",
    "print(f'call - put : {call - put}')\n",
    "print(call - put - (S0 - strike * np.exp(-r * T)))"
   ],
   "id": "f69cb46b139a1906",
   "outputs": [
    {
     "name": "stdout",
     "output_type": "stream",
     "text": [
      "call: 14.231254785985819\n",
      "put: 9.354197236057232\n",
      "call - put : 4.877057549928587\n",
      "-7.105427357601002e-15\n"
     ]
    }
   ],
   "execution_count": 10
  },
  {
   "metadata": {
    "ExecuteTime": {
     "end_time": "2025-05-26T06:05:29.489657Z",
     "start_time": "2025-05-26T06:05:29.481591Z"
    }
   },
   "cell_type": "code",
   "source": "call",
   "id": "7310386b15fb287e",
   "outputs": [
    {
     "data": {
      "text/plain": [
       "14.231254785985819"
      ]
     },
     "execution_count": 11,
     "metadata": {},
     "output_type": "execute_result"
    }
   ],
   "execution_count": 11
  },
  {
   "metadata": {
    "ExecuteTime": {
     "end_time": "2025-05-26T06:05:30.129968Z",
     "start_time": "2025-05-26T06:05:30.122310Z"
    }
   },
   "cell_type": "code",
   "source": "put",
   "id": "85d01468e9243285",
   "outputs": [
    {
     "data": {
      "text/plain": [
       "9.354197236057232"
      ]
     },
     "execution_count": 12,
     "metadata": {},
     "output_type": "execute_result"
    }
   ],
   "execution_count": 12
  },
  {
   "metadata": {},
   "cell_type": "code",
   "outputs": [],
   "execution_count": null,
   "source": "",
   "id": "65bd82d96143488f"
  }
 ],
 "metadata": {
  "kernelspec": {
   "display_name": "Python 3",
   "language": "python",
   "name": "python3"
  },
  "language_info": {
   "codemirror_mode": {
    "name": "ipython",
    "version": 2
   },
   "file_extension": ".py",
   "mimetype": "text/x-python",
   "name": "python",
   "nbconvert_exporter": "python",
   "pygments_lexer": "ipython2",
   "version": "2.7.6"
  }
 },
 "nbformat": 4,
 "nbformat_minor": 5
}
