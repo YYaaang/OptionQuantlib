{
 "cells": [
  {
   "metadata": {},
   "cell_type": "markdown",
   "source": "# Vanilla Option",
   "id": "65e7f72d597a64d5"
  },
  {
   "metadata": {
    "ExecuteTime": {
     "end_time": "2025-05-26T05:14:19.262590Z",
     "start_time": "2025-05-26T05:14:19.255691Z"
    }
   },
   "cell_type": "code",
   "source": [
    "import QuantLib as ql\n",
    "from src.QlMarket import QlMarket\n",
    "from src.QlStockPricer import QlStockPricer\n",
    "from src.QlVanillaOption import QlVanillaOption"
   ],
   "id": "a1586468897c0442",
   "outputs": [],
   "execution_count": 7
  },
  {
   "metadata": {},
   "cell_type": "markdown",
   "source": "## 初始化市场",
   "id": "76b27c187573fd4d"
  },
  {
   "metadata": {
    "ExecuteTime": {
     "end_time": "2025-05-26T05:14:20.318424Z",
     "start_time": "2025-05-26T05:14:20.307234Z"
    }
   },
   "cell_type": "code",
   "source": [
    "start_date = ql.Date(1, 1, 2023)\n",
    "qlMarket = QlMarket(init_date=start_date)\n",
    "start_date = qlMarket.init_date\n",
    "start_date"
   ],
   "id": "83aef120f28413",
   "outputs": [
    {
     "data": {
      "text/plain": [
       "Date(3,1,2023)"
      ]
     },
     "execution_count": 8,
     "metadata": {},
     "output_type": "execute_result"
    }
   ],
   "execution_count": 8
  },
  {
   "metadata": {},
   "cell_type": "markdown",
   "source": "## 初始化一个股票",
   "id": "d40dd904ae27775f"
  },
  {
   "metadata": {
    "ExecuteTime": {
     "end_time": "2025-05-26T05:14:20.971884Z",
     "start_time": "2025-05-26T05:14:20.963837Z"
    }
   },
   "cell_type": "code",
   "source": [
    "stock_1 = QlStockPricer(QlMarket=qlMarket, init_stock_price=100.0)\n",
    "stock_1.using_Black_Scholes_model(sigma=0.2)"
   ],
   "id": "8dcf6c81580818ca",
   "outputs": [
    {
     "name": "stdout",
     "output_type": "stream",
     "text": [
      "Next step, you need set model type\n",
      "set new model: Black Scholes model with sigma: 0.2\n"
     ]
    }
   ],
   "execution_count": 9
  },
  {
   "metadata": {
    "ExecuteTime": {
     "end_time": "2025-05-26T05:14:21.235162Z",
     "start_time": "2025-05-26T05:14:21.224680Z"
    }
   },
   "cell_type": "code",
   "source": [
    "end_date = qlMarket.cal_date_advance(start_date,1, 'months')\n",
    "end_date"
   ],
   "id": "f846aa449ac91111",
   "outputs": [
    {
     "data": {
      "text/plain": [
       "Date(3,2,2023)"
      ]
     },
     "execution_count": 10,
     "metadata": {},
     "output_type": "execute_result"
    }
   ],
   "execution_count": 10
  },
  {
   "metadata": {},
   "cell_type": "markdown",
   "source": "## 初始化期权",
   "id": "11d45f5d8d9e82d3"
  },
  {
   "metadata": {
    "ExecuteTime": {
     "end_time": "2025-05-26T05:14:23.449053Z",
     "start_time": "2025-05-26T05:14:23.443523Z"
    }
   },
   "cell_type": "code",
   "source": [
    "payoff = ql.PlainVanillaPayoff(ql.Option.Call, 100.0)\n",
    "exercise = ql.EuropeanExercise(end_date)"
   ],
   "id": "47048dcf28fc6075",
   "outputs": [],
   "execution_count": 11
  },
  {
   "metadata": {
    "ExecuteTime": {
     "end_time": "2025-05-26T05:14:24.284619Z",
     "start_time": "2025-05-26T05:14:24.280403Z"
    }
   },
   "cell_type": "code",
   "source": [
    "option = QlVanillaOption(\n",
    "    payoff,\n",
    "    exercise,\n",
    "    QlStockPricer = stock_1,\n",
    "    engine = ql.AnalyticEuropeanEngine\n",
    ")"
   ],
   "id": "77a2e666925e4965",
   "outputs": [],
   "execution_count": 12
  },
  {
   "metadata": {
    "ExecuteTime": {
     "end_time": "2025-05-21T12:13:54.578608Z",
     "start_time": "2025-05-21T12:13:54.573494Z"
    }
   },
   "cell_type": "code",
   "source": "option.stock_price.value()",
   "id": "9435a02899870a6a",
   "outputs": [
    {
     "data": {
      "text/plain": [
       "100.0"
      ]
     },
     "execution_count": 7,
     "metadata": {},
     "output_type": "execute_result"
    }
   ],
   "execution_count": 7
  },
  {
   "metadata": {
    "ExecuteTime": {
     "end_time": "2025-05-21T12:13:54.787781Z",
     "start_time": "2025-05-21T12:13:54.782940Z"
    }
   },
   "cell_type": "code",
   "source": "option.today",
   "id": "a1d6b58ae09d47bc",
   "outputs": [
    {
     "data": {
      "text/plain": [
       "Date(3,1,2023)"
      ]
     },
     "execution_count": 8,
     "metadata": {},
     "output_type": "execute_result"
    }
   ],
   "execution_count": 8
  },
  {
   "metadata": {
    "ExecuteTime": {
     "end_time": "2025-05-21T12:13:55.055264Z",
     "start_time": "2025-05-21T12:13:55.043336Z"
    }
   },
   "cell_type": "code",
   "source": "option.NPV()",
   "id": "b9c5b8d034a0de31",
   "outputs": [
    {
     "data": {
      "text/plain": [
       "2.446616201530256"
      ]
     },
     "execution_count": 9,
     "metadata": {},
     "output_type": "execute_result"
    }
   ],
   "execution_count": 9
  },
  {
   "metadata": {},
   "cell_type": "markdown",
   "source": "## 初始化期权（方式二）",
   "id": "6520fdf4f5028397"
  },
  {
   "metadata": {},
   "cell_type": "code",
   "outputs": [],
   "execution_count": null,
   "source": [
    "option_0 = QlVanillaOption.init_from_price_and_date(\n",
    "    strike_price=100.0,\n",
    "    end_date=end_date,\n",
    "    QlStockPricer=stock_1,\n",
    "    engine = ql.AnalyticEuropeanEngine\n",
    ")\n",
    "option_0.NPV()"
   ],
   "id": "a58961f115849e45"
  },
  {
   "metadata": {},
   "cell_type": "markdown",
   "source": "## greeks",
   "id": "91bbbf938207c6c6"
  },
  {
   "metadata": {
    "ExecuteTime": {
     "end_time": "2025-05-21T12:13:55.293786Z",
     "start_time": "2025-05-21T12:13:55.289528Z"
    }
   },
   "cell_type": "code",
   "source": "option.greeks()",
   "id": "bd7c7e93a0cda230",
   "outputs": [
    {
     "data": {
      "text/plain": [
       "{'delta': 0.5392725928973825,\n",
       " 'gamma': 0.07046187392115945,\n",
       " 'theta': -16.66640693864226,\n",
       " 'vega': 11.184424431930074,\n",
       " 'rho': 4.085765324460952}"
      ]
     },
     "execution_count": 10,
     "metadata": {},
     "output_type": "execute_result"
    }
   ],
   "execution_count": 10
  },
  {
   "metadata": {},
   "cell_type": "markdown",
   "source": [
    "### Vanilla Option 定价引擎\n",
    "\n",
    "#### 1. **解析法引擎**\n",
    "- **`AnalyticEuropeanEngine`**  \n",
    "  - **用途**：欧式期权的解析定价（Black-Scholes 公式）  \n",
    "  - **输入**：`GeneralizedBlackScholesProcess`（包含标的、无风险利率、股息率、波动率）  \n",
    "  - **特点**：快速精确，仅支持欧式期权。\n",
    "\n",
    "#### 2. **蒙特卡洛引擎**\n",
    "- **`MCEuropeanEngine`**  \n",
    "  - **用途**：欧式期权的蒙特卡洛模拟定价  \n",
    "  - **输入**：`GeneralizedBlackScholesProcess` + 随机数生成器（如伪随机/低差异序列）  \n",
    "  - **参数**：时间步数、路径数量、容差等。  \n",
    "  - **特点**：支持复杂路径依赖期权，计算较慢但灵活。\n",
    "\n",
    "- **`MCAmericanEngine`**  \n",
    "  - **用途**：美式期权的蒙特卡洛模拟定价（LSM算法）  \n",
    "  - **输入**：类似 `MCEuropeanEngine`，但需校准多项式。  \n",
    "  - **特点**：支持提前行权，计算成本高。\n",
    "\n",
    "#### 3. **有限差分引擎**\n",
    "- **`FdBlackScholesVanillaEngine`**  \n",
    "  - **用途**：欧式/美式期权的有限差分法定价  \n",
    "  - **输入**：`GeneralizedBlackScholesProcess` + 网格参数（时间/空间步数）  \n",
    "  - **特点**：高效处理美式期权，支持局部波动率。\n",
    "\n",
    "#### 4. **Heston模型引擎**\n",
    "- **`AnalyticHestonEngine`**  \n",
    "  - **用途**：欧式期权的Heston模型解析解  \n",
    "  - **输入**：`HestonProcess`（包含随机波动率参数）  \n",
    "  - **特点**：考虑波动率微笑，计算速度快。\n",
    "\n",
    "- **`FdHestonVanillaEngine`**  \n",
    "  - **用途**：Heston模型下的有限差分定价  \n",
    "  - **输入**：`HestonModel` + 三维网格（标的/波动率/时间）  \n",
    "  - **特点**：支持美式期权和复杂边界条件。\n",
    "\n",
    "#### 5. **其他扩展引擎**\n",
    "- **`AnalyticPTDHestonEngine`**  \n",
    "  - **用途**：分段时变Heston模型的解析定价。  \n",
    "- **`MCEuropeanHestonEngine`**  \n",
    "  - **用途**：Heston模型下的蒙特卡洛模拟。\n",
    "\n",
    "---\n",
    "\n",
    "### 选择建议\n",
    "- **欧式期权**：优先用 `AnalyticEuropeanEngine` 或 `AnalyticHestonEngine`。  \n",
    "- **美式期权**：使用 `FdBlackScholesVanillaEngine` 或 `MCAmericanEngine`。  \n",
    "- **波动率微笑**：Heston系列引擎（解析或有限差分）。  \n",
    "- **路径依赖**：蒙特卡洛引擎（如亚式、障碍期权）。\n",
    "\n",
    "--- \n",
    "\n",
    "可根据实际需求进一步补充参数说明或代码示例。"
   ],
   "id": "2f7e8c7bc27171ec"
  },
  {
   "metadata": {
    "ExecuteTime": {
     "end_time": "2025-05-21T12:13:57.230001Z",
     "start_time": "2025-05-21T12:13:57.224524Z"
    }
   },
   "cell_type": "code",
   "source": [
    "steps = qlMarket.day_counter.dayCount(qlMarket.today, end_date)\n",
    "steps"
   ],
   "id": "ee473dbed0494b30",
   "outputs": [
    {
     "data": {
      "text/plain": [
       "20"
      ]
     },
     "execution_count": 11,
     "metadata": {},
     "output_type": "execute_result"
    }
   ],
   "execution_count": 11
  },
  {
   "metadata": {
    "ExecuteTime": {
     "end_time": "2025-05-21T12:13:58.587067Z",
     "start_time": "2025-05-21T12:13:58.582977Z"
    }
   },
   "cell_type": "code",
   "source": [
    "option2 = QlVanillaOption(\n",
    "    payoff,\n",
    "    exercise,\n",
    "    stock_1,\n",
    "    ql.MCEuropeanEngine,\n",
    "    traits = \"pseudorandom\", # could use \"lowdiscrepancy\"\n",
    "    timeSteps = steps,\n",
    "    requiredSamples = 10000,\n",
    ")"
   ],
   "id": "5f5383f9ffb7c6c9",
   "outputs": [],
   "execution_count": 12
  },
  {
   "metadata": {
    "ExecuteTime": {
     "end_time": "2025-05-21T12:14:19.151041Z",
     "start_time": "2025-05-21T12:14:19.126323Z"
    }
   },
   "cell_type": "code",
   "source": "option.NPV()",
   "id": "3696e5eeec733a95",
   "outputs": [
    {
     "data": {
      "text/plain": [
       "2.446616201530256"
      ]
     },
     "execution_count": 14,
     "metadata": {},
     "output_type": "execute_result"
    }
   ],
   "execution_count": 14
  },
  {
   "metadata": {
    "ExecuteTime": {
     "end_time": "2025-05-21T12:14:49.681185Z",
     "start_time": "2025-05-21T12:14:49.673460Z"
    }
   },
   "cell_type": "code",
   "source": "option2.NPV()",
   "id": "e9c371c4a2619427",
   "outputs": [
    {
     "data": {
      "text/plain": [
       "2.4857584909268216"
      ]
     },
     "execution_count": 17,
     "metadata": {},
     "output_type": "execute_result"
    }
   ],
   "execution_count": 17
  },
  {
   "metadata": {},
   "cell_type": "markdown",
   "source": "## Mont Carlo do not have default greeks",
   "id": "880498d638402522"
  },
  {
   "metadata": {
    "ExecuteTime": {
     "end_time": "2025-05-21T12:14:57.997531Z",
     "start_time": "2025-05-21T12:14:57.801560Z"
    }
   },
   "cell_type": "code",
   "source": "option2.delta()",
   "id": "679d877bd1494de1",
   "outputs": [
    {
     "ename": "RuntimeError",
     "evalue": "delta not provided",
     "output_type": "error",
     "traceback": [
      "\u001B[0;31m---------------------------------------------------------------------------\u001B[0m",
      "\u001B[0;31mRuntimeError\u001B[0m                              Traceback (most recent call last)",
      "\u001B[0;32m/var/folders/v_/g8cn51c96_l31y5zbwlvt2j00000gp/T/ipykernel_14453/3780431277.py\u001B[0m in \u001B[0;36m?\u001B[0;34m()\u001B[0m\n\u001B[0;32m----> 1\u001B[0;31m \u001B[0moption2\u001B[0m\u001B[0;34m.\u001B[0m\u001B[0mdelta\u001B[0m\u001B[0;34m(\u001B[0m\u001B[0;34m)\u001B[0m\u001B[0;34m\u001B[0m\u001B[0;34m\u001B[0m\u001B[0m\n\u001B[0m",
      "\u001B[0;32m/opt/anaconda3/lib/python3.12/site-packages/QuantLib/QuantLib.py\u001B[0m in \u001B[0;36m?\u001B[0;34m(self)\u001B[0m\n\u001B[1;32m  17646\u001B[0m     \u001B[0;32mdef\u001B[0m \u001B[0mdelta\u001B[0m\u001B[0;34m(\u001B[0m\u001B[0mself\u001B[0m\u001B[0;34m)\u001B[0m\u001B[0;34m:\u001B[0m\u001B[0;34m\u001B[0m\u001B[0;34m\u001B[0m\u001B[0m\n\u001B[1;32m  17647\u001B[0m         \u001B[0;34mr\"\"\"delta(OneAssetOption self) -> Real\"\"\"\u001B[0m\u001B[0;34m\u001B[0m\u001B[0;34m\u001B[0m\u001B[0m\n\u001B[0;32m> 17648\u001B[0;31m         \u001B[0;32mreturn\u001B[0m \u001B[0m_QuantLib\u001B[0m\u001B[0;34m.\u001B[0m\u001B[0mOneAssetOption_delta\u001B[0m\u001B[0;34m(\u001B[0m\u001B[0mself\u001B[0m\u001B[0;34m)\u001B[0m\u001B[0;34m\u001B[0m\u001B[0;34m\u001B[0m\u001B[0m\n\u001B[0m",
      "\u001B[0;31mRuntimeError\u001B[0m: delta not provided"
     ]
    }
   ],
   "execution_count": 18
  },
  {
   "metadata": {},
   "cell_type": "markdown",
   "source": "# heston",
   "id": "6a02f6b462050dfa"
  },
  {
   "metadata": {
    "ExecuteTime": {
     "end_time": "2025-05-22T08:48:18.194622Z",
     "start_time": "2025-05-22T08:48:17.988743Z"
    }
   },
   "cell_type": "code",
   "source": "stock_1.using_Heston_model(v0=0.005, kappa=0.8, theta=0.008, rho=0.2, sigma=0.1)",
   "id": "a578f5e5e728b519",
   "outputs": [
    {
     "name": "stdout",
     "output_type": "stream",
     "text": [
      "set new model: Heston model with yield rate: v0: 0.005, kappa: 0.8, theta: 0.008, rho: 0.2, sigma: 0.1, None\n"
     ]
    }
   ],
   "execution_count": 19
  },
  {
   "metadata": {
    "ExecuteTime": {
     "end_time": "2025-05-22T08:49:30.715721Z",
     "start_time": "2025-05-22T08:49:30.663867Z"
    }
   },
   "cell_type": "code",
   "source": [
    "option3 = QlVanillaOption(\n",
    "    payoff,\n",
    "    exercise,\n",
    "    QlStockPricer = stock_1,\n",
    "    engine = ql.AnalyticHestonEngine\n",
    ")"
   ],
   "id": "66f196ee8da3ec2c",
   "outputs": [],
   "execution_count": 20
  },
  {
   "metadata": {
    "ExecuteTime": {
     "end_time": "2025-05-22T08:49:44.016460Z",
     "start_time": "2025-05-22T08:49:43.957744Z"
    }
   },
   "cell_type": "code",
   "source": "option3.NPV()",
   "id": "7eb29bf195fcde0a",
   "outputs": [
    {
     "data": {
      "text/plain": [
       "1.0065728067960784"
      ]
     },
     "execution_count": 21,
     "metadata": {},
     "output_type": "execute_result"
    }
   ],
   "execution_count": 21
  },
  {
   "metadata": {
    "ExecuteTime": {
     "end_time": "2025-05-22T09:00:02.968349Z",
     "start_time": "2025-05-22T09:00:02.767761Z"
    }
   },
   "cell_type": "code",
   "source": [
    "option3 = QlVanillaOption(\n",
    "    payoff,\n",
    "    exercise,\n",
    "    QlStockPricer = stock_1,\n",
    "    engine = ql.MCEuropeanHestonEngine,\n",
    "    traits = \"pseudorandom\", # could use \"lowdiscrepancy\"\n",
    "    timeSteps = steps,\n",
    "    requiredSamples = 10000,\n",
    ")"
   ],
   "id": "a703de08ed7d7b87",
   "outputs": [
    {
     "ename": "TypeError",
     "evalue": "in method 'new_MCPREuropeanHestonEngine', argument 1 of type 'ext::shared_ptr< HestonProcess > const &'",
     "output_type": "error",
     "traceback": [
      "\u001B[0;31m---------------------------------------------------------------------------\u001B[0m",
      "\u001B[0;31mTypeError\u001B[0m                                 Traceback (most recent call last)",
      "\u001B[0;32m/var/folders/v_/g8cn51c96_l31y5zbwlvt2j00000gp/T/ipykernel_14453/1624537157.py\u001B[0m in \u001B[0;36m?\u001B[0;34m()\u001B[0m\n\u001B[0;32m----> 1\u001B[0;31m option3 = QlVanillaOption(\n\u001B[0m\u001B[1;32m      2\u001B[0m     \u001B[0mpayoff\u001B[0m\u001B[0;34m,\u001B[0m\u001B[0;34m\u001B[0m\u001B[0;34m\u001B[0m\u001B[0m\n\u001B[1;32m      3\u001B[0m     \u001B[0mexercise\u001B[0m\u001B[0;34m,\u001B[0m\u001B[0;34m\u001B[0m\u001B[0;34m\u001B[0m\u001B[0m\n\u001B[1;32m      4\u001B[0m     \u001B[0mQlStockPricer\u001B[0m \u001B[0;34m=\u001B[0m \u001B[0mstock_1\u001B[0m\u001B[0;34m,\u001B[0m\u001B[0;34m\u001B[0m\u001B[0;34m\u001B[0m\u001B[0m\n",
      "\u001B[0;32m~/PycharmProjects/Option/src/QlVanillaOption.py\u001B[0m in \u001B[0;36m?\u001B[0;34m(self, payoff, exercise, QlStockPricer, engine, **engine_params)\u001B[0m\n\u001B[1;32m     23\u001B[0m         \u001B[0mself\u001B[0m\u001B[0;34m.\u001B[0m\u001B[0mStockPricer\u001B[0m \u001B[0;34m=\u001B[0m \u001B[0mQlStockPricer\u001B[0m\u001B[0;34m\u001B[0m\u001B[0;34m\u001B[0m\u001B[0m\n\u001B[1;32m     24\u001B[0m         \u001B[0mself\u001B[0m\u001B[0;34m.\u001B[0m\u001B[0mtoday\u001B[0m \u001B[0;34m=\u001B[0m \u001B[0mQlStockPricer\u001B[0m\u001B[0;34m.\u001B[0m\u001B[0mtoday\u001B[0m\u001B[0;34m\u001B[0m\u001B[0;34m\u001B[0m\u001B[0m\n\u001B[1;32m     25\u001B[0m         \u001B[0mself\u001B[0m\u001B[0;34m.\u001B[0m\u001B[0mstock_price\u001B[0m \u001B[0;34m=\u001B[0m \u001B[0mQlStockPricer\u001B[0m\u001B[0;34m.\u001B[0m\u001B[0mstock_price\u001B[0m\u001B[0;34m\u001B[0m\u001B[0;34m\u001B[0m\u001B[0m\n\u001B[1;32m     26\u001B[0m         \u001B[0;32mif\u001B[0m \u001B[0mengine\u001B[0m \u001B[0;32mis\u001B[0m \u001B[0;32mnot\u001B[0m \u001B[0;32mNone\u001B[0m\u001B[0;34m:\u001B[0m\u001B[0;34m\u001B[0m\u001B[0;34m\u001B[0m\u001B[0m\n\u001B[0;32m---> 27\u001B[0;31m             \u001B[0mself\u001B[0m\u001B[0;34m.\u001B[0m\u001B[0mset_engine\u001B[0m\u001B[0;34m(\u001B[0m\u001B[0mengine\u001B[0m\u001B[0;34m,\u001B[0m \u001B[0;34m**\u001B[0m\u001B[0mengine_params\u001B[0m\u001B[0;34m)\u001B[0m\u001B[0;34m\u001B[0m\u001B[0;34m\u001B[0m\u001B[0m\n\u001B[0m",
      "\u001B[0;32m~/PycharmProjects/Option/src/QlVanillaOption.py\u001B[0m in \u001B[0;36m?\u001B[0;34m(self, engine, **params)\u001B[0m\n\u001B[1;32m     35\u001B[0m         \u001B[0;32mif\u001B[0m \u001B[0misinstance\u001B[0m\u001B[0;34m(\u001B[0m\u001B[0mengine\u001B[0m\u001B[0;34m,\u001B[0m \u001B[0mtypes\u001B[0m\u001B[0;34m.\u001B[0m\u001B[0mFunctionType\u001B[0m\u001B[0;34m)\u001B[0m \u001B[0;32mor\u001B[0m \u001B[0misinstance\u001B[0m\u001B[0;34m(\u001B[0m\u001B[0mengine\u001B[0m\u001B[0;34m,\u001B[0m \u001B[0mtype\u001B[0m\u001B[0;34m)\u001B[0m\u001B[0;34m:\u001B[0m  \u001B[0;31m# 传入引擎类而非实例\u001B[0m\u001B[0;34m\u001B[0m\u001B[0;34m\u001B[0m\u001B[0m\n\u001B[1;32m     36\u001B[0m             \u001B[0mprocess\u001B[0m \u001B[0;34m=\u001B[0m \u001B[0mself\u001B[0m\u001B[0;34m.\u001B[0m\u001B[0mStockPricer\u001B[0m\u001B[0;34m.\u001B[0m\u001B[0mget_process\u001B[0m\u001B[0;34m(\u001B[0m\u001B[0;34m)\u001B[0m\u001B[0;34m\u001B[0m\u001B[0;34m\u001B[0m\u001B[0m\n\u001B[1;32m     37\u001B[0m             \u001B[0;32mif\u001B[0m \u001B[0mtype\u001B[0m\u001B[0;34m(\u001B[0m\u001B[0mprocess\u001B[0m\u001B[0;34m)\u001B[0m \u001B[0;34m==\u001B[0m \u001B[0mql\u001B[0m\u001B[0;34m.\u001B[0m\u001B[0mHestonProcess\u001B[0m\u001B[0;34m:\u001B[0m\u001B[0;34m\u001B[0m\u001B[0;34m\u001B[0m\u001B[0m\n\u001B[1;32m     38\u001B[0m                 \u001B[0mhestonModel\u001B[0m \u001B[0;34m=\u001B[0m \u001B[0mql\u001B[0m\u001B[0;34m.\u001B[0m\u001B[0mHestonModel\u001B[0m\u001B[0;34m(\u001B[0m\u001B[0mprocess\u001B[0m\u001B[0;34m)\u001B[0m\u001B[0;34m\u001B[0m\u001B[0;34m\u001B[0m\u001B[0m\n\u001B[0;32m---> 39\u001B[0;31m                 \u001B[0mself\u001B[0m\u001B[0;34m.\u001B[0m\u001B[0m_engine\u001B[0m \u001B[0;34m=\u001B[0m \u001B[0mengine\u001B[0m\u001B[0;34m(\u001B[0m\u001B[0mhestonModel\u001B[0m\u001B[0;34m,\u001B[0m \u001B[0;34m**\u001B[0m\u001B[0mparams\u001B[0m\u001B[0;34m)\u001B[0m\u001B[0;34m\u001B[0m\u001B[0;34m\u001B[0m\u001B[0m\n\u001B[0m\u001B[1;32m     40\u001B[0m             \u001B[0;32melse\u001B[0m\u001B[0;34m:\u001B[0m\u001B[0;34m\u001B[0m\u001B[0;34m\u001B[0m\u001B[0m\n\u001B[1;32m     41\u001B[0m                 \u001B[0mself\u001B[0m\u001B[0;34m.\u001B[0m\u001B[0m_engine\u001B[0m \u001B[0;34m=\u001B[0m \u001B[0mengine\u001B[0m\u001B[0;34m(\u001B[0m\u001B[0mprocess\u001B[0m\u001B[0;34m,\u001B[0m \u001B[0;34m**\u001B[0m\u001B[0mparams\u001B[0m\u001B[0;34m)\u001B[0m\u001B[0;34m\u001B[0m\u001B[0;34m\u001B[0m\u001B[0m\n\u001B[1;32m     42\u001B[0m         \u001B[0;32melse\u001B[0m\u001B[0;34m:\u001B[0m  \u001B[0;31m# 直接传入引擎实例\u001B[0m\u001B[0;34m\u001B[0m\u001B[0;34m\u001B[0m\u001B[0m\n",
      "\u001B[0;32m/opt/anaconda3/lib/python3.12/site-packages/QuantLib/QuantLib.py\u001B[0m in \u001B[0;36m?\u001B[0;34m(process, traits, timeSteps, timeStepsPerYear, antitheticVariate, requiredSamples, requiredTolerance, maxSamples, seed)\u001B[0m\n\u001B[1;32m  18786\u001B[0m     \u001B[0;32melif\u001B[0m \u001B[0mtraits\u001B[0m \u001B[0;34m==\u001B[0m \u001B[0;34m\"ld\"\u001B[0m \u001B[0;32mor\u001B[0m \u001B[0mtraits\u001B[0m \u001B[0;34m==\u001B[0m \u001B[0;34m\"lowdiscrepancy\"\u001B[0m\u001B[0;34m:\u001B[0m\u001B[0;34m\u001B[0m\u001B[0;34m\u001B[0m\u001B[0m\n\u001B[1;32m  18787\u001B[0m         \u001B[0mcls\u001B[0m \u001B[0;34m=\u001B[0m \u001B[0mMCLDEuropeanHestonEngine\u001B[0m\u001B[0;34m\u001B[0m\u001B[0;34m\u001B[0m\u001B[0m\n\u001B[1;32m  18788\u001B[0m     \u001B[0;32melse\u001B[0m\u001B[0;34m:\u001B[0m\u001B[0;34m\u001B[0m\u001B[0;34m\u001B[0m\u001B[0m\n\u001B[1;32m  18789\u001B[0m         \u001B[0;32mraise\u001B[0m \u001B[0mRuntimeError\u001B[0m\u001B[0;34m(\u001B[0m\u001B[0;34m\"unknown MC traits: %s\"\u001B[0m \u001B[0;34m%\u001B[0m \u001B[0mtraits\u001B[0m\u001B[0;34m)\u001B[0m\u001B[0;34m;\u001B[0m\u001B[0;34m\u001B[0m\u001B[0;34m\u001B[0m\u001B[0m\n\u001B[0;32m> 18790\u001B[0;31m     return cls(process,\n\u001B[0m\u001B[1;32m  18791\u001B[0m                \u001B[0mtimeSteps\u001B[0m\u001B[0;34m,\u001B[0m\u001B[0;34m\u001B[0m\u001B[0;34m\u001B[0m\u001B[0m\n\u001B[1;32m  18792\u001B[0m                \u001B[0mtimeStepsPerYear\u001B[0m\u001B[0;34m,\u001B[0m\u001B[0;34m\u001B[0m\u001B[0;34m\u001B[0m\u001B[0m\n\u001B[1;32m  18793\u001B[0m                \u001B[0mantitheticVariate\u001B[0m\u001B[0;34m,\u001B[0m\u001B[0;34m\u001B[0m\u001B[0;34m\u001B[0m\u001B[0m\n",
      "\u001B[0;32m/opt/anaconda3/lib/python3.12/site-packages/QuantLib/QuantLib.py\u001B[0m in \u001B[0;36m?\u001B[0;34m(self, *args, **kwargs)\u001B[0m\n\u001B[1;32m  18753\u001B[0m     \u001B[0;32mdef\u001B[0m \u001B[0m__init__\u001B[0m\u001B[0;34m(\u001B[0m\u001B[0mself\u001B[0m\u001B[0;34m,\u001B[0m \u001B[0;34m*\u001B[0m\u001B[0margs\u001B[0m\u001B[0;34m,\u001B[0m \u001B[0;34m**\u001B[0m\u001B[0mkwargs\u001B[0m\u001B[0;34m)\u001B[0m\u001B[0;34m:\u001B[0m\u001B[0;34m\u001B[0m\u001B[0;34m\u001B[0m\u001B[0m\n\u001B[1;32m  18754\u001B[0m         \u001B[0;34mr\"\"\"__init__(MCPREuropeanHestonEngine self, ext::shared_ptr< HestonProcess > const & process, intOrNull timeSteps=Null< Size >(), intOrNull timeStepsPerYear=Null< Size >(), bool antitheticVariate=False, intOrNull requiredSamples=Null< Size >(), doubleOrNull requiredTolerance=Null< Real >(), intOrNull maxSamples=Null< Size >(), BigInteger seed=0) -> MCPREuropeanHestonEngine\"\"\"\u001B[0m\u001B[0;34m\u001B[0m\u001B[0;34m\u001B[0m\u001B[0m\n\u001B[0;32m> 18755\u001B[0;31m         \u001B[0m_QuantLib\u001B[0m\u001B[0;34m.\u001B[0m\u001B[0mMCPREuropeanHestonEngine_swiginit\u001B[0m\u001B[0;34m(\u001B[0m\u001B[0mself\u001B[0m\u001B[0;34m,\u001B[0m \u001B[0m_QuantLib\u001B[0m\u001B[0;34m.\u001B[0m\u001B[0mnew_MCPREuropeanHestonEngine\u001B[0m\u001B[0;34m(\u001B[0m\u001B[0;34m*\u001B[0m\u001B[0margs\u001B[0m\u001B[0;34m,\u001B[0m \u001B[0;34m**\u001B[0m\u001B[0mkwargs\u001B[0m\u001B[0;34m)\u001B[0m\u001B[0;34m)\u001B[0m\u001B[0;34m\u001B[0m\u001B[0;34m\u001B[0m\u001B[0m\n\u001B[0m",
      "\u001B[0;31mTypeError\u001B[0m: in method 'new_MCPREuropeanHestonEngine', argument 1 of type 'ext::shared_ptr< HestonProcess > const &'"
     ]
    }
   ],
   "execution_count": 22
  },
  {
   "metadata": {},
   "cell_type": "code",
   "outputs": [],
   "execution_count": null,
   "source": "",
   "id": "508f7ffef49c7df0"
  }
 ],
 "metadata": {
  "kernelspec": {
   "display_name": "Python 3",
   "language": "python",
   "name": "python3"
  },
  "language_info": {
   "codemirror_mode": {
    "name": "ipython",
    "version": 2
   },
   "file_extension": ".py",
   "mimetype": "text/x-python",
   "name": "python",
   "nbconvert_exporter": "python",
   "pygments_lexer": "ipython2",
   "version": "2.7.6"
  }
 },
 "nbformat": 4,
 "nbformat_minor": 5
}
