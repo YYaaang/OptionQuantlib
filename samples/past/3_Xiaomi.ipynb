{
 "cells": [
  {
   "cell_type": "code",
   "id": "initial_id",
   "metadata": {
    "collapsed": true,
    "ExecuteTime": {
     "end_time": "2025-05-26T05:35:13.338408Z",
     "start_time": "2025-05-26T05:35:12.910950Z"
    }
   },
   "source": [
    "import QuantLib as ql\n",
    "from src.QlMarket import QlMarket\n",
    "from src.QlStockPricer import QlStockPricer\n",
    "from src.QlVanillaOption import QlVanillaOption"
   ],
   "outputs": [],
   "execution_count": 1
  },
  {
   "metadata": {
    "ExecuteTime": {
     "end_time": "2025-05-26T05:35:13.355297Z",
     "start_time": "2025-05-26T05:35:13.348956Z"
    }
   },
   "cell_type": "code",
   "source": [
    "today = ql.Date(26, 5, 2025)\n",
    "risk_free_rate = 0.02\n",
    "qlMarket = QlMarket(init_date=today, init_risk_free_rate=risk_free_rate)"
   ],
   "id": "834fd264f65f2db9",
   "outputs": [],
   "execution_count": 2
  },
  {
   "metadata": {},
   "cell_type": "markdown",
   "source": [
    "\n",
    "## BS model for Xiaomi\n",
    "### 26 - 05 - 2025"
   ],
   "id": "c1fb350aaacf5a0e"
  },
  {
   "metadata": {
    "ExecuteTime": {
     "end_time": "2025-05-26T05:35:13.744917Z",
     "start_time": "2025-05-26T05:35:13.740854Z"
    }
   },
   "cell_type": "code",
   "source": [
    "# open\n",
    "stock_open_price = 52.6\n",
    "implied_vol = 0.8112\n",
    "\n",
    "strike_price = 52.5\n",
    "end_date = ql.Date(27, 6, 2025)"
   ],
   "id": "57c9b098b30f8ed7",
   "outputs": [],
   "execution_count": 3
  },
  {
   "metadata": {
    "ExecuteTime": {
     "end_time": "2025-05-26T05:35:15.122932Z",
     "start_time": "2025-05-26T05:35:15.116770Z"
    }
   },
   "cell_type": "code",
   "source": [
    "# \n",
    "xiao_mi = QlStockPricer(QlMarket=qlMarket, init_stock_price=stock_open_price)\n",
    "xiao_mi.using_Black_Scholes_Merton_model(sigma=implied_vol)"
   ],
   "id": "1f46a83d4c247813",
   "outputs": [
    {
     "name": "stdout",
     "output_type": "stream",
     "text": [
      "Next step, you need set model type\n",
      "set new model: Black Scholes Merton model with sigma: 0.8112, yield rate: None\n"
     ]
    }
   ],
   "execution_count": 4
  },
  {
   "metadata": {
    "ExecuteTime": {
     "end_time": "2025-05-26T05:35:16.064100Z",
     "start_time": "2025-05-26T05:35:16.058608Z"
    }
   },
   "cell_type": "code",
   "source": [
    "xiao_mi_option = QlVanillaOption.init_from_price_and_date(\n",
    "    strike_price=strike_price,\n",
    "    end_date=end_date,\n",
    "    QlStockPricer = xiao_mi,\n",
    "    option_type=ql.Option.Call,\n",
    "    engine = ql.AnalyticEuropeanEngine\n",
    ")"
   ],
   "id": "ef940f449a4895f",
   "outputs": [],
   "execution_count": 5
  },
  {
   "metadata": {
    "ExecuteTime": {
     "end_time": "2025-05-26T05:35:17.143207Z",
     "start_time": "2025-05-26T05:35:17.127353Z"
    }
   },
   "cell_type": "code",
   "source": "xiao_mi_option.NPV()",
   "id": "101ac49699633e09",
   "outputs": [
    {
     "data": {
      "text/plain": [
       "5.330174616779972"
      ]
     },
     "execution_count": 6,
     "metadata": {},
     "output_type": "execute_result"
    }
   ],
   "execution_count": 6
  },
  {
   "metadata": {
    "ExecuteTime": {
     "end_time": "2025-05-26T05:35:18.084916Z",
     "start_time": "2025-05-26T05:35:18.076500Z"
    }
   },
   "cell_type": "code",
   "source": "xiao_mi_option.delta()",
   "id": "d45b8aa0564ff006",
   "outputs": [
    {
     "data": {
      "text/plain": [
       "0.5558204891305163"
      ]
     },
     "execution_count": 7,
     "metadata": {},
     "output_type": "execute_result"
    }
   ],
   "execution_count": 7
  },
  {
   "metadata": {},
   "cell_type": "markdown",
   "source": "## Prices changes",
   "id": "22f0ca42957b7870"
  },
  {
   "metadata": {
    "ExecuteTime": {
     "end_time": "2025-05-26T05:35:30.763950Z",
     "start_time": "2025-05-26T05:35:30.756868Z"
    }
   },
   "cell_type": "code",
   "source": [
    "xiao_mi.stock_price.setValue(51.7)\n",
    "xiao_mi.sigma.setValue(0.5031)\n",
    "qlMarket.risk_free_rate.setValue(0.01)\n",
    "print(f'Xiao mi: \\n'\n",
    "      f'volatility: {xiao_mi.sigma.value()}\\n'\n",
    "      f'current stock price: {xiao_mi.stock_price.value()}\\n'\n",
    "      f'option price: {xiao_mi_option.NPV():.2f}\\n'\n",
    "      f'delta: {xiao_mi_option.delta():.2f}')"
   ],
   "id": "41c9b04b49c66c7e",
   "outputs": [
    {
     "name": "stdout",
     "output_type": "stream",
     "text": [
      "Xiao mi: \n",
      "volatility: 0.5031\n",
      "current stock price: 51.7\n",
      "option price: 4.82\n",
      "delta: 0.53\n"
     ]
    }
   ],
   "execution_count": 8
  },
  {
   "metadata": {},
   "cell_type": "code",
   "source": [
    "xiao_mi.stock_price.setValue(53)\n",
    "xiao_mi.sigma.setValue(0.8112)\n",
    "print(f'Xiao mi: \\n'\n",
    "      f'volatility: {xiao_mi.sigma.value()}\\n'\n",
    "      f'current stock price: {xiao_mi.stock_price.value()}\\n'\n",
    "      f'option strick price\" {xiao_mi_option.payoff}'\n",
    "      f'option price: {xiao_mi_option.NPV():.2f}\\n'\n",
    "      f'delta: {xiao_mi_option.delta():.2f}')"
   ],
   "id": "d0b504d7f95ac7cd",
   "outputs": [],
   "execution_count": null
  },
  {
   "metadata": {},
   "cell_type": "code",
   "source": "payoff.strike()",
   "id": "1ef24f67ef6f5d49",
   "outputs": [],
   "execution_count": null
  },
  {
   "metadata": {},
   "cell_type": "code",
   "source": "",
   "id": "2d1a2eef3469ac7e",
   "outputs": [],
   "execution_count": null
  },
  {
   "metadata": {},
   "cell_type": "code",
   "source": "",
   "id": "eb723eca5e5194ac",
   "outputs": [],
   "execution_count": null
  }
 ],
 "metadata": {
  "kernelspec": {
   "display_name": "Python 3",
   "language": "python",
   "name": "python3"
  },
  "language_info": {
   "codemirror_mode": {
    "name": "ipython",
    "version": 2
   },
   "file_extension": ".py",
   "mimetype": "text/x-python",
   "name": "python",
   "nbconvert_exporter": "python",
   "pygments_lexer": "ipython2",
   "version": "2.7.6"
  }
 },
 "nbformat": 4,
 "nbformat_minor": 5
}
