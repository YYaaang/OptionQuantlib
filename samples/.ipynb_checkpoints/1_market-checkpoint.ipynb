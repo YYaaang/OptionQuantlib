{
 "cells": [
  {
   "cell_type": "code",
   "id": "initial_id",
   "metadata": {
    "collapsed": true,
    "ExecuteTime": {
     "end_time": "2025-05-21T09:20:18.009118Z",
     "start_time": "2025-05-21T09:20:18.002568Z"
    }
   },
   "source": [
    "import QuantLib as ql\n",
    "from src.QlMarket import QlMarket"
   ],
   "outputs": [],
   "execution_count": 11
  },
  {
   "metadata": {
    "ExecuteTime": {
     "end_time": "2025-05-21T09:20:18.042869Z",
     "start_time": "2025-05-21T09:20:18.033835Z"
    }
   },
   "cell_type": "code",
   "source": [
    "start_date = ql.Date(1,1,2023)\n",
    "start_date"
   ],
   "id": "7c8729ba0a23451a",
   "outputs": [
    {
     "data": {
      "text/plain": [
       "Date(1,1,2023)"
      ]
     },
     "execution_count": 12,
     "metadata": {},
     "output_type": "execute_result"
    }
   ],
   "execution_count": 12
  },
  {
   "metadata": {},
   "cell_type": "markdown",
   "source": "# 香港市场",
   "id": "295dd7a4a7a1424c"
  },
  {
   "metadata": {
    "ExecuteTime": {
     "end_time": "2025-05-21T09:20:18.135525Z",
     "start_time": "2025-05-21T09:20:18.129539Z"
    }
   },
   "cell_type": "code",
   "source": [
    "market = QlMarket(\n",
    "    calendar='HKEx',\n",
    "    init_date=start_date,\n",
    "    init_risk_free_rate=0.05,\n",
    "    qlDayCounter = ql.Business252\n",
    ")\n"
   ],
   "id": "afc8e0c5f62fe2a6",
   "outputs": [],
   "execution_count": 13
  },
  {
   "metadata": {
    "ExecuteTime": {
     "end_time": "2025-05-21T09:20:18.165423Z",
     "start_time": "2025-05-21T09:20:18.158631Z"
    }
   },
   "cell_type": "code",
   "source": [
    "# 实际的起始日期\n",
    "real_start_date = market.init_date\n",
    "print(market.init_date)\n",
    "print(market.risk_free_rate.value())"
   ],
   "id": "ebf146ca7db4174e",
   "outputs": [
    {
     "name": "stdout",
     "output_type": "stream",
     "text": [
      "January 3rd, 2023\n",
      "0.05\n"
     ]
    }
   ],
   "execution_count": 14
  },
  {
   "metadata": {
    "ExecuteTime": {
     "end_time": "2025-05-21T09:20:18.221169Z",
     "start_time": "2025-05-21T09:20:18.213039Z"
    }
   },
   "cell_type": "code",
   "source": [
    "market.set_risk_free_rate(0.056)\n",
    "print(market.risk_free_rate.value())"
   ],
   "id": "cb0f845681399297",
   "outputs": [
    {
     "name": "stdout",
     "output_type": "stream",
     "text": [
      "0.056\n"
     ]
    }
   ],
   "execution_count": 15
  },
  {
   "metadata": {
    "ExecuteTime": {
     "end_time": "2025-05-21T09:20:18.253194Z",
     "start_time": "2025-05-21T09:20:18.247924Z"
    }
   },
   "cell_type": "code",
   "source": [
    "# 查看5个月后的日期\n",
    "new_start_date = market.cal_date_advance(times=5, time_unit='months')\n",
    "print(real_start_date, new_start_date)"
   ],
   "id": "14d0f7c9e9113845",
   "outputs": [
    {
     "name": "stdout",
     "output_type": "stream",
     "text": [
      "January 3rd, 2023 June 5th, 2023\n"
     ]
    }
   ],
   "execution_count": 16
  },
  {
   "metadata": {
    "ExecuteTime": {
     "end_time": "2025-05-21T09:21:26.748275Z",
     "start_time": "2025-05-21T09:21:26.733408Z"
    }
   },
   "cell_type": "code",
   "source": [
    "market.set_today(new_start_date)\n",
    "print(market.today)"
   ],
   "id": "457f93765c4f38be",
   "outputs": [
    {
     "name": "stdout",
     "output_type": "stream",
     "text": [
      "June 5th, 2023\n"
     ]
    }
   ],
   "execution_count": 17
  },
  {
   "metadata": {
    "ExecuteTime": {
     "end_time": "2025-05-21T09:24:13.653338Z",
     "start_time": "2025-05-21T09:24:13.647644Z"
    }
   },
   "cell_type": "code",
   "source": [
    "one_year_later_date = market.cal_date_advance(init_date=market.today, times=1, time_unit='years')\n",
    "print(one_year_later_date)"
   ],
   "id": "31aa95d42a7e71f1",
   "outputs": [
    {
     "name": "stdout",
     "output_type": "stream",
     "text": [
      "June 5th, 2024\n"
     ]
    }
   ],
   "execution_count": 22
  },
  {
   "metadata": {
    "ExecuteTime": {
     "end_time": "2025-05-21T09:22:05.966875Z",
     "start_time": "2025-05-21T09:22:05.962665Z"
    }
   },
   "cell_type": "code",
   "source": "ql_calerder = market.calendar",
   "id": "629077c1e0b00125",
   "outputs": [],
   "execution_count": 20
  },
  {
   "metadata": {
    "ExecuteTime": {
     "end_time": "2025-05-21T09:25:06.650381Z",
     "start_time": "2025-05-21T09:25:06.644708Z"
    }
   },
   "cell_type": "code",
   "source": [
    "business_days = ql_calerder.businessDaysBetween(market.today, one_year_later_date)\n",
    "print(business_days)"
   ],
   "id": "c173087d8f0e7a6b",
   "outputs": [
    {
     "name": "stdout",
     "output_type": "stream",
     "text": [
      "249\n"
     ]
    }
   ],
   "execution_count": 25
  },
  {
   "metadata": {
    "ExecuteTime": {
     "end_time": "2025-05-21T09:25:46.113835Z",
     "start_time": "2025-05-21T09:25:46.104603Z"
    }
   },
   "cell_type": "code",
   "source": "ql_day_counter = market.day_counter",
   "id": "bf46dfd7f46f172a",
   "outputs": [],
   "execution_count": 26
  },
  {
   "metadata": {
    "ExecuteTime": {
     "end_time": "2025-05-21T09:26:14.267403Z",
     "start_time": "2025-05-21T09:26:14.260622Z"
    }
   },
   "cell_type": "code",
   "source": [
    "day_counts = ql_day_counter.dayCount(market.today, one_year_later_date)\n",
    "print(day_counts)"
   ],
   "id": "bf519ee45817429d",
   "outputs": [
    {
     "name": "stdout",
     "output_type": "stream",
     "text": [
      "249\n"
     ]
    }
   ],
   "execution_count": 27
  },
  {
   "metadata": {
    "ExecuteTime": {
     "end_time": "2025-05-21T09:26:58.531266Z",
     "start_time": "2025-05-21T09:26:58.495186Z"
    }
   },
   "cell_type": "code",
   "source": [
    "day_friction = ql_day_counter.yearFraction(market.today, one_year_later_date)\n",
    "print(day_friction)"
   ],
   "id": "3e37dcff083cfa61",
   "outputs": [
    {
     "name": "stdout",
     "output_type": "stream",
     "text": [
      "0.9880952380952381\n"
     ]
    }
   ],
   "execution_count": 29
  },
  {
   "metadata": {},
   "cell_type": "markdown",
   "source": "## day_friction is not 1, this is because ql.Business252 use 252 trading days as 1 year.",
   "id": "be56652b29145d95"
  },
  {
   "metadata": {},
   "cell_type": "code",
   "outputs": [],
   "execution_count": null,
   "source": "",
   "id": "86cf875fa324b44b"
  }
 ],
 "metadata": {
  "kernelspec": {
   "display_name": "Python 3",
   "language": "python",
   "name": "python3"
  },
  "language_info": {
   "codemirror_mode": {
    "name": "ipython",
    "version": 2
   },
   "file_extension": ".py",
   "mimetype": "text/x-python",
   "name": "python",
   "nbconvert_exporter": "python",
   "pygments_lexer": "ipython2",
   "version": "2.7.6"
  }
 },
 "nbformat": 4,
 "nbformat_minor": 5
}
