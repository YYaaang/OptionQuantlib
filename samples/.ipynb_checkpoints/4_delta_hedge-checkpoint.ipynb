{
 "cells": [
  {
   "cell_type": "code",
   "execution_count": null,
   "id": "initial_id",
   "metadata": {
    "collapsed": true
   },
   "outputs": [],
   "source": [
    "import sys\n",
    "import os\n",
    "current_path = os.getcwd()  # 获取当前工作目录\n",
    "print(\"当前路径:\", current_path)\n",
    "current_path = current_path.replace('/samples', '')\n",
    "print(sys.path)  # 显示所有模块搜索路径\n",
    "sys.path.append(current_path)  # 添加自定义路径\n",
    "print(sys.path)  # 显示所有模块搜索路径\n"
   ]
  },
  {
   "metadata": {},
   "cell_type": "code",
   "outputs": [],
   "execution_count": null,
   "source": [
    "import numpy as np\n",
    "import QuantLib as ql\n",
    "\n",
    "from src.QlCalendar import QlCalendar\n",
    "from src.QlStocks import QlStocks\n",
    "from src.QlVanillaOptions import QlVanillaOptions\n"
   ],
   "id": "49ae7a1fc12c5955"
  },
  {
   "metadata": {},
   "cell_type": "code",
   "outputs": [],
   "execution_count": null,
   "source": [
    "S0 = 100\n",
    "strike = 100\n",
    "r = 0.03\n",
    "T=1\n",
    "paths = 1000\n",
    "steps = 252"
   ],
   "id": "8482ba7755c232d4"
  },
  {
   "metadata": {},
   "cell_type": "code",
   "outputs": [],
   "execution_count": null,
   "source": [
    "start_date = ql.Date(1, 1, 2023)\n",
    "ql_calendar = QlCalendar(init_date=start_date, init_risk_free_rate=r)\n",
    "end_date = ql_calendar.cal_date_advance(times=T, time_unit='years')"
   ],
   "id": "cd140f87ac585617"
  },
  {
   "metadata": {},
   "cell_type": "code",
   "outputs": [],
   "execution_count": null,
   "source": [
    "stock_1 = QlStocks(ql_calendar)\n",
    "stock_1.black_scholes([S0] * paths, sigma=0.2)"
   ],
   "id": "60e0148db840742e"
  },
  {
   "metadata": {},
   "cell_type": "code",
   "outputs": [],
   "execution_count": null,
   "source": [
    "options = QlVanillaOptions(stock_1.df)\n",
    "options.european_option(\n",
    "    'call',\n",
    "    strike,\n",
    "    ql.Date(1, 1, 2024)\n",
    ")"
   ],
   "id": "6792759f1f618879"
  },
  {
   "metadata": {},
   "cell_type": "code",
   "outputs": [],
   "execution_count": null,
   "source": "# # test if fulfills put-call parity\n",
   "id": "b8fc8ce564859a7"
  },
  {
   "metadata": {},
   "cell_type": "code",
   "outputs": [],
   "execution_count": null,
   "source": [
    "# print(options.NPV() - option_put.NPV() - (S0 - strike * np.exp(-r * T)))\n",
    "\n",
    "npv = options.NPV()\n",
    "delta = options.delta()\n"
   ],
   "id": "a29d49d53318d02f"
  },
  {
   "metadata": {},
   "cell_type": "code",
   "outputs": [],
   "execution_count": null,
   "source": "path_list = stock_1.create_stock_path_generator(steps, paths=paths)\n",
   "id": "2cf882dd4de1c45"
  },
  {
   "metadata": {},
   "cell_type": "code",
   "outputs": [],
   "execution_count": null,
   "source": [
    "# 动态对冲模拟\n",
    "# 初始化数组\n",
    "dt = T / steps\n",
    "time_points = np.arange(0, T + dt, dt)\n",
    "portfolio = np.zeros((steps+1, 1000))\n",
    "cash = np.zeros((steps+1, 1000))\n",
    "option_values = np.zeros((steps+1, 1000))\n",
    "deltas = np.zeros((steps+1, 1000))"
   ],
   "id": "f7fbbc306d9b6634"
  },
  {
   "metadata": {},
   "cell_type": "code",
   "outputs": [],
   "execution_count": null,
   "source": [
    "# 初始计算\n",
    "option_values[0] = options.NPV()['NPV']\n",
    "deltas[0] = options.delta()['delta']\n",
    "cash[0] = option_values[0] - deltas[0] * S0\n",
    "portfolio[0] = -option_values[0] + deltas[0] * S0\n"
   ],
   "id": "efddd2cbdf95bcdb"
  },
  {
   "metadata": {},
   "cell_type": "code",
   "outputs": [],
   "execution_count": null,
   "source": [
    "all_trade_dates = [ql_calendar.today]\n",
    "for t in range(1, steps):\n",
    "    # 设置价格\n",
    "    ql_calendar.to_next_trading_date()\n",
    "    print(ql_calendar.today)\n",
    "    all_trade_dates.append(ql_calendar.today)\n",
    "    stock_1.set_prices([p[t] for p in path_list])\n",
    "    #\n",
    "    option_values[t] = options.NPV()['NPV']\n",
    "    deltas[t] = options.delta()['delta']\n",
    "    cash[t] = cash[t - 1] * np.exp(r * dt)\n",
    "    portfolio[t] = -option_values[t] + deltas[t] * S0\n"
   ],
   "id": "3a645ecff5cf7fee"
  },
  {
   "metadata": {},
   "cell_type": "code",
   "outputs": [],
   "execution_count": null,
   "source": [
    "# 计算PnL\n",
    "pnl = portfolio + cash"
   ],
   "id": "d93c00b9c3a1aac2"
  },
  {
   "metadata": {},
   "cell_type": "code",
   "outputs": [],
   "execution_count": null,
   "source": [
    "\n",
    "# 可视化结果\n",
    "import matplotlib.pyplot as plt\n",
    "\n",
    "plt.figure(figsize=(12, 8))\n",
    "\n",
    "# 股价路径\n",
    "plt.subplot(2, 2, 1)\n",
    "plt.plot(time_points, np.array(path_list).T)\n",
    "plt.title('Stock Price Path')\n",
    "plt.xlabel('Time')\n",
    "plt.ylabel('Price')\n",
    "\n",
    "# 期权价值\n",
    "plt.subplot(2, 2, 2)\n",
    "plt.plot(time_points, option_values)\n",
    "plt.title('Option Value')\n",
    "plt.xlabel('Time')\n",
    "plt.ylabel('Value')\n",
    "\n",
    "# Delta变化\n",
    "plt.subplot(2, 2, 3)\n",
    "plt.plot(time_points, deltas)\n",
    "plt.title('Delta')\n",
    "plt.xlabel('Time')\n",
    "plt.ylabel('Delta')\n",
    "\n",
    "# PnL变化\n",
    "plt.subplot(2, 2, 4)\n",
    "plt.plot(time_points, pnl)\n",
    "plt.title('Portfolio PnL')\n",
    "plt.xlabel('Time')\n",
    "plt.ylabel('PnL')\n",
    "\n",
    "plt.tight_layout()\n",
    "plt.show()"
   ],
   "id": "78b19c2b0a4a5ac9"
  },
  {
   "metadata": {},
   "cell_type": "code",
   "outputs": [],
   "execution_count": null,
   "source": "print()\n",
   "id": "2c8c0e9f1e401319"
  }
 ],
 "metadata": {
  "kernelspec": {
   "display_name": "Python 3",
   "language": "python",
   "name": "python3"
  },
  "language_info": {
   "codemirror_mode": {
    "name": "ipython",
    "version": 2
   },
   "file_extension": ".py",
   "mimetype": "text/x-python",
   "name": "python",
   "nbconvert_exporter": "python",
   "pygments_lexer": "ipython2",
   "version": "2.7.6"
  }
 },
 "nbformat": 4,
 "nbformat_minor": 5
}
