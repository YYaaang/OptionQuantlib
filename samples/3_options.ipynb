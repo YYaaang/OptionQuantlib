{
 "cells": [
  {
   "cell_type": "code",
   "id": "25ec6df6-199f-4efe-a64f-8a72cdebbf0a",
   "metadata": {
    "ExecuteTime": {
     "start_time": "2025-06-05T07:52:48.384171Z"
    }
   },
   "source": [
    "import sys\n",
    "import os\n",
    "current_path = os.getcwd()  # 获取当前工作目录\n",
    "print(\"当前路径:\", current_path)\n",
    "current_path = current_path.replace('/samples', '')\n",
    "print(sys.path)  # 显示所有模块搜索路径\n",
    "sys.path.append(current_path)  # 添加自定义路径\n",
    "print(sys.path)  # 显示所有模块搜索路径"
   ],
   "outputs": [
    {
     "name": "stdout",
     "output_type": "stream",
     "text": [
      "当前路径: /Users/yang/PycharmProjects/Option/samples\n",
      "['/Users/yang/PycharmProjects/Option/samples', '/Users/yang/PycharmProjects/Option', '/opt/anaconda3/lib/python312.zip', '/opt/anaconda3/lib/python3.12', '/opt/anaconda3/lib/python3.12/lib-dynload', '', '/opt/anaconda3/lib/python3.12/site-packages', '/opt/anaconda3/lib/python3.12/site-packages/aeosa']\n",
      "['/Users/yang/PycharmProjects/Option/samples', '/Users/yang/PycharmProjects/Option', '/opt/anaconda3/lib/python312.zip', '/opt/anaconda3/lib/python3.12', '/opt/anaconda3/lib/python3.12/lib-dynload', '', '/opt/anaconda3/lib/python3.12/site-packages', '/opt/anaconda3/lib/python3.12/site-packages/aeosa', '/Users/yang/PycharmProjects/Option']\n"
     ]
    }
   ],
   "execution_count": 1
  },
  {
   "cell_type": "markdown",
   "id": "6a2159ebe87e195",
   "metadata": {},
   "source": [
    "QuantLib 期权定价示例\n",
    "#### 本示例展示如何使用`QlCalendar`、`QlStocks`和`QlVanillaOptions`类创建和定价多种期权，并测试不同定价引擎的功能。\n"
   ]
  },
  {
   "cell_type": "code",
   "id": "372701ba5c254e42",
   "metadata": {
    "ExecuteTime": {
     "end_time": "2025-06-05T07:51:53.667846Z",
     "start_time": "2025-06-05T07:51:50.471549Z"
    }
   },
   "source": [
    "import QuantLib as ql\n",
    "import numpy as np\n",
    "import matplotlib.pyplot as plt\n",
    "import pandas as pd\n",
    "from src.QlCalendar import QlCalendar\n",
    "from src.QlStocks import QlStocks\n",
    "from src.QlVanillaOptions import QlVanillaOptions"
   ],
   "outputs": [],
   "execution_count": 2
  },
  {
   "cell_type": "markdown",
   "id": "d3cdc3d3633e4bad",
   "metadata": {},
   "source": [
    "## 1. 初始化设置\n",
    "#### 创建日历、股票和期权对象"
   ]
  },
  {
   "cell_type": "code",
   "id": "3d191b86fa5096cf",
   "metadata": {
    "ExecuteTime": {
     "end_time": "2025-06-05T07:51:53.773923Z",
     "start_time": "2025-06-05T07:51:53.763337Z"
    }
   },
   "source": [
    "# 设置初始日期\n",
    "start_date = ql.Date(31, 5, 2025)  # 2025年5月31日\n",
    "ql_calendar = QlCalendar(init_date=start_date)\n",
    "\n",
    "# 创建股票对象\n",
    "s = QlStocks(ql_calendar)\n",
    "s.black_scholes(100.0)  # 创建一只股票，价格为100\n",
    "\n",
    "# 创建期权对象\n",
    "options = QlVanillaOptions(s.df)  # 使用第一只股票创建期权\n"
   ],
   "outputs": [
    {
     "name": "stdout",
     "output_type": "stream",
     "text": [
      "today:  June 2nd, 2025\n"
     ]
    }
   ],
   "execution_count": 3
  },
  {
   "cell_type": "markdown",
   "id": "aebd83bdd83ca0e5",
   "metadata": {},
   "source": [
    "## 2. 测试不同定价引擎\n",
    "### 2.1 AnalyticEuropeanEngine (解析解)"
   ]
  },
  {
   "cell_type": "code",
   "id": "78ab2c3bfedd429d",
   "metadata": {
    "ExecuteTime": {
     "end_time": "2025-06-05T07:51:53.802032Z",
     "start_time": "2025-06-05T07:51:53.784496Z"
    }
   },
   "source": [
    "# 创建单个欧式看跌期权\n",
    "op = options.european_option(\n",
    "    'put',\n",
    "    100,  # 行权价\n",
    "    ql.Date(30, 6, 2025),  # 到期日\n",
    "    qlEngine=ql.AnalyticEuropeanEngine\n",
    ")\n",
    "\n",
    "# 计算并显示结果\n",
    "df = options.NPV(op)\n",
    "print(\"AnalyticEuropeanEngine 结果:\")\n",
    "print(df[['strike_prices', 'maturity_dates', 'types', 'NPV']])\n"
   ],
   "outputs": [
    {
     "name": "stdout",
     "output_type": "stream",
     "text": [
      "AnalyticEuropeanEngine 结果:\n",
      "   strike_prices   maturity_dates types       NPV\n",
      "0            100  June 30th, 2025   put  2.050577\n"
     ]
    }
   ],
   "execution_count": 4
  },
  {
   "cell_type": "markdown",
   "id": "73347986a207745f",
   "metadata": {},
   "source": [
    "### 2.2 MCEuropeanEngine (蒙特卡洛模拟)"
   ]
  },
  {
   "cell_type": "code",
   "id": "3af9249aaec8a1d0",
   "metadata": {
    "ExecuteTime": {
     "end_time": "2025-06-05T07:51:56.719880Z",
     "start_time": "2025-06-05T07:51:53.817905Z"
    }
   },
   "source": [
    "# 创建多个欧式看涨期权\n",
    "strikes = np.linspace(90, 110, 5)  # 5个不同行权价\n",
    "maturities = [ql.Date(30, 6, 2025)] * len(strikes)  # 相同到期日\n",
    "types = ['call'] * len(strikes)  # 全部为看涨期权\n",
    "\n",
    "op = options.european_option(\n",
    "    types,\n",
    "    strikes,\n",
    "    maturities,\n",
    "    qlEngine=ql.MCEuropeanEngine,\n",
    "    traits = \"pseudorandom\", # could use \"lowdiscrepancy\"\n",
    "    timeSteps=20,  # 时间步数\n",
    "    requiredSamples=1000,  # 路径数量\n",
    "    seed=42  # 随机种子\n",
    ")\n",
    "\n",
    "# 计算并显示结果\n",
    "df = options.NPV(op)\n",
    "print(\"\\nMCEuropeanEngine 结果:\")\n",
    "print(df[['strike_prices', 'maturity_dates', 'types', 'NPV']])\n"
   ],
   "outputs": [
    {
     "name": "stdout",
     "output_type": "stream",
     "text": [
      "\n",
      "MCEuropeanEngine 结果:\n",
      "   strike_prices   maturity_dates types        NPV\n",
      "0           90.0  June 30th, 2025  call  10.103704\n",
      "1           95.0  June 30th, 2025  call   5.552839\n",
      "2          100.0  June 30th, 2025  call   2.234077\n",
      "3          105.0  June 30th, 2025  call   0.579401\n",
      "4          110.0  June 30th, 2025  call   0.079597\n"
     ]
    }
   ],
   "execution_count": 5
  },
  {
   "cell_type": "markdown",
   "id": "72d4e3214bf2ade3",
   "metadata": {},
   "source": [
    "### 2.3 FdBlackScholesVanillaEngine (有限差分法)"
   ]
  },
  {
   "cell_type": "code",
   "id": "f541eb5f0f45b840",
   "metadata": {
    "ExecuteTime": {
     "end_time": "2025-06-05T07:51:57.326715Z",
     "start_time": "2025-06-05T07:51:56.749566Z"
    }
   },
   "source": [
    "# 创建多个欧式看跌期权\n",
    "strikes = np.linspace(80, 120, 5)  # 5个不同行权价\n",
    "maturities = [ql.Date(31, 12, 2025)] * len(strikes)  # 相同到期日\n",
    "types = ['put'] * len(strikes)  # 全部为看跌期权\n",
    "\n",
    "tGrid, xGrid = 2000, 200\n",
    "op = options.european_option(\n",
    "    types,\n",
    "    strikes,\n",
    "    maturities,\n",
    "    ql.EuropeanExercise,\n",
    "    ql.FdBlackScholesVanillaEngine,\n",
    "    tGrid,\n",
    "    xGrid\n",
    ")\n",
    "\n",
    "# 计算并显示结果\n",
    "df = options.NPV(op)\n",
    "print(\"\\nFdBlackScholesVanillaEngine 结果:\")\n",
    "print(df[['strike_prices', 'maturity_dates', 'types', 'NPV']])\n"
   ],
   "outputs": [
    {
     "name": "stdout",
     "output_type": "stream",
     "text": [
      "\n",
      "FdBlackScholesVanillaEngine 结果:\n",
      "   strike_prices       maturity_dates types        NPV\n",
      "0           80.0  December 31st, 2025   put   0.272321\n",
      "1           90.0  December 31st, 2025   put   1.473684\n",
      "2          100.0  December 31st, 2025   put   4.661148\n",
      "3          110.0  December 31st, 2025   put  10.291280\n",
      "4          120.0  December 31st, 2025   put  17.923437\n"
     ]
    }
   ],
   "execution_count": 6
  },
  {
   "cell_type": "markdown",
   "id": "3b85fb2148583027",
   "metadata": {},
   "source": [
    "### 2.4 MCAmericanEngine (美式期权蒙特卡洛)"
   ]
  },
  {
   "cell_type": "code",
   "id": "4020954c8a93571c",
   "metadata": {
    "ExecuteTime": {
     "end_time": "2025-06-05T07:51:57.339705Z",
     "start_time": "2025-06-05T07:51:57.335938Z"
    }
   },
   "source": [
    "# 创建多个美式看涨期权\n",
    "# strikes = np.linspace(95, 105, 3)  # 3个不同行权价\n",
    "# maturities = [ql.Date(31, 12, 2025)] * len(strikes)  # 相同到期日\n",
    "# types = ['call'] * len(strikes)  # 全部为看涨期权\n",
    "# \n",
    "# op = options.european_option(\n",
    "#     types,\n",
    "#     strikes,\n",
    "#     maturities,\n",
    "#     qlExercise=ql.AmericanExercise,\n",
    "#     qlEngine=ql.MCAmericanEngine,\n",
    "#     timeSteps = 200,\n",
    "#     traits = \"pseudorandom\", # could use \"lowdiscrepancy\"\n",
    "#     requiredSamples=1000,  # 路径数量\n",
    "#     seed=42  # 随机种子\n",
    "# )\n",
    "# \n",
    "# # 计算并显示结果\n",
    "# df = options.NPV(op)\n",
    "# print(\"\\nMCAmericanEngine 结果:\")\n",
    "# print(df[['strike_prices', 'maturity_dates', 'types', 'NPV']])\n",
    "# \n",
    "# # %% md\n",
    "# ## 3. 测试风险指标计算\n",
    "# #### 计算并显示所有期权的希腊字母\n",
    "# # %%\n",
    "# # 计算delta\n",
    "# df_delta = options.delta()\n",
    "# print(\"\\nDelta 值:\")\n",
    "# print(df_delta[['strike_prices', 'types', 'delta']])\n",
    "# \n",
    "# # 计算gamma\n",
    "# df_gamma = options.gamma()\n",
    "# print(\"\\nGamma 值:\")\n",
    "# print(df_gamma[['strike_prices', 'types', 'gamma']])\n",
    "# \n",
    "# # 计算vega\n",
    "# df_vega = options.vega()\n",
    "# print(\"\\nVega 值:\")\n",
    "# print(df_vega[['strike_prices', 'types', 'vega']])\n",
    "# \n",
    "# # %% md\n",
    "# ## 4. 批量创建大量期权\n",
    "# #### 测试5000个期权的批量创建和定价\n",
    "# # %%\n",
    "# # 生成随机行权价\n",
    "# prices = np.random.normal(loc=100, scale=10, size=5000)\n",
    "# \n",
    "# # 创建5000个看涨期权\n",
    "# options.european_option(\n",
    "#     'call',\n",
    "#     prices,\n",
    "#     ql.Date(31, 12, 2025),\n",
    "#     qlEngine=ql.AnalyticEuropeanEngine\n",
    "# )\n",
    "# \n",
    "# # 计算并显示部分结果\n",
    "# df = options.NPV()\n",
    "# print(\"\\n5000个期权的部分结果:\")\n",
    "# print(df.head())  # 只显示前5行\n",
    "# \n",
    "# # 计算并显示统计信息\n",
    "# print(\"\\n5000个期权的统计信息:\")\n",
    "# print(df['NPV'].describe())"
   ],
   "outputs": [],
   "execution_count": 7
  }
 ],
 "metadata": {
  "kernelspec": {
   "display_name": "Python 3 (ipykernel)",
   "language": "python",
   "name": "python3"
  },
  "language_info": {
   "codemirror_mode": {
    "name": "ipython",
    "version": 3
   },
   "file_extension": ".py",
   "mimetype": "text/x-python",
   "name": "python",
   "nbconvert_exporter": "python",
   "pygments_lexer": "ipython3",
   "version": "3.12.4"
  }
 },
 "nbformat": 4,
 "nbformat_minor": 5
}
