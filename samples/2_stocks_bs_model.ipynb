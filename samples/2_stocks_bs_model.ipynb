{
 "cells": [
  {
   "cell_type": "code",
   "id": "initial_id",
   "metadata": {
    "collapsed": true,
    "ExecuteTime": {
     "end_time": "2025-06-17T09:13:38.201762Z",
     "start_time": "2025-06-17T09:13:37.186909Z"
    }
   },
   "source": [
    "import sys\n",
    "import os\n",
    "import numpy as np\n",
    "import time\n",
    "import timeit\n",
    "import matplotlib.pyplot as plt\n",
    "\n",
    "current_path = os.getcwd()  # 获取当前工作目录\n",
    "print(\"当前路径:\", current_path)\n",
    "current_path = current_path.replace('/samples', '')\n",
    "print(sys.path)  # 显示所有模块搜索路径\n",
    "sys.path.append(current_path)  # 添加自定义路径\n",
    "print(sys.path)  # 显示所有模块搜索路径\n"
   ],
   "outputs": [
    {
     "name": "stdout",
     "output_type": "stream",
     "text": [
      "当前路径: /Users/yang/PycharmProjects/Option/samples\n",
      "['/Users/yang/PycharmProjects/Option/samples', '/Users/yang/PycharmProjects/Option', '/opt/anaconda3/lib/python312.zip', '/opt/anaconda3/lib/python3.12', '/opt/anaconda3/lib/python3.12/lib-dynload', '', '/opt/anaconda3/lib/python3.12/site-packages', '/opt/anaconda3/lib/python3.12/site-packages/aeosa']\n",
      "['/Users/yang/PycharmProjects/Option/samples', '/Users/yang/PycharmProjects/Option', '/opt/anaconda3/lib/python312.zip', '/opt/anaconda3/lib/python3.12', '/opt/anaconda3/lib/python3.12/lib-dynload', '', '/opt/anaconda3/lib/python3.12/site-packages', '/opt/anaconda3/lib/python3.12/site-packages/aeosa', '/Users/yang/PycharmProjects/Option']\n"
     ]
    }
   ],
   "execution_count": 1
  },
  {
   "metadata": {},
   "cell_type": "markdown",
   "source": [
    "# 2 stocks\n",
    "\n",
    "# 金融衍生品定价模型测试\n",
    "\n",
    "### 本文件测试QlStocks类中的Black - Scholes模型实现\n"
   ],
   "id": "d0f1817c33ba8b7c"
  },
  {
   "metadata": {},
   "cell_type": "markdown",
   "source": "## 测试案例",
   "id": "62026f6eb5537f9b"
  },
  {
   "metadata": {
    "ExecuteTime": {
     "end_time": "2025-06-17T09:13:39.631294Z",
     "start_time": "2025-06-17T09:13:38.214386Z"
    }
   },
   "cell_type": "code",
   "source": [
    "import QuantLib as ql\n",
    "from src.utils import plot_fig\n",
    "from src.QlCalendar import QlCalendar\n",
    "from src.QlStocks import QlStocks"
   ],
   "id": "ebee7e2dd1a16b3f",
   "outputs": [],
   "execution_count": 2
  },
  {
   "metadata": {
    "ExecuteTime": {
     "end_time": "2025-06-17T09:13:39.769574Z",
     "start_time": "2025-06-17T09:13:39.758869Z"
    }
   },
   "cell_type": "code",
   "source": [
    "# 初始化日历\n",
    "start_date = ql.Date(1, 1, 2020)\n",
    "ql_calendar = QlCalendar(init_date=start_date)\n",
    "# 创建股票实例\n",
    "s = QlStocks(ql_calendar)"
   ],
   "id": "52a7d6cd8c872f1a",
   "outputs": [],
   "execution_count": 3
  },
  {
   "metadata": {},
   "cell_type": "markdown",
   "source": "### 测试Black-Scholes模型",
   "id": "70c7b837314557f4"
  },
  {
   "metadata": {
    "ExecuteTime": {
     "end_time": "2025-06-17T09:13:39.828173Z",
     "start_time": "2025-06-17T09:13:39.797531Z"
    }
   },
   "cell_type": "code",
   "source": [
    "print(\"测试Black-Scholes模型:\")\n",
    "# 单个股票\n",
    "s.add_black_scholes(codes=\"AAPL\", stock_prices=100.0, volatility=0.25)\n",
    "# 多个股票\n",
    "s.add_black_scholes(codes=[\"GOOG\", \"MSFT\"], stock_prices = [120.0, 80.0], volatility=[0.3, 0.2])\n",
    "# 多个股票带连续价格\n",
    "s.add_black_scholes(codes=[\"TSLA\", \"BTC\"], stock_prices = [[120.0, 121.5, 123.5], [80.0, 81.5, 79.8]], volatility=[0.3, 0.2])\n",
    "s.ql_df"
   ],
   "id": "22f83485390f3819",
   "outputs": [
    {
     "name": "stdout",
     "output_type": "stream",
     "text": [
      "测试Black-Scholes模型:\n"
     ]
    },
    {
     "data": {
      "text/plain": [
       "                                             price_quote dividend_quote  \\\n",
       "codes                                                                     \n",
       "AAPL   <QuantLib.QuantLib.SimpleQuote; proxy of <Swig...           None   \n",
       "GOOG   <QuantLib.QuantLib.SimpleQuote; proxy of <Swig...           None   \n",
       "MSFT   <QuantLib.QuantLib.SimpleQuote; proxy of <Swig...           None   \n",
       "TSLA   <QuantLib.QuantLib.SimpleQuote; proxy of <Swig...           None   \n",
       "BTC    <QuantLib.QuantLib.SimpleQuote; proxy of <Swig...           None   \n",
       "\n",
       "                                              volatility process_types  \\\n",
       "codes                                                                    \n",
       "AAPL   <QuantLib.QuantLib.SimpleQuote; proxy of <Swig...  black_schole   \n",
       "GOOG   <QuantLib.QuantLib.SimpleQuote; proxy of <Swig...  black_schole   \n",
       "MSFT   <QuantLib.QuantLib.SimpleQuote; proxy of <Swig...  black_schole   \n",
       "TSLA   <QuantLib.QuantLib.SimpleQuote; proxy of <Swig...  black_schole   \n",
       "BTC    <QuantLib.QuantLib.SimpleQuote; proxy of <Swig...  black_schole   \n",
       "\n",
       "                                               processes  \n",
       "codes                                                     \n",
       "AAPL   <QuantLib.QuantLib.BlackScholesProcess; proxy ...  \n",
       "GOOG   <QuantLib.QuantLib.BlackScholesProcess; proxy ...  \n",
       "MSFT   <QuantLib.QuantLib.BlackScholesProcess; proxy ...  \n",
       "TSLA   <QuantLib.QuantLib.BlackScholesProcess; proxy ...  \n",
       "BTC    <QuantLib.QuantLib.BlackScholesProcess; proxy ...  "
      ],
      "text/html": [
       "<div>\n",
       "<style scoped>\n",
       "    .dataframe tbody tr th:only-of-type {\n",
       "        vertical-align: middle;\n",
       "    }\n",
       "\n",
       "    .dataframe tbody tr th {\n",
       "        vertical-align: top;\n",
       "    }\n",
       "\n",
       "    .dataframe thead th {\n",
       "        text-align: right;\n",
       "    }\n",
       "</style>\n",
       "<table border=\"1\" class=\"dataframe\">\n",
       "  <thead>\n",
       "    <tr style=\"text-align: right;\">\n",
       "      <th></th>\n",
       "      <th>price_quote</th>\n",
       "      <th>dividend_quote</th>\n",
       "      <th>volatility</th>\n",
       "      <th>process_types</th>\n",
       "      <th>processes</th>\n",
       "    </tr>\n",
       "    <tr>\n",
       "      <th>codes</th>\n",
       "      <th></th>\n",
       "      <th></th>\n",
       "      <th></th>\n",
       "      <th></th>\n",
       "      <th></th>\n",
       "    </tr>\n",
       "  </thead>\n",
       "  <tbody>\n",
       "    <tr>\n",
       "      <th>AAPL</th>\n",
       "      <td>&lt;QuantLib.QuantLib.SimpleQuote; proxy of &lt;Swig...</td>\n",
       "      <td>None</td>\n",
       "      <td>&lt;QuantLib.QuantLib.SimpleQuote; proxy of &lt;Swig...</td>\n",
       "      <td>black_schole</td>\n",
       "      <td>&lt;QuantLib.QuantLib.BlackScholesProcess; proxy ...</td>\n",
       "    </tr>\n",
       "    <tr>\n",
       "      <th>GOOG</th>\n",
       "      <td>&lt;QuantLib.QuantLib.SimpleQuote; proxy of &lt;Swig...</td>\n",
       "      <td>None</td>\n",
       "      <td>&lt;QuantLib.QuantLib.SimpleQuote; proxy of &lt;Swig...</td>\n",
       "      <td>black_schole</td>\n",
       "      <td>&lt;QuantLib.QuantLib.BlackScholesProcess; proxy ...</td>\n",
       "    </tr>\n",
       "    <tr>\n",
       "      <th>MSFT</th>\n",
       "      <td>&lt;QuantLib.QuantLib.SimpleQuote; proxy of &lt;Swig...</td>\n",
       "      <td>None</td>\n",
       "      <td>&lt;QuantLib.QuantLib.SimpleQuote; proxy of &lt;Swig...</td>\n",
       "      <td>black_schole</td>\n",
       "      <td>&lt;QuantLib.QuantLib.BlackScholesProcess; proxy ...</td>\n",
       "    </tr>\n",
       "    <tr>\n",
       "      <th>TSLA</th>\n",
       "      <td>&lt;QuantLib.QuantLib.SimpleQuote; proxy of &lt;Swig...</td>\n",
       "      <td>None</td>\n",
       "      <td>&lt;QuantLib.QuantLib.SimpleQuote; proxy of &lt;Swig...</td>\n",
       "      <td>black_schole</td>\n",
       "      <td>&lt;QuantLib.QuantLib.BlackScholesProcess; proxy ...</td>\n",
       "    </tr>\n",
       "    <tr>\n",
       "      <th>BTC</th>\n",
       "      <td>&lt;QuantLib.QuantLib.SimpleQuote; proxy of &lt;Swig...</td>\n",
       "      <td>None</td>\n",
       "      <td>&lt;QuantLib.QuantLib.SimpleQuote; proxy of &lt;Swig...</td>\n",
       "      <td>black_schole</td>\n",
       "      <td>&lt;QuantLib.QuantLib.BlackScholesProcess; proxy ...</td>\n",
       "    </tr>\n",
       "  </tbody>\n",
       "</table>\n",
       "</div>"
      ]
     },
     "execution_count": 4,
     "metadata": {},
     "output_type": "execute_result"
    }
   ],
   "execution_count": 4
  },
  {
   "metadata": {
    "ExecuteTime": {
     "end_time": "2025-06-17T09:13:39.962824Z",
     "start_time": "2025-06-17T09:13:39.951068Z"
    }
   },
   "cell_type": "code",
   "source": [
    "# 显示股票价格\n",
    "s.stock_prices"
   ],
   "id": "650e88e529a3c761",
   "outputs": [
    {
     "data": {
      "text/plain": [
       "      January 2nd, 2020  January 3rd, 2020  January 6th, 2020\n",
       "AAPL              100.0                NaN                NaN\n",
       "GOOG              120.0                NaN                NaN\n",
       "MSFT               80.0                NaN                NaN\n",
       "TSLA              120.0              121.5              123.5\n",
       "BTC                80.0               81.5               79.8"
      ],
      "text/html": [
       "<div>\n",
       "<style scoped>\n",
       "    .dataframe tbody tr th:only-of-type {\n",
       "        vertical-align: middle;\n",
       "    }\n",
       "\n",
       "    .dataframe tbody tr th {\n",
       "        vertical-align: top;\n",
       "    }\n",
       "\n",
       "    .dataframe thead th {\n",
       "        text-align: right;\n",
       "    }\n",
       "</style>\n",
       "<table border=\"1\" class=\"dataframe\">\n",
       "  <thead>\n",
       "    <tr style=\"text-align: right;\">\n",
       "      <th></th>\n",
       "      <th>January 2nd, 2020</th>\n",
       "      <th>January 3rd, 2020</th>\n",
       "      <th>January 6th, 2020</th>\n",
       "    </tr>\n",
       "  </thead>\n",
       "  <tbody>\n",
       "    <tr>\n",
       "      <th>AAPL</th>\n",
       "      <td>100.0</td>\n",
       "      <td>NaN</td>\n",
       "      <td>NaN</td>\n",
       "    </tr>\n",
       "    <tr>\n",
       "      <th>GOOG</th>\n",
       "      <td>120.0</td>\n",
       "      <td>NaN</td>\n",
       "      <td>NaN</td>\n",
       "    </tr>\n",
       "    <tr>\n",
       "      <th>MSFT</th>\n",
       "      <td>80.0</td>\n",
       "      <td>NaN</td>\n",
       "      <td>NaN</td>\n",
       "    </tr>\n",
       "    <tr>\n",
       "      <th>TSLA</th>\n",
       "      <td>120.0</td>\n",
       "      <td>121.5</td>\n",
       "      <td>123.5</td>\n",
       "    </tr>\n",
       "    <tr>\n",
       "      <th>BTC</th>\n",
       "      <td>80.0</td>\n",
       "      <td>81.5</td>\n",
       "      <td>79.8</td>\n",
       "    </tr>\n",
       "  </tbody>\n",
       "</table>\n",
       "</div>"
      ]
     },
     "execution_count": 5,
     "metadata": {},
     "output_type": "execute_result"
    }
   ],
   "execution_count": 5
  },
  {
   "metadata": {
    "ExecuteTime": {
     "end_time": "2025-06-17T09:13:40.051177Z",
     "start_time": "2025-06-17T09:13:40.043820Z"
    }
   },
   "cell_type": "code",
   "source": [
    "# 获取股票今日价格\n",
    "s.get_today_prices()"
   ],
   "id": "13d23509aef6aa6f",
   "outputs": [
    {
     "data": {
      "text/plain": [
       "AAPL    100.0\n",
       "GOOG    120.0\n",
       "MSFT     80.0\n",
       "TSLA    120.0\n",
       "BTC      80.0\n",
       "Name: January 2nd, 2020, dtype: float64"
      ]
     },
     "execution_count": 6,
     "metadata": {},
     "output_type": "execute_result"
    }
   ],
   "execution_count": 6
  },
  {
   "metadata": {
    "ExecuteTime": {
     "end_time": "2025-06-17T09:13:40.226091Z",
     "start_time": "2025-06-17T09:13:40.221447Z"
    }
   },
   "cell_type": "code",
   "source": [
    "# 实例化特斯拉\n",
    "tsla = s.stock('TSLA')\n",
    "print(f'code: {tsla.code}, date: {ql_calendar.today()}, today price: {tsla.get_price()}')"
   ],
   "id": "2612b077a33aa5b8",
   "outputs": [
    {
     "name": "stdout",
     "output_type": "stream",
     "text": [
      "code: TSLA, date: January 2nd, 2020, today price: 120.0\n"
     ]
    }
   ],
   "execution_count": 7
  },
  {
   "metadata": {
    "ExecuteTime": {
     "end_time": "2025-06-17T09:13:40.350003Z",
     "start_time": "2025-06-17T09:13:40.344265Z"
    }
   },
   "cell_type": "code",
   "source": [
    "# 下一天，并获取下一天价格\n",
    "ql_calendar.to_next_trading_date()\n",
    "print(f'code: {tsla.code}, date: {ql_calendar.today()}, today price: {tsla.get_price()}')"
   ],
   "id": "684491e112acfc9d",
   "outputs": [
    {
     "name": "stdout",
     "output_type": "stream",
     "text": [
      "code: TSLA, date: January 3rd, 2020, today price: 121.5\n"
     ]
    }
   ],
   "execution_count": 8
  },
  {
   "metadata": {
    "ExecuteTime": {
     "end_time": "2025-06-17T09:13:40.446404Z",
     "start_time": "2025-06-17T09:13:40.436420Z"
    }
   },
   "cell_type": "code",
   "source": [
    "# 获取所有股票的价格\n",
    "s.get_today_prices()"
   ],
   "id": "6e697d44c98f857a",
   "outputs": [
    {
     "data": {
      "text/plain": [
       "AAPL      NaN\n",
       "GOOG      NaN\n",
       "MSFT      NaN\n",
       "TSLA    121.5\n",
       "BTC      81.5\n",
       "Name: January 3rd, 2020, dtype: float64"
      ]
     },
     "execution_count": 9,
     "metadata": {},
     "output_type": "execute_result"
    }
   ],
   "execution_count": 9
  },
  {
   "metadata": {
    "ExecuteTime": {
     "end_time": "2025-06-17T09:13:40.517102Z",
     "start_time": "2025-06-17T09:13:40.508567Z"
    }
   },
   "cell_type": "code",
   "source": [
    "# 下一天，并获取下一天价格 （没有价格会为np.nan）\n",
    "ql_calendar.to_next_trading_date()\n",
    "print(f'code: {tsla.code}, date: {ql_calendar.today()}, today price: {tsla.get_price()}')\n",
    "s.get_today_prices()"
   ],
   "id": "81537e0bd7544f20",
   "outputs": [
    {
     "name": "stdout",
     "output_type": "stream",
     "text": [
      "code: TSLA, date: January 6th, 2020, today price: 123.5\n"
     ]
    },
    {
     "data": {
      "text/plain": [
       "AAPL      NaN\n",
       "GOOG      NaN\n",
       "MSFT      NaN\n",
       "TSLA    123.5\n",
       "BTC      79.8\n",
       "Name: January 6th, 2020, dtype: float64"
      ]
     },
     "execution_count": 10,
     "metadata": {},
     "output_type": "execute_result"
    }
   ],
   "execution_count": 10
  },
  {
   "metadata": {
    "ExecuteTime": {
     "end_time": "2025-06-17T09:13:51.203827Z",
     "start_time": "2025-06-17T09:13:51.191479Z"
    }
   },
   "cell_type": "code",
   "source": [
    "# 下一天，并获取下一天价格 （没有价格会为np.nan）\n",
    "ql_calendar.to_next_trading_date()\n",
    "print(f'code: {tsla.code}, date: {ql_calendar.today()}, today price: {tsla.get_price()}')\n",
    "ql_calendar.to_next_trading_date()\n",
    "print(f'code: {tsla.code}, date: {ql_calendar.today()}, today price: {tsla.get_price()}')\n",
    "s.get_today_prices()"
   ],
   "id": "f060e5a3791dc3b9",
   "outputs": [
    {
     "name": "stdout",
     "output_type": "stream",
     "text": [
      "At January 7th, 2020, stocks do not have prices data, please use function - < set_today_prices > to set today prices\n",
      "code: TSLA, date: January 7th, 2020, today price: 123.5\n",
      "At January 8th, 2020, stocks do not have prices data, please use function - < set_today_prices > to set today prices\n",
      "code: TSLA, date: January 8th, 2020, today price: 123.5\n"
     ]
    },
    {
     "data": {
      "text/plain": [
       "AAPL   NaN\n",
       "GOOG   NaN\n",
       "MSFT   NaN\n",
       "TSLA   NaN\n",
       "BTC    NaN\n",
       "Name: January 8th, 2020, dtype: float64"
      ]
     },
     "execution_count": 12,
     "metadata": {},
     "output_type": "execute_result"
    }
   ],
   "execution_count": 12
  },
  {
   "metadata": {
    "ExecuteTime": {
     "end_time": "2025-06-17T09:14:18.533666Z",
     "start_time": "2025-06-17T09:14:18.524779Z"
    }
   },
   "cell_type": "code",
   "source": [
    "all_days = 10000\n",
    "random_prices = np.random.normal(loc=100.0, scale=5.0, size=[len(s.stock_prices), all_days])\n",
    "random_prices.shape"
   ],
   "id": "5f01694c60b26812",
   "outputs": [
    {
     "data": {
      "text/plain": [
       "(5, 10000)"
      ]
     },
     "execution_count": 13,
     "metadata": {},
     "output_type": "execute_result"
    }
   ],
   "execution_count": 13
  },
  {
   "metadata": {
    "ExecuteTime": {
     "end_time": "2025-06-17T09:14:25.237978Z",
     "start_time": "2025-06-17T09:14:25.138099Z"
    }
   },
   "cell_type": "code",
   "source": [
    "# 批量设置价格\n",
    "ql_calendar.set_today(start_date)\n",
    "t0 = time.time()\n",
    "s.set_all_prices(random_prices)\n",
    "print(time.time() - t0)"
   ],
   "id": "ccbb2b0c86d5cbb2",
   "outputs": [
    {
     "name": "stdout",
     "output_type": "stream",
     "text": [
      "0.09613275527954102\n"
     ]
    }
   ],
   "execution_count": 14
  },
  {
   "metadata": {
    "ExecuteTime": {
     "end_time": "2025-06-17T09:14:43.528127Z",
     "start_time": "2025-06-17T09:14:43.519926Z"
    }
   },
   "cell_type": "code",
   "source": "s.today_prices",
   "id": "de3645d01b99c5e2",
   "outputs": [
    {
     "data": {
      "text/plain": [
       "AAPL    102.294552\n",
       "GOOG    100.771815\n",
       "MSFT    102.227712\n",
       "TSLA    105.437349\n",
       "BTC      97.143131\n",
       "Name: January 2nd, 2020, dtype: float64"
      ]
     },
     "execution_count": 15,
     "metadata": {},
     "output_type": "execute_result"
    }
   ],
   "execution_count": 15
  },
  {
   "metadata": {
    "ExecuteTime": {
     "end_time": "2025-06-17T09:16:05.371201Z",
     "start_time": "2025-06-17T09:16:05.295673Z"
    }
   },
   "cell_type": "code",
   "source": [
    "for i in range(10):\n",
    "    print(f'code: {tsla.code}, date: {ql_calendar.today()}, today price: {tsla.get_price()}')\n",
    "    ql_calendar.to_next_trading_date()"
   ],
   "id": "535d2dadc9419284",
   "outputs": [
    {
     "name": "stdout",
     "output_type": "stream",
     "text": [
      "code: TSLA, date: January 2nd, 2020, today price: 105.43734854768174\n",
      "code: TSLA, date: January 3rd, 2020, today price: 104.21936775161397\n",
      "code: TSLA, date: January 6th, 2020, today price: 98.17614952266362\n",
      "code: TSLA, date: January 7th, 2020, today price: 95.31167757932705\n",
      "code: TSLA, date: January 8th, 2020, today price: 98.33049537830881\n",
      "code: TSLA, date: January 9th, 2020, today price: 97.44513607865437\n",
      "code: TSLA, date: January 10th, 2020, today price: 95.79429199883816\n",
      "code: TSLA, date: January 13th, 2020, today price: 100.98277578058374\n",
      "code: TSLA, date: January 14th, 2020, today price: 102.8356143324233\n",
      "code: TSLA, date: January 15th, 2020, today price: 94.6150292929321\n"
     ]
    }
   ],
   "execution_count": 16
  },
  {
   "metadata": {
    "ExecuteTime": {
     "end_time": "2025-06-17T09:16:30.572793Z",
     "start_time": "2025-06-17T09:16:29.335850Z"
    }
   },
   "cell_type": "code",
   "source": [
    "ql_calendar.set_today(start_date)\n",
    "s.auto_update = True\n",
    "def cal_():\n",
    "    return [ql_calendar.to_next_trading_date() for _ in range(all_days - 1)]\n",
    "print('股票价格自动更新，耗时：', timeit.timeit(cal_, number=1))\n",
    "s.today_prices"
   ],
   "id": "79e508e8a6b8f3aa",
   "outputs": [
    {
     "name": "stdout",
     "output_type": "stream",
     "text": [
      "股票价格自动更新，耗时： 1.1913270460208878\n"
     ]
    },
    {
     "data": {
      "text/plain": [
       "AAPL    102.219452\n",
       "GOOG    101.221990\n",
       "MSFT     98.616772\n",
       "TSLA    102.925189\n",
       "BTC     107.489568\n",
       "Name: July 10th, 2059, dtype: float64"
      ]
     },
     "execution_count": 17,
     "metadata": {},
     "output_type": "execute_result"
    }
   ],
   "execution_count": 17
  },
  {
   "metadata": {
    "ExecuteTime": {
     "end_time": "2025-06-17T09:16:39.387624Z",
     "start_time": "2025-06-17T09:16:39.246802Z"
    }
   },
   "cell_type": "code",
   "source": [
    "ql_calendar.set_today(start_date)\n",
    "s.auto_update = False\n",
    "def cal_():\n",
    "    return [ql_calendar.to_next_trading_date() for _ in range(all_days - 1)]\n",
    "print('股票价格不自动更新，耗时：', timeit.timeit(cal_, number=1))\n",
    "s.today_prices\n"
   ],
   "id": "a02240e39f5677ad",
   "outputs": [
    {
     "name": "stdout",
     "output_type": "stream",
     "text": [
      "股票价格不自动更新，耗时： 0.1325417780317366\n"
     ]
    },
    {
     "data": {
      "text/plain": [
       "AAPL    102.294552\n",
       "GOOG    100.771815\n",
       "MSFT    102.227712\n",
       "TSLA    105.437349\n",
       "BTC      97.143131\n",
       "Name: January 2nd, 2020, dtype: float64"
      ]
     },
     "execution_count": 18,
     "metadata": {},
     "output_type": "execute_result"
    }
   ],
   "execution_count": 18
  },
  {
   "metadata": {
    "ExecuteTime": {
     "end_time": "2025-06-17T09:16:41.628385Z",
     "start_time": "2025-06-17T09:16:41.616388Z"
    }
   },
   "cell_type": "code",
   "source": [
    "all_prices = 10000\n",
    "random_prices = np.random.normal(loc=100.0, scale=5.0, size=[all_prices, len(s.stock_prices)])\n",
    "print(random_prices.shape)\n",
    "random_prices[-1]"
   ],
   "id": "6de139c8f2cc774e",
   "outputs": [
    {
     "name": "stdout",
     "output_type": "stream",
     "text": [
      "(10000, 5)\n"
     ]
    },
    {
     "data": {
      "text/plain": [
       "array([ 99.2357268 ,  91.34735859, 111.70763679,  97.21956425,\n",
       "        95.94260419])"
      ]
     },
     "execution_count": 19,
     "metadata": {},
     "output_type": "execute_result"
    }
   ],
   "execution_count": 19
  },
  {
   "metadata": {
    "ExecuteTime": {
     "end_time": "2025-06-17T09:16:46.275037Z",
     "start_time": "2025-06-17T09:16:44.648364Z"
    }
   },
   "cell_type": "code",
   "source": [
    "def cal_():\n",
    "    return [s.set_today_prices(random_prices[i]) for i in range(all_prices)]\n",
    "print('调用函数，手动更新5只股票10000次，耗时：', timeit.timeit(cal_, number=1))\n",
    "\n",
    "quote = s.ql_df['price_quote'].values[0]\n",
    "random_prices = np.random.normal(loc=100.0, scale=5.0, size=all_prices)\n",
    "def cal_():\n",
    "    return [quote.setValue(i) for i in random_prices]\n",
    "print('使用ql默认函数，手动更新单只股票', timeit.timeit(cal_, number=1))"
   ],
   "id": "94540fb4c9c8628e",
   "outputs": [
    {
     "name": "stdout",
     "output_type": "stream",
     "text": [
      "调用函数，手动更新5只股票10000次，耗时： 1.6113948469865136\n",
      "使用ql默认函数，手动更新单只股票 0.009116875007748604\n"
     ]
    }
   ],
   "execution_count": 20
  },
  {
   "metadata": {},
   "cell_type": "code",
   "source": "",
   "id": "2bb0092b0dcedf80",
   "outputs": [],
   "execution_count": null
  }
 ],
 "metadata": {
  "kernelspec": {
   "display_name": "Python 3",
   "language": "python",
   "name": "python3"
  },
  "language_info": {
   "codemirror_mode": {
    "name": "ipython",
    "version": 2
   },
   "file_extension": ".py",
   "mimetype": "text/x-python",
   "name": "python",
   "nbconvert_exporter": "python",
   "pygments_lexer": "ipython2",
   "version": "2.7.6"
  }
 },
 "nbformat": 4,
 "nbformat_minor": 5
}
