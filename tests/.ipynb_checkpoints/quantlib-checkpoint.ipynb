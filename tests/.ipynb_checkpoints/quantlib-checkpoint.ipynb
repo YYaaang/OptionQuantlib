{
 "cells": [
  {
   "cell_type": "markdown",
   "id": "7dd7e5d9-7cfb-47ee-a711-c59c7ebfedf4",
   "metadata": {},
   "source": [
    "https://www.quantlibguide.com/Instruments%20and%20pricing%20engines.html#other-pricing-methods\n",
    "\n",
    "# Instruments and pricing engines\n",
    "This notebook showcases a couple of features that the infrastructure of the library makes available; namely, it will show how instruments can use different so-called pricing engines to calculate their prices (each engine implementing a given model and/or numerical method) and how engines and instruments can be notified of changes in their input data and react accordingly."
   ]
  },
  {
   "cell_type": "markdown",
   "id": "db91cae7-b9d8-4085-b1d2-7f5392b3a7ce",
   "metadata": {},
   "source": [
    "# Setup\n",
    "\n",
    "To begin, we import the QuantLib module and set up the global evaluation date."
   ]
  },
  {
   "cell_type": "code",
   "execution_count": 1,
   "id": "80aeaf5b-6329-4651-b86a-c955353fd5dc",
   "metadata": {},
   "outputs": [],
   "source": [
    "import QuantLib as ql\n",
    "\n",
    "today = ql.Date(7, ql.March, 2024)\n",
    "ql.Settings.instance().evaluationDate = today"
   ]
  },
  {
   "cell_type": "markdown",
   "id": "1333245d-4704-43c0-8d81-a67958192a5c",
   "metadata": {},
   "source": [
    "# The instrument\n",
    "\n",
    "In this notebook, we’ll leave fixed-income and take a textbook instrument example: a European option.\n",
    "\n",
    "Building the option requires only the specification of its contract, so its payoff (it’s a call option with strike at 100) and its exercise, three months from today’s date. The instrument doesn’t take any market data; they will be selected and passed later, depending on the calculation method."
   ]
  },
  {
   "cell_type": "code",
   "execution_count": 3,
   "id": "d32e6736-8dd3-42a7-a865-e16422e19314",
   "metadata": {},
   "outputs": [],
   "source": [
    "option = ql.EuropeanOption(\n",
    "    ql.PlainVanillaPayoff(ql.Option.Call, 100.0),\n",
    "    ql.EuropeanExercise(ql.Date(7, ql.June, 2024)),\n",
    ")"
   ]
  },
  {
   "cell_type": "markdown",
   "id": "2cadcbf6-2eb8-4c3e-82f6-0639bcb268fc",
   "metadata": {},
   "source": [
    "# A first pricing method\n",
    "\n",
    "The different pricing methods are implemented as pricing engines holding the required market data. The first we’ll use is the one encapsulating the analytic Black-Scholes formula.\n",
    "\n",
    "First, we collect the quoted market data. We’ll assume flat risk-free rate and volatility, so they can be expressed by SimpleQuote instances: they model numbers whose value can change and that can notify observers when this happens. The underlying value is at 100, the risk-free value at 1%, and the volatility at 20%."
   ]
  },
  {
   "cell_type": "code",
   "execution_count": 5,
   "id": "10fdca60-3a63-4901-b465-de1f8b452325",
   "metadata": {},
   "outputs": [],
   "source": [
    "u = ql.SimpleQuote(100.0)\n",
    "r = ql.SimpleQuote(0.01)\n",
    "σ = ql.SimpleQuote(0.20)"
   ]
  },
  {
   "cell_type": "markdown",
   "id": "d0128b41-cd35-49d1-8638-4133b1af9f74",
   "metadata": {},
   "source": [
    "In order to build the engine, the market data are encapsulated in a Black-Scholes process object. The process can use full-fledged term structures, so it can include time-dependency and smiles. In this case, for simplicity, we build flat curves for the risk-free rate and the volatility."
   ]
  },
  {
   "cell_type": "code",
   "execution_count": 7,
   "id": "30b7ae31-4ac0-40fa-a0df-77bb66a98e00",
   "metadata": {},
   "outputs": [],
   "source": [
    "riskFreeCurve = ql.FlatForward(\n",
    "    0, ql.TARGET(), ql.QuoteHandle(r), ql.Actual360()\n",
    ")\n",
    "volatility = ql.BlackConstantVol(\n",
    "    0, ql.TARGET(), ql.QuoteHandle(σ), ql.Actual360()\n",
    ")"
   ]
  },
  {
   "cell_type": "markdown",
   "id": "23f9046f-608f-461e-9406-817d211feb40",
   "metadata": {},
   "source": [
    "Now we can instantiate the process with the underlying value and the curves we just built. The inputs are all stored into handles, so that we could change the quotes and curves used if we wanted. I’ll skip over this for the time being."
   ]
  },
  {
   "cell_type": "code",
   "execution_count": 11,
   "id": "014b8def-dedd-47ee-bd1a-81a6ba8752b6",
   "metadata": {},
   "outputs": [],
   "source": [
    "process = ql.BlackScholesProcess(\n",
    "    ql.QuoteHandle(u),\n",
    "    ql.YieldTermStructureHandle(riskFreeCurve),\n",
    "    ql.BlackVolTermStructureHandle(volatility),\n",
    ")"
   ]
  },
  {
   "cell_type": "markdown",
   "id": "2e989ca6-8b1e-40ba-9b3c-f33ebda9f608",
   "metadata": {},
   "source": [
    "Once we have the process, we can finally use it to build the engine…"
   ]
  },
  {
   "cell_type": "code",
   "execution_count": 13,
   "id": "3bd921d1-8df3-462f-86b7-01348c3d20c8",
   "metadata": {},
   "outputs": [],
   "source": [
    "engine = ql.AnalyticEuropeanEngine(process)"
   ]
  },
  {
   "cell_type": "markdown",
   "id": "aa26e768-60d3-470d-ac08-afac9e3fab48",
   "metadata": {},
   "source": [
    "…and once we have the engine, we can set it to the option and evaluate the latter."
   ]
  },
  {
   "cell_type": "code",
   "execution_count": 15,
   "id": "a0663ddf-56ed-4d68-b5d8-cfaa39cbea2a",
   "metadata": {},
   "outputs": [],
   "source": [
    "option.setPricingEngine(engine)"
   ]
  },
  {
   "cell_type": "code",
   "execution_count": 17,
   "id": "88eab944-f207-4f77-821e-9c8d072f58f6",
   "metadata": {},
   "outputs": [
    {
     "name": "stdout",
     "output_type": "stream",
     "text": [
      "4.155543462156206\n"
     ]
    }
   ],
   "source": [
    "print(option.NPV())"
   ]
  },
  {
   "cell_type": "markdown",
   "id": "e44870b0-5c82-46e0-8c5d-21b99c7d4d0c",
   "metadata": {},
   "source": [
    "Depending on the instrument and the engine, we can also ask for other results; in this case, we can ask for Greeks."
   ]
  },
  {
   "cell_type": "code",
   "execution_count": 19,
   "id": "638a35c3-eee9-4167-b00f-e62e0f50265e",
   "metadata": {},
   "outputs": [
    {
     "name": "stdout",
     "output_type": "stream",
     "text": [
      "0.5302223303784392\n",
      "0.03934493301271913\n",
      "20.109632428723106\n"
     ]
    }
   ],
   "source": [
    "print(option.delta())\n",
    "print(option.gamma())\n",
    "print(option.vega())"
   ]
  },
  {
   "cell_type": "markdown",
   "id": "d801261a-fc6e-4269-be39-e0f419a24c6a",
   "metadata": {},
   "source": [
    "# Market changes\n",
    "\n",
    "As I mentioned, market data are stored in Quote instances and thus can notify the option when any of them changes. We don’t have to do anything explicitly to tell the option to recalculate: once we set a new value to the underlying, we can simply ask the option for its NPV again and we’ll get the updated value."
   ]
  },
  {
   "cell_type": "code",
   "execution_count": 21,
   "id": "2fd16ae7-92cd-44c2-91b3-5d54fc9e6aee",
   "metadata": {},
   "outputs": [
    {
     "name": "stdout",
     "output_type": "stream",
     "text": [
      "7.27556357927846\n"
     ]
    }
   ],
   "source": [
    "u.setValue(105.0)\n",
    "print(option.NPV())"
   ]
  },
  {
   "cell_type": "markdown",
   "id": "13fc0e71-44ff-450a-bfde-6e1cd768f158",
   "metadata": {},
   "source": [
    "Other market data also affect the value, of course."
   ]
  },
  {
   "cell_type": "code",
   "execution_count": 23,
   "id": "50254e34-c262-45a9-9c98-c429aaf92a62",
   "metadata": {},
   "outputs": [
    {
     "name": "stdout",
     "output_type": "stream",
     "text": [
      "7.448878025811257\n"
     ]
    }
   ],
   "source": [
    "r.setValue(0.02)\n",
    "print(option.NPV())"
   ]
  },
  {
   "cell_type": "code",
   "execution_count": 25,
   "id": "c73a9b01-a6f0-4586-afb8-455183d68f34",
   "metadata": {},
   "outputs": [
    {
     "name": "stdout",
     "output_type": "stream",
     "text": [
      "6.596556078273312\n"
     ]
    }
   ],
   "source": [
    "σ.setValue(0.15)\n",
    "print(option.NPV())"
   ]
  },
  {
   "cell_type": "markdown",
   "id": "c6290f92-1361-4c75-83cc-05fba220c520",
   "metadata": {},
   "source": [
    "# Date changes\n",
    "\n",
    "Just as it does when inputs are modified, the value also changes if we advance the evaluation date. Let’s look first at the value of the option when its underlying is worth 105 and there’s still three months to exercise…"
   ]
  },
  {
   "cell_type": "code",
   "execution_count": 27,
   "id": "303a23b6-1ecd-4fbc-b518-7b7ab92737aa",
   "metadata": {},
   "outputs": [
    {
     "name": "stdout",
     "output_type": "stream",
     "text": [
      "7.27556357927846\n"
     ]
    }
   ],
   "source": [
    "u.setValue(105.0)\n",
    "r.setValue(0.01)\n",
    "σ.setValue(0.20)\n",
    "print(option.NPV())"
   ]
  },
  {
   "cell_type": "markdown",
   "id": "97b2cc0b-9505-402a-8cc0-32834f66ea86",
   "metadata": {},
   "source": [
    "…and then move to a date two months before exercise."
   ]
  },
  {
   "cell_type": "code",
   "execution_count": 29,
   "id": "4bb00c31-b2a3-406a-ab3c-8a31efbacce7",
   "metadata": {},
   "outputs": [],
   "source": [
    "ql.Settings.instance().evaluationDate = ql.Date(7, ql.April, 2024)"
   ]
  },
  {
   "cell_type": "markdown",
   "id": "41e1c7e8-c357-4e69-8767-61a529efa298",
   "metadata": {},
   "source": [
    "Again, we don’t have to do anything explicitly: we just ask the option for its value, and we see that it has decreased as expected."
   ]
  },
  {
   "cell_type": "code",
   "execution_count": 31,
   "id": "8caafa31-8e74-4d5a-a83c-819b0e74e84f",
   "metadata": {},
   "outputs": [
    {
     "name": "stdout",
     "output_type": "stream",
     "text": [
      "6.535204576446796\n"
     ]
    }
   ],
   "source": [
    "print(option.NPV())"
   ]
  },
  {
   "cell_type": "markdown",
   "id": "ab2cfa71-08c9-4905-9ee6-9d07876aeac4",
   "metadata": {},
   "source": [
    "# A note on the option value on its exercise date\n",
    "In the default library configuration, the instrument is considered to have expired when it reaches the exercise date, so its returned value goes down to 0."
   ]
  },
  {
   "cell_type": "code",
   "execution_count": 33,
   "id": "c32748b9-4468-4e98-954a-781e105140cc",
   "metadata": {},
   "outputs": [],
   "source": [
    "ql.Settings.instance().evaluationDate = ql.Date(7, ql.June, 2024)"
   ]
  },
  {
   "cell_type": "code",
   "execution_count": 35,
   "id": "c73c62e1-8092-41ce-a3fb-6a7edb8d02cb",
   "metadata": {},
   "outputs": [
    {
     "name": "stdout",
     "output_type": "stream",
     "text": [
      "0.0\n"
     ]
    }
   ],
   "source": [
    "print(option.NPV())"
   ]
  },
  {
   "cell_type": "markdown",
   "id": "d55b2822-95ea-4da5-80c9-a7f0a3a2f55d",
   "metadata": {},
   "source": [
    "It’s possible to tweak the configuration so that the instrument is still considered alive."
   ]
  },
  {
   "cell_type": "code",
   "execution_count": 37,
   "id": "711b74e1-db3d-44df-95fd-d2f509dface8",
   "metadata": {},
   "outputs": [],
   "source": [
    "ql.Settings.instance().includeReferenceDateEvents = True"
   ]
  },
  {
   "cell_type": "markdown",
   "id": "cdd67801-3c85-4540-98df-fe63bd709b5e",
   "metadata": {},
   "source": [
    "The above changes the settings, but doesn’t send a notification to the instrument so we need to trigger an explicit recalculation. Normally, though, one would change the setting at the start of one’s program so this step would be unnecessary."
   ]
  },
  {
   "cell_type": "code",
   "execution_count": 39,
   "id": "ccddb5f2-71cb-47ce-a79d-24d8e817440d",
   "metadata": {},
   "outputs": [
    {
     "name": "stdout",
     "output_type": "stream",
     "text": [
      "5.0\n"
     ]
    }
   ],
   "source": [
    "option.recalculate()\n",
    "\n",
    "print(option.NPV())"
   ]
  },
  {
   "cell_type": "markdown",
   "id": "220966a2-347d-4db0-8594-9e2c3c813cdd",
   "metadata": {},
   "source": [
    "However, this is not guaranteed to work for all pricing engines, since each one must manage this case specifically; and even when they return a price, they are not guaranteed to return meaningful values for all available results. For instance, at the time of this writing, the cell below will print two NaNs; if it doesn’t, please send me a line so I can update this text."
   ]
  },
  {
   "cell_type": "code",
   "execution_count": 41,
   "id": "7b53946d-48f4-4db3-8e5e-65db0495d7de",
   "metadata": {},
   "outputs": [
    {
     "name": "stdout",
     "output_type": "stream",
     "text": [
      "nan\n",
      "nan\n"
     ]
    }
   ],
   "source": [
    "print(option.delta())\n",
    "print(option.vega())"
   ]
  },
  {
   "cell_type": "markdown",
   "id": "41e83a9f-7f5b-491c-bc04-a5f50bb5dd7d",
   "metadata": {},
   "source": [
    "# Other pricing methods\n",
    "\n",
    "As I mentioned, the instrument machinery allows us to use different pricing methods. For comparison, I’ll first set the input data back to what they were previously and output the Black-Scholes price."
   ]
  },
  {
   "cell_type": "code",
   "execution_count": 43,
   "id": "ec220e7d-f01e-4260-85c9-6dcc4a6bc9be",
   "metadata": {},
   "outputs": [],
   "source": [
    "ql.Settings.instance().evaluationDate = today\n",
    "u.setValue(105.0)\n",
    "r.setValue(0.01)\n",
    "σ.setValue(0.20)"
   ]
  },
  {
   "cell_type": "code",
   "execution_count": 45,
   "id": "ae8a1763-4b73-43e7-a0ea-32107b55aa72",
   "metadata": {},
   "outputs": [
    {
     "name": "stdout",
     "output_type": "stream",
     "text": [
      "7.27556357927846\n"
     ]
    }
   ],
   "source": [
    "print(option.NPV())"
   ]
  },
  {
   "cell_type": "markdown",
   "id": "1fa0c78f-d420-4862-9adf-5489cb9ea1be",
   "metadata": {},
   "source": [
    "Let’s say that we want to use a Heston model to price the option. What we have to do is to instantiate the corresponding class with the desired inputs (here I’ll skip the calibration and pass precalculated parameters)…"
   ]
  },
  {
   "cell_type": "code",
   "execution_count": 47,
   "id": "f4b05fa2-579a-4917-b6af-6cbbede0392a",
   "metadata": {},
   "outputs": [],
   "source": [
    "model = ql.HestonModel(\n",
    "    ql.HestonProcess(\n",
    "        ql.YieldTermStructureHandle(riskFreeCurve),\n",
    "        ql.YieldTermStructureHandle(\n",
    "            ql.FlatForward(0, ql.TARGET(), 0.0, ql.Actual360())\n",
    "        ),\n",
    "        ql.QuoteHandle(u),\n",
    "        0.04,\n",
    "        0.1,\n",
    "        0.01,\n",
    "        0.05,\n",
    "        -0.75,\n",
    "    )\n",
    ")"
   ]
  },
  {
   "cell_type": "markdown",
   "id": "eb4d1ded-e2f9-4baa-b12d-48e9579259ce",
   "metadata": {},
   "source": [
    "…pass it to the corresponding engine, and set the new engine to the option."
   ]
  },
  {
   "cell_type": "code",
   "execution_count": 49,
   "id": "3869eb7d-1652-433a-8b14-ec0450f30ad1",
   "metadata": {},
   "outputs": [],
   "source": [
    "engine = ql.AnalyticHestonEngine(model)\n",
    "option.setPricingEngine(engine)"
   ]
  },
  {
   "cell_type": "markdown",
   "id": "61ba7d9c-4dfe-4bf6-b1a3-1b10359208c8",
   "metadata": {},
   "source": [
    "Asking the option for its NPV will now return the value according to the new model."
   ]
  },
  {
   "cell_type": "code",
   "execution_count": 51,
   "id": "5e04e0f6-3367-4fc0-ac5f-9494a4651f18",
   "metadata": {},
   "outputs": [
    {
     "name": "stdout",
     "output_type": "stream",
     "text": [
      "7.295356086978635\n"
     ]
    }
   ],
   "source": [
    "print(option.NPV())"
   ]
  },
  {
   "cell_type": "markdown",
   "id": "f3ec894c-7aac-4ac7-940e-d1ae5e493a53",
   "metadata": {},
   "source": [
    "# Lazy recalculation\n",
    "\n",
    "One last thing. Up to now, we haven’t really seen evidence of notifications going around. After all, the instrument might just have recalculated its value every time we asked it, regardless of notifications. What I’m going to show, instead, is that the option doesn’t just recalculate every time anything changes; it also avoids recalculations when nothing has changed.\n",
    "\n",
    "We’ll switch to a Monte Carlo engine, which takes a few seconds to run the required simulation."
   ]
  },
  {
   "cell_type": "code",
   "execution_count": 53,
   "id": "f18110c4-1ba5-400b-b67d-3fc93904107e",
   "metadata": {},
   "outputs": [],
   "source": [
    "engine = ql.MCEuropeanEngine(\n",
    "    process, \"PseudoRandom\", timeSteps=20, requiredSamples=500_000\n",
    ")\n",
    "option.setPricingEngine(engine)"
   ]
  },
  {
   "cell_type": "markdown",
   "id": "bb6ef25a-3860-4597-a2a4-151749d3fd19",
   "metadata": {},
   "source": [
    "When we ask for the option value, we have to wait a noticeable time for the calculation to finish (for those of you reading this in a non-interactive way, I’ll also have the notebook output the time)…"
   ]
  },
  {
   "cell_type": "code",
   "execution_count": 55,
   "id": "d8ba66f3-40aa-417a-8ba4-3652d0902c19",
   "metadata": {},
   "outputs": [
    {
     "name": "stdout",
     "output_type": "stream",
     "text": [
      "7.265651518182009\n",
      "CPU times: user 2.36 s, sys: 45.1 ms, total: 2.41 s\n",
      "Wall time: 2.42 s\n"
     ]
    }
   ],
   "source": [
    "%time print(option.NPV())"
   ]
  },
  {
   "cell_type": "markdown",
   "id": "0c1a09c5-62c4-4319-b968-c3fc11464b42",
   "metadata": {},
   "source": [
    "…but a second call to the NPV method will be instantaneous when made before anything changes. In this case, the option didn’t calculate its value; it just returned the result that it cached from the previous call."
   ]
  },
  {
   "cell_type": "code",
   "execution_count": 57,
   "id": "2034f003-6b71-4104-8d55-b04c63cdd7af",
   "metadata": {},
   "outputs": [
    {
     "name": "stdout",
     "output_type": "stream",
     "text": [
      "7.265651518182009\n",
      "CPU times: user 585 μs, sys: 476 μs, total: 1.06 ms\n",
      "Wall time: 693 μs\n"
     ]
    }
   ],
   "source": [
    "%time print(option.NPV())"
   ]
  },
  {
   "cell_type": "markdown",
   "id": "7d7c4ba0-ce63-438b-9ead-cd56e82e5e0d",
   "metadata": {},
   "source": [
    "If we change anything (e.g., the underlying value)…"
   ]
  },
  {
   "cell_type": "code",
   "execution_count": 59,
   "id": "0dbc37f8-2cd0-4264-98d3-d15e9a60e47e",
   "metadata": {},
   "outputs": [],
   "source": [
    "u.setValue(104.0)"
   ]
  },
  {
   "cell_type": "markdown",
   "id": "cb761039-1f1e-4c40-b933-c91024373a06",
   "metadata": {},
   "source": [
    "…the option is notified of the change, and the next call to NPV will again take a while."
   ]
  },
  {
   "cell_type": "code",
   "execution_count": 61,
   "id": "37ff25ee-ddff-414f-abc1-b959f411be9e",
   "metadata": {},
   "outputs": [
    {
     "data": {
      "text/plain": [
       "<QuantLib.QuantLib.EuropeanOption; proxy of <Swig Object of type 'ext::shared_ptr< EuropeanOption > *' at 0x10d1bd3e0> >"
      ]
     },
     "execution_count": 61,
     "metadata": {},
     "output_type": "execute_result"
    }
   ],
   "source": [
    "option"
   ]
  },
  {
   "cell_type": "code",
   "execution_count": 63,
   "id": "f0a318c0-87a0-4799-8b39-74162a81556e",
   "metadata": {},
   "outputs": [
    {
     "data": {
      "text/plain": [
       "<bound method OneAssetOption.delta of <QuantLib.QuantLib.EuropeanOption; proxy of <Swig Object of type 'ext::shared_ptr< EuropeanOption > *' at 0x10d1bd3e0> >>"
      ]
     },
     "execution_count": 63,
     "metadata": {},
     "output_type": "execute_result"
    }
   ],
   "source": [
    "option.delta"
   ]
  },
  {
   "cell_type": "code",
   "execution_count": null,
   "id": "4b332ce9-6b1c-4670-a1a2-b3cff4811fa8",
   "metadata": {},
   "outputs": [],
   "source": []
  }
 ],
 "metadata": {
  "kernelspec": {
   "display_name": "Python 3 (ipykernel)",
   "language": "python",
   "name": "python3"
  },
  "language_info": {
   "codemirror_mode": {
    "name": "ipython",
    "version": 3
   },
   "file_extension": ".py",
   "mimetype": "text/x-python",
   "name": "python",
   "nbconvert_exporter": "python",
   "pygments_lexer": "ipython3",
   "version": "3.12.4"
  }
 },
 "nbformat": 4,
 "nbformat_minor": 5
}
