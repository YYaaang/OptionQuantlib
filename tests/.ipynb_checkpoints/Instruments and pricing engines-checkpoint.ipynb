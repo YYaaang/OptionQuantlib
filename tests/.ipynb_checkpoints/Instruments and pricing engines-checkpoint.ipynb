{
 "cells": [
  {
   "cell_type": "code",
   "execution_count": 1,
   "id": "80aeaf5b-6329-4651-b86a-c955353fd5dc",
   "metadata": {},
   "outputs": [],
   "source": [
    "import QuantLib as ql\n",
    "\n",
    "today = ql.Date(7, ql.March, 2024)\n",
    "ql.Settings.instance().evaluationDate = today"
   ]
  },
  {
   "cell_type": "code",
   "execution_count": 3,
   "id": "d32e6736-8dd3-42a7-a865-e16422e19314",
   "metadata": {},
   "outputs": [],
   "source": [
    "option = ql.EuropeanOption(\n",
    "    ql.PlainVanillaPayoff(ql.Option.Call, 100.0),\n",
    "    ql.EuropeanExercise(ql.Date(7, ql.June, 2024)),\n",
    ")"
   ]
  },
  {
   "cell_type": "code",
   "execution_count": 5,
   "id": "10fdca60-3a63-4901-b465-de1f8b452325",
   "metadata": {},
   "outputs": [],
   "source": [
    "u = ql.SimpleQuote(100.0)\n",
    "r = ql.SimpleQuote(0.01)\n",
    "σ = ql.SimpleQuote(0.20)"
   ]
  },
  {
   "cell_type": "code",
   "execution_count": 7,
   "id": "30b7ae31-4ac0-40fa-a0df-77bb66a98e00",
   "metadata": {},
   "outputs": [],
   "source": [
    "riskFreeCurve = ql.FlatForward(\n",
    "    0, ql.TARGET(), ql.QuoteHandle(r), ql.Actual360()\n",
    ")\n",
    "volatility = ql.BlackConstantVol(\n",
    "    0, ql.TARGET(), ql.QuoteHandle(σ), ql.Actual360()\n",
    ")"
   ]
  },
  {
   "cell_type": "code",
   "execution_count": 11,
   "id": "014b8def-dedd-47ee-bd1a-81a6ba8752b6",
   "metadata": {},
   "outputs": [],
   "source": [
    "process = ql.BlackScholesProcess(\n",
    "    ql.QuoteHandle(u),\n",
    "    ql.YieldTermStructureHandle(riskFreeCurve),\n",
    "    ql.BlackVolTermStructureHandle(volatility),\n",
    ")"
   ]
  },
  {
   "cell_type": "code",
   "execution_count": 13,
   "id": "3bd921d1-8df3-462f-86b7-01348c3d20c8",
   "metadata": {},
   "outputs": [],
   "source": [
    "engine = ql.AnalyticEuropeanEngine(process)"
   ]
  },
  {
   "cell_type": "code",
   "execution_count": 15,
   "id": "a0663ddf-56ed-4d68-b5d8-cfaa39cbea2a",
   "metadata": {},
   "outputs": [],
   "source": [
    "option.setPricingEngine(engine)"
   ]
  },
  {
   "cell_type": "code",
   "execution_count": 17,
   "id": "88eab944-f207-4f77-821e-9c8d072f58f6",
   "metadata": {},
   "outputs": [
    {
     "name": "stdout",
     "output_type": "stream",
     "text": [
      "4.155543462156206\n"
     ]
    }
   ],
   "source": [
    "print(option.NPV())"
   ]
  },
  {
   "cell_type": "code",
   "execution_count": 19,
   "id": "638a35c3-eee9-4167-b00f-e62e0f50265e",
   "metadata": {},
   "outputs": [
    {
     "name": "stdout",
     "output_type": "stream",
     "text": [
      "0.5302223303784392\n",
      "0.03934493301271913\n",
      "20.109632428723106\n"
     ]
    }
   ],
   "source": [
    "print(option.delta())\n",
    "print(option.gamma())\n",
    "print(option.vega())"
   ]
  },
  {
   "cell_type": "code",
   "execution_count": 21,
   "id": "2fd16ae7-92cd-44c2-91b3-5d54fc9e6aee",
   "metadata": {},
   "outputs": [
    {
     "name": "stdout",
     "output_type": "stream",
     "text": [
      "7.27556357927846\n"
     ]
    }
   ],
   "source": [
    "u.setValue(105.0)\n",
    "print(option.NPV())"
   ]
  },
  {
   "cell_type": "code",
   "execution_count": 23,
   "id": "50254e34-c262-45a9-9c98-c429aaf92a62",
   "metadata": {},
   "outputs": [
    {
     "name": "stdout",
     "output_type": "stream",
     "text": [
      "7.448878025811257\n"
     ]
    }
   ],
   "source": [
    "r.setValue(0.02)\n",
    "print(option.NPV())"
   ]
  },
  {
   "cell_type": "code",
   "execution_count": 25,
   "id": "c73a9b01-a6f0-4586-afb8-455183d68f34",
   "metadata": {},
   "outputs": [
    {
     "name": "stdout",
     "output_type": "stream",
     "text": [
      "6.596556078273312\n"
     ]
    }
   ],
   "source": [
    "σ.setValue(0.15)\n",
    "print(option.NPV())"
   ]
  },
  {
   "cell_type": "code",
   "execution_count": 27,
   "id": "303a23b6-1ecd-4fbc-b518-7b7ab92737aa",
   "metadata": {},
   "outputs": [
    {
     "name": "stdout",
     "output_type": "stream",
     "text": [
      "7.27556357927846\n"
     ]
    }
   ],
   "source": [
    "u.setValue(105.0)\n",
    "r.setValue(0.01)\n",
    "σ.setValue(0.20)\n",
    "print(option.NPV())"
   ]
  },
  {
   "cell_type": "code",
   "execution_count": 29,
   "id": "4bb00c31-b2a3-406a-ab3c-8a31efbacce7",
   "metadata": {},
   "outputs": [],
   "source": [
    "ql.Settings.instance().evaluationDate = ql.Date(7, ql.April, 2024)"
   ]
  },
  {
   "cell_type": "code",
   "execution_count": 31,
   "id": "8caafa31-8e74-4d5a-a83c-819b0e74e84f",
   "metadata": {},
   "outputs": [
    {
     "name": "stdout",
     "output_type": "stream",
     "text": [
      "6.535204576446796\n"
     ]
    }
   ],
   "source": [
    "print(option.NPV())"
   ]
  },
  {
   "cell_type": "code",
   "execution_count": 33,
   "id": "c32748b9-4468-4e98-954a-781e105140cc",
   "metadata": {},
   "outputs": [],
   "source": [
    "ql.Settings.instance().evaluationDate = ql.Date(7, ql.June, 2024)"
   ]
  },
  {
   "cell_type": "code",
   "execution_count": 35,
   "id": "c73c62e1-8092-41ce-a3fb-6a7edb8d02cb",
   "metadata": {},
   "outputs": [
    {
     "name": "stdout",
     "output_type": "stream",
     "text": [
      "0.0\n"
     ]
    }
   ],
   "source": [
    "print(option.NPV())"
   ]
  },
  {
   "cell_type": "code",
   "execution_count": 37,
   "id": "711b74e1-db3d-44df-95fd-d2f509dface8",
   "metadata": {},
   "outputs": [],
   "source": [
    "ql.Settings.instance().includeReferenceDateEvents = True"
   ]
  },
  {
   "cell_type": "code",
   "execution_count": 39,
   "id": "ccddb5f2-71cb-47ce-a79d-24d8e817440d",
   "metadata": {},
   "outputs": [
    {
     "name": "stdout",
     "output_type": "stream",
     "text": [
      "5.0\n"
     ]
    }
   ],
   "source": [
    "option.recalculate()\n",
    "\n",
    "print(option.NPV())"
   ]
  },
  {
   "cell_type": "code",
   "execution_count": 41,
   "id": "7b53946d-48f4-4db3-8e5e-65db0495d7de",
   "metadata": {},
   "outputs": [
    {
     "name": "stdout",
     "output_type": "stream",
     "text": [
      "nan\n",
      "nan\n"
     ]
    }
   ],
   "source": [
    "print(option.delta())\n",
    "print(option.vega())"
   ]
  },
  {
   "cell_type": "code",
   "execution_count": 43,
   "id": "ec220e7d-f01e-4260-85c9-6dcc4a6bc9be",
   "metadata": {},
   "outputs": [],
   "source": [
    "ql.Settings.instance().evaluationDate = today\n",
    "u.setValue(105.0)\n",
    "r.setValue(0.01)\n",
    "σ.setValue(0.20)"
   ]
  },
  {
   "cell_type": "code",
   "execution_count": 45,
   "id": "ae8a1763-4b73-43e7-a0ea-32107b55aa72",
   "metadata": {},
   "outputs": [
    {
     "name": "stdout",
     "output_type": "stream",
     "text": [
      "7.27556357927846\n"
     ]
    }
   ],
   "source": [
    "print(option.NPV())"
   ]
  },
  {
   "cell_type": "code",
   "execution_count": 47,
   "id": "f4b05fa2-579a-4917-b6af-6cbbede0392a",
   "metadata": {},
   "outputs": [],
   "source": [
    "model = ql.HestonModel(\n",
    "    ql.HestonProcess(\n",
    "        ql.YieldTermStructureHandle(riskFreeCurve),\n",
    "        ql.YieldTermStructureHandle(\n",
    "            ql.FlatForward(0, ql.TARGET(), 0.0, ql.Actual360())\n",
    "        ),\n",
    "        ql.QuoteHandle(u),\n",
    "        0.04,\n",
    "        0.1,\n",
    "        0.01,\n",
    "        0.05,\n",
    "        -0.75,\n",
    "    )\n",
    ")"
   ]
  },
  {
   "cell_type": "code",
   "execution_count": 49,
   "id": "3869eb7d-1652-433a-8b14-ec0450f30ad1",
   "metadata": {},
   "outputs": [],
   "source": [
    "engine = ql.AnalyticHestonEngine(model)\n",
    "option.setPricingEngine(engine)"
   ]
  },
  {
   "cell_type": "code",
   "execution_count": 51,
   "id": "5e04e0f6-3367-4fc0-ac5f-9494a4651f18",
   "metadata": {},
   "outputs": [
    {
     "name": "stdout",
     "output_type": "stream",
     "text": [
      "7.295356086978635\n"
     ]
    }
   ],
   "source": [
    "print(option.NPV())"
   ]
  },
  {
   "cell_type": "code",
   "execution_count": 53,
   "id": "f18110c4-1ba5-400b-b67d-3fc93904107e",
   "metadata": {},
   "outputs": [],
   "source": [
    "engine = ql.MCEuropeanEngine(\n",
    "    process, \"PseudoRandom\", timeSteps=20, requiredSamples=500_000\n",
    ")\n",
    "option.setPricingEngine(engine)"
   ]
  },
  {
   "cell_type": "code",
   "execution_count": 55,
   "id": "d8ba66f3-40aa-417a-8ba4-3652d0902c19",
   "metadata": {},
   "outputs": [
    {
     "name": "stdout",
     "output_type": "stream",
     "text": [
      "7.265651518182009\n",
      "CPU times: user 2.36 s, sys: 45.1 ms, total: 2.41 s\n",
      "Wall time: 2.42 s\n"
     ]
    }
   ],
   "source": [
    "%time print(option.NPV())"
   ]
  },
  {
   "cell_type": "code",
   "execution_count": 57,
   "id": "2034f003-6b71-4104-8d55-b04c63cdd7af",
   "metadata": {},
   "outputs": [
    {
     "name": "stdout",
     "output_type": "stream",
     "text": [
      "7.265651518182009\n",
      "CPU times: user 585 μs, sys: 476 μs, total: 1.06 ms\n",
      "Wall time: 693 μs\n"
     ]
    }
   ],
   "source": [
    "%time print(option.NPV())"
   ]
  },
  {
   "cell_type": "code",
   "execution_count": 59,
   "id": "0dbc37f8-2cd0-4264-98d3-d15e9a60e47e",
   "metadata": {},
   "outputs": [],
   "source": [
    "u.setValue(104.0)"
   ]
  },
  {
   "cell_type": "code",
   "execution_count": 61,
   "id": "37ff25ee-ddff-414f-abc1-b959f411be9e",
   "metadata": {},
   "outputs": [
    {
     "data": {
      "text/plain": [
       "<QuantLib.QuantLib.EuropeanOption; proxy of <Swig Object of type 'ext::shared_ptr< EuropeanOption > *' at 0x10d1bd3e0> >"
      ]
     },
     "execution_count": 61,
     "metadata": {},
     "output_type": "execute_result"
    }
   ],
   "source": [
    "option"
   ]
  },
  {
   "cell_type": "code",
   "execution_count": 63,
   "id": "f0a318c0-87a0-4799-8b39-74162a81556e",
   "metadata": {},
   "outputs": [
    {
     "data": {
      "text/plain": [
       "<bound method OneAssetOption.delta of <QuantLib.QuantLib.EuropeanOption; proxy of <Swig Object of type 'ext::shared_ptr< EuropeanOption > *' at 0x10d1bd3e0> >>"
      ]
     },
     "execution_count": 63,
     "metadata": {},
     "output_type": "execute_result"
    }
   ],
   "source": [
    "option.delta"
   ]
  },
  {
   "cell_type": "code",
   "execution_count": null,
   "id": "4b332ce9-6b1c-4670-a1a2-b3cff4811fa8",
   "metadata": {},
   "outputs": [],
   "source": []
  }
 ],
 "metadata": {
  "kernelspec": {
   "display_name": "Python 3 (ipykernel)",
   "language": "python",
   "name": "python3"
  },
  "language_info": {
   "codemirror_mode": {
    "name": "ipython",
    "version": 3
   },
   "file_extension": ".py",
   "mimetype": "text/x-python",
   "name": "python",
   "nbconvert_exporter": "python",
   "pygments_lexer": "ipython3",
   "version": "3.12.4"
  }
 },
 "nbformat": 4,
 "nbformat_minor": 5
}
