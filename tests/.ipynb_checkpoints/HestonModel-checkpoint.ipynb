{
 "cells": [
  {
   "cell_type": "code",
   "execution_count": 2,
   "id": "c38aa9dd-d5da-4ece-a330-65c889c7a2ef",
   "metadata": {},
   "outputs": [],
   "source": [
    "import QuantLib as ql\n",
    "import pandas as pd"
   ]
  },
  {
   "cell_type": "code",
   "execution_count": 4,
   "id": "a2b194c6-ab03-4fd0-b77d-1be2198f16f6",
   "metadata": {},
   "outputs": [],
   "source": [
    "today = ql.Date().todaysDate()\n",
    "riskFreeTS = ql.YieldTermStructureHandle(ql.FlatForward(today, 0.05, ql.Actual365Fixed()))\n",
    "dividendTS = ql.YieldTermStructureHandle(ql.FlatForward(today, 0.01, ql.Actual365Fixed()))\n",
    "\n",
    "initialValue = ql.QuoteHandle(ql.SimpleQuote(100))\n",
    "\n",
    "v0 = 0.005\n",
    "theta = 0.010\n",
    "kappa = 0.600\n",
    "sigma = 0.400\n",
    "rho = -0.15\n",
    "\n",
    "hestonProcess = ql.HestonProcess(riskFreeTS, dividendTS, initialValue, v0, kappa, theta, sigma, rho)\n",
    "hestonModel = ql.HestonModel(hestonProcess)"
   ]
  },
  {
   "cell_type": "code",
   "execution_count": 6,
   "id": "990d63e8-f964-4960-9d0d-6b2b22537dc8",
   "metadata": {},
   "outputs": [
    {
     "data": {
      "text/plain": [
       "Date(12,5,2025)"
      ]
     },
     "execution_count": 6,
     "metadata": {},
     "output_type": "execute_result"
    }
   ],
   "source": [
    "today"
   ]
  },
  {
   "cell_type": "code",
   "execution_count": 8,
   "id": "38e8bb04-5f6b-4993-9873-ef7d4478838c",
   "metadata": {},
   "outputs": [
    {
     "data": {
      "text/plain": [
       "<QuantLib.QuantLib.HestonModel; proxy of <Swig Object of type 'ext::shared_ptr< HestonModel > *' at 0x137d49080> >"
      ]
     },
     "execution_count": 8,
     "metadata": {},
     "output_type": "execute_result"
    }
   ],
   "source": [
    "hestonModel"
   ]
  },
  {
   "cell_type": "code",
   "execution_count": null,
   "id": "2cbbb056-c6b0-4482-99c3-bda058c9df53",
   "metadata": {},
   "outputs": [],
   "source": []
  }
 ],
 "metadata": {
  "kernelspec": {
   "display_name": "Python 3 (ipykernel)",
   "language": "python",
   "name": "python3"
  },
  "language_info": {
   "codemirror_mode": {
    "name": "ipython",
    "version": 3
   },
   "file_extension": ".py",
   "mimetype": "text/x-python",
   "name": "python",
   "nbconvert_exporter": "python",
   "pygments_lexer": "ipython3",
   "version": "3.12.4"
  }
 },
 "nbformat": 4,
 "nbformat_minor": 5
}
