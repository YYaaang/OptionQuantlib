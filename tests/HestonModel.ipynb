{
 "cells": [
  {
   "cell_type": "code",
   "execution_count": 2,
   "id": "c38aa9dd-d5da-4ece-a330-65c889c7a2ef",
   "metadata": {},
   "outputs": [],
   "source": [
    "import QuantLib as ql\n",
    "import pandas as pd"
   ]
  },
  {
   "cell_type": "code",
   "execution_count": 12,
   "id": "a2b194c6-ab03-4fd0-b77d-1be2198f16f6",
   "metadata": {},
   "outputs": [],
   "source": [
    "today = ql.Date(2, ql.May, 2024)\n",
    "ql.Settings.instance().evaluationDate = today"
   ]
  },
  {
   "cell_type": "code",
   "execution_count": 14,
   "id": "990d63e8-f964-4960-9d0d-6b2b22537dc8",
   "metadata": {},
   "outputs": [
    {
     "data": {
      "text/plain": [
       "Date(2,5,2024)"
      ]
     },
     "execution_count": 14,
     "metadata": {},
     "output_type": "execute_result"
    }
   ],
   "source": [
    "today"
   ]
  },
  {
   "cell_type": "code",
   "execution_count": 16,
   "id": "38e8bb04-5f6b-4993-9873-ef7d4478838c",
   "metadata": {},
   "outputs": [],
   "source": [
    "schedule = ql.Schedule(\n",
    "    ql.Date(8, ql.February, 2023),\n",
    "    ql.Date(8, ql.February, 2028),\n",
    "    ql.Period(6, ql.Months),\n",
    "    ql.TARGET(),\n",
    "    ql.Following,\n",
    "    ql.Following,\n",
    "    ql.DateGeneration.Backward,\n",
    "    False,\n",
    ")\n",
    "settlement_days = 3\n",
    "face_amount = 10_000\n",
    "coupons = [0.03]\n",
    "payment_day_counter = ql.Thirty360(ql.Thirty360.BondBasis)\n",
    "\n",
    "bond = ql.FixedRateBond(\n",
    "    settlement_days, face_amount, schedule, coupons, payment_day_counter\n",
    ")"
   ]
  },
  {
   "cell_type": "code",
   "execution_count": 18,
   "id": "2cbbb056-c6b0-4482-99c3-bda058c9df53",
   "metadata": {},
   "outputs": [
    {
     "name": "stdout",
     "output_type": "stream",
     "text": [
      "May 7th, 2024\n"
     ]
    }
   ],
   "source": [
    "print(bond.settlementDate())"
   ]
  },
  {
   "cell_type": "code",
   "execution_count": 20,
   "id": "7deb14a1-c177-4ddb-8520-1c24f9cf4e6c",
   "metadata": {},
   "outputs": [
    {
     "name": "stdout",
     "output_type": "stream",
     "text": [
      "June 3rd, 2027\n"
     ]
    }
   ],
   "source": [
    "print(bond.settlementDate(ql.Date(31, ql.May, 2027)))"
   ]
  },
  {
   "cell_type": "code",
   "execution_count": 22,
   "id": "24e4dca0-3d4e-435a-bd2d-60137cc09b05",
   "metadata": {},
   "outputs": [
    {
     "name": "stdout",
     "output_type": "stream",
     "text": [
      "0.7416666666666627\n"
     ]
    }
   ],
   "source": [
    "print(bond.accruedAmount())"
   ]
  },
  {
   "cell_type": "code",
   "execution_count": 24,
   "id": "3eacea01-f485-453f-b737-1c64d76e61b3",
   "metadata": {},
   "outputs": [
    {
     "name": "stdout",
     "output_type": "stream",
     "text": [
      "0.7583333333333275\n"
     ]
    }
   ],
   "source": [
    "print(bond.accruedAmount(ql.Date(9, ql.May, 2027)))"
   ]
  },
  {
   "cell_type": "code",
   "execution_count": 26,
   "id": "a3a19fee-4dca-4aa2-9f05-e90a85ed6acb",
   "metadata": {},
   "outputs": [
    {
     "name": "stdout",
     "output_type": "stream",
     "text": [
      "0.7416666666666627\n"
     ]
    }
   ],
   "source": [
    "print(bond.accruedAmount(bond.settlementDate()))"
   ]
  },
  {
   "cell_type": "code",
   "execution_count": 28,
   "id": "2dd2edad-e462-44c6-9ad6-90a3fb1a7a01",
   "metadata": {},
   "outputs": [
    {
     "data": {
      "image/png": "[encoded data removed]",
      "text/plain": [
       "<Figure size 900x400 with 1 Axes>"
      ]
     },
     "metadata": {},
     "output_type": "display_data"
    }
   ],
   "source": [
    "dates = [\n",
    "    today + i for i in range(365) if ql.TARGET().isBusinessDay(today + i)\n",
    "]\n",
    "accruals = [bond.accruedAmount(d) for d in dates]\n",
    "\n",
    "from matplotlib import pyplot as plt\n",
    "\n",
    "ax = plt.figure(figsize=(9, 4)).add_subplot(1, 1, 1)\n",
    "ax.plot([d.to_date() for d in dates], accruals, \"-\");"
   ]
  },
  {
   "cell_type": "code",
   "execution_count": 30,
   "id": "e8be9a5a-35aa-494a-b975-bd52efdb0ad7",
   "metadata": {},
   "outputs": [
    {
     "data": {
      "text/html": [
       "<style type=\"text/css\">\n",
       "</style>\n",
       "<table id=\"T_ea398\">\n",
       "  <thead>\n",
       "    <tr>\n",
       "      <th class=\"blank level0\" >&nbsp;</th>\n",
       "      <th id=\"T_ea398_level0_col0\" class=\"col_heading level0 col0\" >date</th>\n",
       "      <th id=\"T_ea398_level0_col1\" class=\"col_heading level0 col1\" >amount</th>\n",
       "    </tr>\n",
       "  </thead>\n",
       "  <tbody>\n",
       "    <tr>\n",
       "      <th id=\"T_ea398_level0_row0\" class=\"row_heading level0 row0\" >1</th>\n",
       "      <td id=\"T_ea398_row0_col0\" class=\"data row0 col0\" >August 8th, 2023</td>\n",
       "      <td id=\"T_ea398_row0_col1\" class=\"data row0 col1\" >150.00</td>\n",
       "    </tr>\n",
       "    <tr>\n",
       "      <th id=\"T_ea398_level0_row1\" class=\"row_heading level0 row1\" >2</th>\n",
       "      <td id=\"T_ea398_row1_col0\" class=\"data row1 col0\" >February 8th, 2024</td>\n",
       "      <td id=\"T_ea398_row1_col1\" class=\"data row1 col1\" >150.00</td>\n",
       "    </tr>\n",
       "    <tr>\n",
       "      <th id=\"T_ea398_level0_row2\" class=\"row_heading level0 row2\" >3</th>\n",
       "      <td id=\"T_ea398_row2_col0\" class=\"data row2 col0\" >August 8th, 2024</td>\n",
       "      <td id=\"T_ea398_row2_col1\" class=\"data row2 col1\" >150.00</td>\n",
       "    </tr>\n",
       "    <tr>\n",
       "      <th id=\"T_ea398_level0_row3\" class=\"row_heading level0 row3\" >4</th>\n",
       "      <td id=\"T_ea398_row3_col0\" class=\"data row3 col0\" >February 10th, 2025</td>\n",
       "      <td id=\"T_ea398_row3_col1\" class=\"data row3 col1\" >151.67</td>\n",
       "    </tr>\n",
       "    <tr>\n",
       "      <th id=\"T_ea398_level0_row4\" class=\"row_heading level0 row4\" >5</th>\n",
       "      <td id=\"T_ea398_row4_col0\" class=\"data row4 col0\" >August 8th, 2025</td>\n",
       "      <td id=\"T_ea398_row4_col1\" class=\"data row4 col1\" >148.33</td>\n",
       "    </tr>\n",
       "    <tr>\n",
       "      <th id=\"T_ea398_level0_row5\" class=\"row_heading level0 row5\" >6</th>\n",
       "      <td id=\"T_ea398_row5_col0\" class=\"data row5 col0\" >February 9th, 2026</td>\n",
       "      <td id=\"T_ea398_row5_col1\" class=\"data row5 col1\" >150.83</td>\n",
       "    </tr>\n",
       "    <tr>\n",
       "      <th id=\"T_ea398_level0_row6\" class=\"row_heading level0 row6\" >7</th>\n",
       "      <td id=\"T_ea398_row6_col0\" class=\"data row6 col0\" >August 10th, 2026</td>\n",
       "      <td id=\"T_ea398_row6_col1\" class=\"data row6 col1\" >150.83</td>\n",
       "    </tr>\n",
       "    <tr>\n",
       "      <th id=\"T_ea398_level0_row7\" class=\"row_heading level0 row7\" >8</th>\n",
       "      <td id=\"T_ea398_row7_col0\" class=\"data row7 col0\" >February 8th, 2027</td>\n",
       "      <td id=\"T_ea398_row7_col1\" class=\"data row7 col1\" >148.33</td>\n",
       "    </tr>\n",
       "    <tr>\n",
       "      <th id=\"T_ea398_level0_row8\" class=\"row_heading level0 row8\" >9</th>\n",
       "      <td id=\"T_ea398_row8_col0\" class=\"data row8 col0\" >August 9th, 2027</td>\n",
       "      <td id=\"T_ea398_row8_col1\" class=\"data row8 col1\" >150.83</td>\n",
       "    </tr>\n",
       "    <tr>\n",
       "      <th id=\"T_ea398_level0_row9\" class=\"row_heading level0 row9\" >10</th>\n",
       "      <td id=\"T_ea398_row9_col0\" class=\"data row9 col0\" >February 8th, 2028</td>\n",
       "      <td id=\"T_ea398_row9_col1\" class=\"data row9 col1\" >149.17</td>\n",
       "    </tr>\n",
       "    <tr>\n",
       "      <th id=\"T_ea398_level0_row10\" class=\"row_heading level0 row10\" >11</th>\n",
       "      <td id=\"T_ea398_row10_col0\" class=\"data row10 col0\" >February 8th, 2028</td>\n",
       "      <td id=\"T_ea398_row10_col1\" class=\"data row10 col1\" >10000.00</td>\n",
       "    </tr>\n",
       "  </tbody>\n",
       "</table>\n"
      ],
      "text/plain": [
       "<pandas.io.formats.style.Styler at 0x138ef3560>"
      ]
     },
     "execution_count": 30,
     "metadata": {},
     "output_type": "execute_result"
    }
   ],
   "source": [
    "pd.DataFrame(\n",
    "    [(c.date(), c.amount()) for c in bond.cashflows()],\n",
    "    columns=(\"date\", \"amount\"),\n",
    "    index=range(1, len(bond.cashflows()) + 1),\n",
    ").style.format({\"amount\": \"{:.2f}\"})"
   ]
  },
  {
   "cell_type": "code",
   "execution_count": 32,
   "id": "f5216aff-ac78-485d-bad8-3be1d6fe822c",
   "metadata": {},
   "outputs": [
    {
     "data": {
      "text/plain": [
       "98.25259209893974"
      ]
     },
     "execution_count": 32,
     "metadata": {},
     "output_type": "execute_result"
    }
   ],
   "source": [
    "bond.cleanPrice(\n",
    "    0.035,\n",
    "    ql.Thirty360(ql.Thirty360.BondBasis),\n",
    "    ql.Compounded,\n",
    "    ql.Semiannual,\n",
    ")"
   ]
  },
  {
   "cell_type": "code",
   "execution_count": null,
   "id": "b937738b-5765-41f6-80c4-1f59a6c89dce",
   "metadata": {},
   "outputs": [],
   "source": []
  }
 ],
 "metadata": {
  "kernelspec": {
   "display_name": "Python 3 (ipykernel)",
   "language": "python",
   "name": "python3"
  },
  "language_info": {
   "codemirror_mode": {
    "name": "ipython",
    "version": 3
   },
   "file_extension": ".py",
   "mimetype": "text/x-python",
   "name": "python",
   "nbconvert_exporter": "python",
   "pygments_lexer": "ipython3",
   "version": "3.12.4"
  }
 },
 "nbformat": 4,
 "nbformat_minor": 5
}
